{
 "cells": [
  {
   "cell_type": "markdown",
   "id": "c2aa66c0-36c4-4aa4-b3e1-8ddf840fadbe",
   "metadata": {},
   "source": [
    "# **Problem Statement**\n",
    "\n",
    "In a competitive market such as the restaurant industry, comprehending the subtleties of the factors Influencing Business Success for stakeholders is crucial. This project seeks to examine the connection between user engagement, like reviews, tips, and check-ins and business success metrics, such as review count and ratings, specifically focusing on restaurants, using the Yelp dataset.\n",
    "\n",
    "# **Research Objectives**\n",
    "\n",
    "- Quantify the correlation between user engagement (reviews, tips, check-ins) and review count/average star rating. \n",
    "\n",
    "- Analyse the impact of sentiment on review count and average star rating.\n",
    "\n",
    "- Time Trends in User Engagement\n",
    "\n",
    "# **Hypothesis Testing**\n",
    "\n",
    "- Increased levels of user engagement (more reviews, tips, and check-ins) Correlate with increased review counts and ratings for restaurants.\n",
    "- Reviews and tips with positive sentiments significantly influence higher overall ratings and increase the number of reviews for restaurants.\n",
    "- Consistent interaction over a period is associated with long-term success for restaurants.\n"
   ]
  },
  {
   "cell_type": "markdown",
   "id": "34d702f2-2e28-434b-8d9c-2acb9ee61c2e",
   "metadata": {},
   "source": [
    "## **Importing Libraries**"
   ]
  },
  {
   "cell_type": "code",
   "execution_count": 2,
   "id": "ccaa72c9-c814-44ab-930d-36505d0d8b44",
   "metadata": {},
   "outputs": [
    {
     "name": "stdout",
     "output_type": "stream",
     "text": [
      "Working directory: D:\\yelp_project\n"
     ]
    }
   ],
   "source": [
    "import os\n",
    "os.chdir('D:/yelp_project/')\n",
    "print(\"Working directory:\", os.getcwd())\n"
   ]
  },
  {
   "cell_type": "code",
   "execution_count": 3,
   "id": "226f9e24-ee49-419c-be2c-b9da268ca77f",
   "metadata": {},
   "outputs": [],
   "source": [
    "import sqlite3\n",
    "import pandas as pd\n",
    "from IPython.display import display\n"
   ]
  },
  {
   "cell_type": "markdown",
   "id": "085d187a-1dd3-440e-88ea-74897f81c768",
   "metadata": {},
   "source": [
    "# **Data Overview** \n",
    "\n",
    "- This dataset is a subset of Yelp and contains information about various businesses.\n",
    "- Yelp provides the initial data in JSON file format.\n",
    "- The five JSON files are business, review, user, tip and checkin.\n",
    "- The JSON files are stored in the database for easy retrieval of data."
   ]
  },
  {
   "cell_type": "code",
   "execution_count": 4,
   "id": "efa8c893-2671-401d-a0e4-3d6e543acb95",
   "metadata": {},
   "outputs": [],
   "source": [
    "conn = sqlite3.connect('D:/yelp_project/yelp.db')\n"
   ]
  },
  {
   "cell_type": "code",
   "execution_count": 5,
   "id": "f44b1d45-152d-4dec-a995-62750e26c8a2",
   "metadata": {},
   "outputs": [
    {
     "data": {
      "text/html": [
       "<div>\n",
       "<style scoped>\n",
       "    .dataframe tbody tr th:only-of-type {\n",
       "        vertical-align: middle;\n",
       "    }\n",
       "\n",
       "    .dataframe tbody tr th {\n",
       "        vertical-align: top;\n",
       "    }\n",
       "\n",
       "    .dataframe thead th {\n",
       "        text-align: right;\n",
       "    }\n",
       "</style>\n",
       "<table border=\"1\" class=\"dataframe\">\n",
       "  <thead>\n",
       "    <tr style=\"text-align: right;\">\n",
       "      <th></th>\n",
       "      <th>name</th>\n",
       "    </tr>\n",
       "  </thead>\n",
       "  <tbody>\n",
       "    <tr>\n",
       "      <th>0</th>\n",
       "      <td>business</td>\n",
       "    </tr>\n",
       "    <tr>\n",
       "      <th>1</th>\n",
       "      <td>checkin</td>\n",
       "    </tr>\n",
       "    <tr>\n",
       "      <th>2</th>\n",
       "      <td>review</td>\n",
       "    </tr>\n",
       "    <tr>\n",
       "      <th>3</th>\n",
       "      <td>tip</td>\n",
       "    </tr>\n",
       "    <tr>\n",
       "      <th>4</th>\n",
       "      <td>user</td>\n",
       "    </tr>\n",
       "  </tbody>\n",
       "</table>\n",
       "</div>"
      ],
      "text/plain": [
       "       name\n",
       "0  business\n",
       "1   checkin\n",
       "2    review\n",
       "3       tip\n",
       "4      user"
      ]
     },
     "metadata": {},
     "output_type": "display_data"
    }
   ],
   "source": [
    "# List all tables in the database\n",
    "query = \"SELECT name FROM sqlite_master WHERE type='table';\"\n",
    "tables = pd.read_sql_query(query, conn)\n",
    "display(tables)\n"
   ]
  },
  {
   "cell_type": "code",
   "execution_count": 6,
   "id": "edadb531-cfba-4bbb-a266-e82a7a1b9440",
   "metadata": {},
   "outputs": [
    {
     "name": "stdout",
     "output_type": "stream",
     "text": [
      "--- Sample from business ---\n"
     ]
    },
    {
     "data": {
      "text/html": [
       "<div>\n",
       "<style scoped>\n",
       "    .dataframe tbody tr th:only-of-type {\n",
       "        vertical-align: middle;\n",
       "    }\n",
       "\n",
       "    .dataframe tbody tr th {\n",
       "        vertical-align: top;\n",
       "    }\n",
       "\n",
       "    .dataframe thead th {\n",
       "        text-align: right;\n",
       "    }\n",
       "</style>\n",
       "<table border=\"1\" class=\"dataframe\">\n",
       "  <thead>\n",
       "    <tr style=\"text-align: right;\">\n",
       "      <th></th>\n",
       "      <th>business_id</th>\n",
       "      <th>name</th>\n",
       "      <th>address</th>\n",
       "      <th>city</th>\n",
       "      <th>state</th>\n",
       "      <th>postal_code</th>\n",
       "      <th>latitude</th>\n",
       "      <th>longitude</th>\n",
       "      <th>stars</th>\n",
       "      <th>review_count</th>\n",
       "      <th>is_open</th>\n",
       "      <th>categories</th>\n",
       "    </tr>\n",
       "  </thead>\n",
       "  <tbody>\n",
       "    <tr>\n",
       "      <th>0</th>\n",
       "      <td>Pns2l4eNsfO8kk83dixA6A</td>\n",
       "      <td>Abby Rappoport, LAC, CMQ</td>\n",
       "      <td>1616 Chapala St, Ste 2</td>\n",
       "      <td>Santa Barbara</td>\n",
       "      <td>CA</td>\n",
       "      <td>93101</td>\n",
       "      <td>34.426679</td>\n",
       "      <td>-119.711197</td>\n",
       "      <td>5.0</td>\n",
       "      <td>7</td>\n",
       "      <td>0</td>\n",
       "      <td>Doctors, Traditional Chinese Medicine, Naturop...</td>\n",
       "    </tr>\n",
       "    <tr>\n",
       "      <th>1</th>\n",
       "      <td>mpf3x-BjTdTEA3yCZrAYPw</td>\n",
       "      <td>The UPS Store</td>\n",
       "      <td>87 Grasso Plaza Shopping Center</td>\n",
       "      <td>Affton</td>\n",
       "      <td>MO</td>\n",
       "      <td>63123</td>\n",
       "      <td>38.551126</td>\n",
       "      <td>-90.335695</td>\n",
       "      <td>3.0</td>\n",
       "      <td>15</td>\n",
       "      <td>1</td>\n",
       "      <td>Shipping Centers, Local Services, Notaries, Ma...</td>\n",
       "    </tr>\n",
       "    <tr>\n",
       "      <th>2</th>\n",
       "      <td>tUFrWirKiKi_TAnsVWINQQ</td>\n",
       "      <td>Target</td>\n",
       "      <td>5255 E Broadway Blvd</td>\n",
       "      <td>Tucson</td>\n",
       "      <td>AZ</td>\n",
       "      <td>85711</td>\n",
       "      <td>32.223236</td>\n",
       "      <td>-110.880452</td>\n",
       "      <td>3.5</td>\n",
       "      <td>22</td>\n",
       "      <td>0</td>\n",
       "      <td>Department Stores, Shopping, Fashion, Home &amp; G...</td>\n",
       "    </tr>\n",
       "    <tr>\n",
       "      <th>3</th>\n",
       "      <td>MTSW4McQd7CbVtyjqoe9mw</td>\n",
       "      <td>St Honore Pastries</td>\n",
       "      <td>935 Race St</td>\n",
       "      <td>Philadelphia</td>\n",
       "      <td>PA</td>\n",
       "      <td>19107</td>\n",
       "      <td>39.955505</td>\n",
       "      <td>-75.155564</td>\n",
       "      <td>4.0</td>\n",
       "      <td>80</td>\n",
       "      <td>1</td>\n",
       "      <td>Restaurants, Food, Bubble Tea, Coffee &amp; Tea, B...</td>\n",
       "    </tr>\n",
       "    <tr>\n",
       "      <th>4</th>\n",
       "      <td>mWMc6_wTdE0EUBKIGXDVfA</td>\n",
       "      <td>Perkiomen Valley Brewery</td>\n",
       "      <td>101 Walnut St</td>\n",
       "      <td>Green Lane</td>\n",
       "      <td>PA</td>\n",
       "      <td>18054</td>\n",
       "      <td>40.338183</td>\n",
       "      <td>-75.471659</td>\n",
       "      <td>4.5</td>\n",
       "      <td>13</td>\n",
       "      <td>1</td>\n",
       "      <td>Brewpubs, Breweries, Food</td>\n",
       "    </tr>\n",
       "  </tbody>\n",
       "</table>\n",
       "</div>"
      ],
      "text/plain": [
       "              business_id                      name  \\\n",
       "0  Pns2l4eNsfO8kk83dixA6A  Abby Rappoport, LAC, CMQ   \n",
       "1  mpf3x-BjTdTEA3yCZrAYPw             The UPS Store   \n",
       "2  tUFrWirKiKi_TAnsVWINQQ                    Target   \n",
       "3  MTSW4McQd7CbVtyjqoe9mw        St Honore Pastries   \n",
       "4  mWMc6_wTdE0EUBKIGXDVfA  Perkiomen Valley Brewery   \n",
       "\n",
       "                           address           city state postal_code  \\\n",
       "0           1616 Chapala St, Ste 2  Santa Barbara    CA       93101   \n",
       "1  87 Grasso Plaza Shopping Center         Affton    MO       63123   \n",
       "2             5255 E Broadway Blvd         Tucson    AZ       85711   \n",
       "3                      935 Race St   Philadelphia    PA       19107   \n",
       "4                    101 Walnut St     Green Lane    PA       18054   \n",
       "\n",
       "    latitude   longitude  stars  review_count  is_open  \\\n",
       "0  34.426679 -119.711197    5.0             7        0   \n",
       "1  38.551126  -90.335695    3.0            15        1   \n",
       "2  32.223236 -110.880452    3.5            22        0   \n",
       "3  39.955505  -75.155564    4.0            80        1   \n",
       "4  40.338183  -75.471659    4.5            13        1   \n",
       "\n",
       "                                          categories  \n",
       "0  Doctors, Traditional Chinese Medicine, Naturop...  \n",
       "1  Shipping Centers, Local Services, Notaries, Ma...  \n",
       "2  Department Stores, Shopping, Fashion, Home & G...  \n",
       "3  Restaurants, Food, Bubble Tea, Coffee & Tea, B...  \n",
       "4                          Brewpubs, Breweries, Food  "
      ]
     },
     "metadata": {},
     "output_type": "display_data"
    },
    {
     "name": "stdout",
     "output_type": "stream",
     "text": [
      "--- Sample from checkin ---\n"
     ]
    },
    {
     "data": {
      "text/html": [
       "<div>\n",
       "<style scoped>\n",
       "    .dataframe tbody tr th:only-of-type {\n",
       "        vertical-align: middle;\n",
       "    }\n",
       "\n",
       "    .dataframe tbody tr th {\n",
       "        vertical-align: top;\n",
       "    }\n",
       "\n",
       "    .dataframe thead th {\n",
       "        text-align: right;\n",
       "    }\n",
       "</style>\n",
       "<table border=\"1\" class=\"dataframe\">\n",
       "  <thead>\n",
       "    <tr style=\"text-align: right;\">\n",
       "      <th></th>\n",
       "      <th>business_id</th>\n",
       "      <th>date</th>\n",
       "    </tr>\n",
       "  </thead>\n",
       "  <tbody>\n",
       "    <tr>\n",
       "      <th>0</th>\n",
       "      <td>---kPU91CF4Lq2-WlRu9Lw</td>\n",
       "      <td>2020-03-13 21:10:56, 2020-06-02 22:18:06, 2020...</td>\n",
       "    </tr>\n",
       "    <tr>\n",
       "      <th>1</th>\n",
       "      <td>--0iUa4sNDFiZFrAdIWhZQ</td>\n",
       "      <td>2010-09-13 21:43:09, 2011-05-04 23:08:15, 2011...</td>\n",
       "    </tr>\n",
       "    <tr>\n",
       "      <th>2</th>\n",
       "      <td>--30_8IhuyMHbSOcNWd6DQ</td>\n",
       "      <td>2013-06-14 23:29:17, 2014-08-13 23:20:22</td>\n",
       "    </tr>\n",
       "    <tr>\n",
       "      <th>3</th>\n",
       "      <td>--7PUidqRWpRSpXebiyxTg</td>\n",
       "      <td>2011-02-15 17:12:00, 2011-07-28 02:46:10, 2012...</td>\n",
       "    </tr>\n",
       "    <tr>\n",
       "      <th>4</th>\n",
       "      <td>--7jw19RH9JKXgFohspgQw</td>\n",
       "      <td>2014-04-21 20:42:11, 2014-04-28 21:04:46, 2014...</td>\n",
       "    </tr>\n",
       "  </tbody>\n",
       "</table>\n",
       "</div>"
      ],
      "text/plain": [
       "              business_id                                               date\n",
       "0  ---kPU91CF4Lq2-WlRu9Lw  2020-03-13 21:10:56, 2020-06-02 22:18:06, 2020...\n",
       "1  --0iUa4sNDFiZFrAdIWhZQ  2010-09-13 21:43:09, 2011-05-04 23:08:15, 2011...\n",
       "2  --30_8IhuyMHbSOcNWd6DQ           2013-06-14 23:29:17, 2014-08-13 23:20:22\n",
       "3  --7PUidqRWpRSpXebiyxTg  2011-02-15 17:12:00, 2011-07-28 02:46:10, 2012...\n",
       "4  --7jw19RH9JKXgFohspgQw  2014-04-21 20:42:11, 2014-04-28 21:04:46, 2014..."
      ]
     },
     "metadata": {},
     "output_type": "display_data"
    },
    {
     "name": "stdout",
     "output_type": "stream",
     "text": [
      "--- Sample from review ---\n"
     ]
    },
    {
     "data": {
      "text/html": [
       "<div>\n",
       "<style scoped>\n",
       "    .dataframe tbody tr th:only-of-type {\n",
       "        vertical-align: middle;\n",
       "    }\n",
       "\n",
       "    .dataframe tbody tr th {\n",
       "        vertical-align: top;\n",
       "    }\n",
       "\n",
       "    .dataframe thead th {\n",
       "        text-align: right;\n",
       "    }\n",
       "</style>\n",
       "<table border=\"1\" class=\"dataframe\">\n",
       "  <thead>\n",
       "    <tr style=\"text-align: right;\">\n",
       "      <th></th>\n",
       "      <th>review_id</th>\n",
       "      <th>user_id</th>\n",
       "      <th>business_id</th>\n",
       "      <th>stars</th>\n",
       "      <th>useful</th>\n",
       "      <th>funny</th>\n",
       "      <th>cool</th>\n",
       "      <th>text</th>\n",
       "      <th>date</th>\n",
       "    </tr>\n",
       "  </thead>\n",
       "  <tbody>\n",
       "    <tr>\n",
       "      <th>0</th>\n",
       "      <td>KU_O5udG6zpxOg-VcAEodg</td>\n",
       "      <td>mh_-eMZ6K5RLWhZyISBhwA</td>\n",
       "      <td>XQfwVwDr-v0ZS3_CbbE5Xw</td>\n",
       "      <td>3.0</td>\n",
       "      <td>0</td>\n",
       "      <td>0</td>\n",
       "      <td>0</td>\n",
       "      <td>If you decide to eat here, just be aware it is...</td>\n",
       "      <td>2018-07-07 22:09:11</td>\n",
       "    </tr>\n",
       "    <tr>\n",
       "      <th>1</th>\n",
       "      <td>BiTunyQ73aT9WBnpR9DZGw</td>\n",
       "      <td>OyoGAe7OKpv6SyGZT5g77Q</td>\n",
       "      <td>7ATYjTIgM3jUlt4UM3IypQ</td>\n",
       "      <td>5.0</td>\n",
       "      <td>1</td>\n",
       "      <td>0</td>\n",
       "      <td>1</td>\n",
       "      <td>I've taken a lot of spin classes over the year...</td>\n",
       "      <td>2012-01-03 15:28:18</td>\n",
       "    </tr>\n",
       "    <tr>\n",
       "      <th>2</th>\n",
       "      <td>saUsX_uimxRlCVr67Z4Jig</td>\n",
       "      <td>8g_iMtfSiwikVnbP2etR0A</td>\n",
       "      <td>YjUWPpI6HXG530lwP-fb2A</td>\n",
       "      <td>3.0</td>\n",
       "      <td>0</td>\n",
       "      <td>0</td>\n",
       "      <td>0</td>\n",
       "      <td>Family diner. Had the buffet. Eclectic assortm...</td>\n",
       "      <td>2014-02-05 20:30:30</td>\n",
       "    </tr>\n",
       "    <tr>\n",
       "      <th>3</th>\n",
       "      <td>AqPFMleE6RsU23_auESxiA</td>\n",
       "      <td>_7bHUi9Uuf5__HHc_Q8guQ</td>\n",
       "      <td>kxX2SOes4o-D3ZQBkiMRfA</td>\n",
       "      <td>5.0</td>\n",
       "      <td>1</td>\n",
       "      <td>0</td>\n",
       "      <td>1</td>\n",
       "      <td>Wow!  Yummy, different,  delicious.   Our favo...</td>\n",
       "      <td>2015-01-04 00:01:03</td>\n",
       "    </tr>\n",
       "    <tr>\n",
       "      <th>4</th>\n",
       "      <td>Sx8TMOWLNuJBWer-0pcmoA</td>\n",
       "      <td>bcjbaE6dDog4jkNY91ncLQ</td>\n",
       "      <td>e4Vwtrqf-wpJfwesgvdgxQ</td>\n",
       "      <td>4.0</td>\n",
       "      <td>1</td>\n",
       "      <td>0</td>\n",
       "      <td>1</td>\n",
       "      <td>Cute interior and owner (?) gave us tour of up...</td>\n",
       "      <td>2017-01-14 20:54:15</td>\n",
       "    </tr>\n",
       "  </tbody>\n",
       "</table>\n",
       "</div>"
      ],
      "text/plain": [
       "                review_id                 user_id             business_id  \\\n",
       "0  KU_O5udG6zpxOg-VcAEodg  mh_-eMZ6K5RLWhZyISBhwA  XQfwVwDr-v0ZS3_CbbE5Xw   \n",
       "1  BiTunyQ73aT9WBnpR9DZGw  OyoGAe7OKpv6SyGZT5g77Q  7ATYjTIgM3jUlt4UM3IypQ   \n",
       "2  saUsX_uimxRlCVr67Z4Jig  8g_iMtfSiwikVnbP2etR0A  YjUWPpI6HXG530lwP-fb2A   \n",
       "3  AqPFMleE6RsU23_auESxiA  _7bHUi9Uuf5__HHc_Q8guQ  kxX2SOes4o-D3ZQBkiMRfA   \n",
       "4  Sx8TMOWLNuJBWer-0pcmoA  bcjbaE6dDog4jkNY91ncLQ  e4Vwtrqf-wpJfwesgvdgxQ   \n",
       "\n",
       "   stars  useful  funny  cool  \\\n",
       "0    3.0       0      0     0   \n",
       "1    5.0       1      0     1   \n",
       "2    3.0       0      0     0   \n",
       "3    5.0       1      0     1   \n",
       "4    4.0       1      0     1   \n",
       "\n",
       "                                                text                 date  \n",
       "0  If you decide to eat here, just be aware it is...  2018-07-07 22:09:11  \n",
       "1  I've taken a lot of spin classes over the year...  2012-01-03 15:28:18  \n",
       "2  Family diner. Had the buffet. Eclectic assortm...  2014-02-05 20:30:30  \n",
       "3  Wow!  Yummy, different,  delicious.   Our favo...  2015-01-04 00:01:03  \n",
       "4  Cute interior and owner (?) gave us tour of up...  2017-01-14 20:54:15  "
      ]
     },
     "metadata": {},
     "output_type": "display_data"
    },
    {
     "name": "stdout",
     "output_type": "stream",
     "text": [
      "--- Sample from tip ---\n"
     ]
    },
    {
     "data": {
      "text/html": [
       "<div>\n",
       "<style scoped>\n",
       "    .dataframe tbody tr th:only-of-type {\n",
       "        vertical-align: middle;\n",
       "    }\n",
       "\n",
       "    .dataframe tbody tr th {\n",
       "        vertical-align: top;\n",
       "    }\n",
       "\n",
       "    .dataframe thead th {\n",
       "        text-align: right;\n",
       "    }\n",
       "</style>\n",
       "<table border=\"1\" class=\"dataframe\">\n",
       "  <thead>\n",
       "    <tr style=\"text-align: right;\">\n",
       "      <th></th>\n",
       "      <th>user_id</th>\n",
       "      <th>business_id</th>\n",
       "      <th>text</th>\n",
       "      <th>date</th>\n",
       "      <th>compliment_count</th>\n",
       "    </tr>\n",
       "  </thead>\n",
       "  <tbody>\n",
       "    <tr>\n",
       "      <th>0</th>\n",
       "      <td>AGNUgVwnZUey3gcPCJ76iw</td>\n",
       "      <td>3uLgwr0qeCNMjKenHJwPGQ</td>\n",
       "      <td>Avengers time with the ladies.</td>\n",
       "      <td>2012-05-18 02:17:21</td>\n",
       "      <td>0</td>\n",
       "    </tr>\n",
       "    <tr>\n",
       "      <th>1</th>\n",
       "      <td>NBN4MgHP9D3cw--SnauTkA</td>\n",
       "      <td>QoezRbYQncpRqyrLH6Iqjg</td>\n",
       "      <td>They have lots of good deserts and tasty cuban...</td>\n",
       "      <td>2013-02-05 18:35:10</td>\n",
       "      <td>0</td>\n",
       "    </tr>\n",
       "    <tr>\n",
       "      <th>2</th>\n",
       "      <td>-copOvldyKh1qr-vzkDEvw</td>\n",
       "      <td>MYoRNLb5chwjQe3c_k37Gg</td>\n",
       "      <td>It's open even when you think it isn't</td>\n",
       "      <td>2013-08-18 00:56:08</td>\n",
       "      <td>0</td>\n",
       "    </tr>\n",
       "    <tr>\n",
       "      <th>3</th>\n",
       "      <td>FjMQVZjSqY8syIO-53KFKw</td>\n",
       "      <td>hV-bABTK-glh5wj31ps_Jw</td>\n",
       "      <td>Very decent fried chicken</td>\n",
       "      <td>2017-06-27 23:05:38</td>\n",
       "      <td>0</td>\n",
       "    </tr>\n",
       "    <tr>\n",
       "      <th>4</th>\n",
       "      <td>ld0AperBXk1h6UbqmM80zw</td>\n",
       "      <td>_uN0OudeJ3Zl_tf6nxg5ww</td>\n",
       "      <td>Appetizers.. platter special for lunch</td>\n",
       "      <td>2012-10-06 19:43:09</td>\n",
       "      <td>0</td>\n",
       "    </tr>\n",
       "  </tbody>\n",
       "</table>\n",
       "</div>"
      ],
      "text/plain": [
       "                  user_id             business_id  \\\n",
       "0  AGNUgVwnZUey3gcPCJ76iw  3uLgwr0qeCNMjKenHJwPGQ   \n",
       "1  NBN4MgHP9D3cw--SnauTkA  QoezRbYQncpRqyrLH6Iqjg   \n",
       "2  -copOvldyKh1qr-vzkDEvw  MYoRNLb5chwjQe3c_k37Gg   \n",
       "3  FjMQVZjSqY8syIO-53KFKw  hV-bABTK-glh5wj31ps_Jw   \n",
       "4  ld0AperBXk1h6UbqmM80zw  _uN0OudeJ3Zl_tf6nxg5ww   \n",
       "\n",
       "                                                text                 date  \\\n",
       "0                     Avengers time with the ladies.  2012-05-18 02:17:21   \n",
       "1  They have lots of good deserts and tasty cuban...  2013-02-05 18:35:10   \n",
       "2             It's open even when you think it isn't  2013-08-18 00:56:08   \n",
       "3                          Very decent fried chicken  2017-06-27 23:05:38   \n",
       "4             Appetizers.. platter special for lunch  2012-10-06 19:43:09   \n",
       "\n",
       "   compliment_count  \n",
       "0                 0  \n",
       "1                 0  \n",
       "2                 0  \n",
       "3                 0  \n",
       "4                 0  "
      ]
     },
     "metadata": {},
     "output_type": "display_data"
    },
    {
     "name": "stdout",
     "output_type": "stream",
     "text": [
      "--- Sample from user ---\n"
     ]
    },
    {
     "data": {
      "text/html": [
       "<div>\n",
       "<style scoped>\n",
       "    .dataframe tbody tr th:only-of-type {\n",
       "        vertical-align: middle;\n",
       "    }\n",
       "\n",
       "    .dataframe tbody tr th {\n",
       "        vertical-align: top;\n",
       "    }\n",
       "\n",
       "    .dataframe thead th {\n",
       "        text-align: right;\n",
       "    }\n",
       "</style>\n",
       "<table border=\"1\" class=\"dataframe\">\n",
       "  <thead>\n",
       "    <tr style=\"text-align: right;\">\n",
       "      <th></th>\n",
       "      <th>user_id</th>\n",
       "      <th>name</th>\n",
       "      <th>review_count</th>\n",
       "      <th>yelping_since</th>\n",
       "      <th>useful</th>\n",
       "      <th>funny</th>\n",
       "      <th>cool</th>\n",
       "      <th>elite</th>\n",
       "      <th>friends</th>\n",
       "      <th>fans</th>\n",
       "      <th>...</th>\n",
       "      <th>compliment_more</th>\n",
       "      <th>compliment_profile</th>\n",
       "      <th>compliment_cute</th>\n",
       "      <th>compliment_list</th>\n",
       "      <th>compliment_note</th>\n",
       "      <th>compliment_plain</th>\n",
       "      <th>compliment_cool</th>\n",
       "      <th>compliment_funny</th>\n",
       "      <th>compliment_writer</th>\n",
       "      <th>compliment_photos</th>\n",
       "    </tr>\n",
       "  </thead>\n",
       "  <tbody>\n",
       "    <tr>\n",
       "      <th>0</th>\n",
       "      <td>qVc8ODYU5SZjKXVBgXdI7w</td>\n",
       "      <td>Walker</td>\n",
       "      <td>585</td>\n",
       "      <td>2007-01-25 16:47:26</td>\n",
       "      <td>7217</td>\n",
       "      <td>1259</td>\n",
       "      <td>5994</td>\n",
       "      <td>2007</td>\n",
       "      <td>NSCy54eWehBJyZdG2iE84w, pe42u7DcCH2QmI81NX-8qA...</td>\n",
       "      <td>267</td>\n",
       "      <td>...</td>\n",
       "      <td>65</td>\n",
       "      <td>55</td>\n",
       "      <td>56</td>\n",
       "      <td>18</td>\n",
       "      <td>232</td>\n",
       "      <td>844</td>\n",
       "      <td>467</td>\n",
       "      <td>467</td>\n",
       "      <td>239</td>\n",
       "      <td>180</td>\n",
       "    </tr>\n",
       "    <tr>\n",
       "      <th>1</th>\n",
       "      <td>j14WgRoU_-2ZE1aw1dXrJg</td>\n",
       "      <td>Daniel</td>\n",
       "      <td>4333</td>\n",
       "      <td>2009-01-25 04:35:42</td>\n",
       "      <td>43091</td>\n",
       "      <td>13066</td>\n",
       "      <td>27281</td>\n",
       "      <td>2009,2010,2011,2012,2013,2014,2015,2016,2017,2...</td>\n",
       "      <td>ueRPE0CX75ePGMqOFVj6IQ, 52oH4DrRvzzl8wh5UXyU0A...</td>\n",
       "      <td>3138</td>\n",
       "      <td>...</td>\n",
       "      <td>264</td>\n",
       "      <td>184</td>\n",
       "      <td>157</td>\n",
       "      <td>251</td>\n",
       "      <td>1847</td>\n",
       "      <td>7054</td>\n",
       "      <td>3131</td>\n",
       "      <td>3131</td>\n",
       "      <td>1521</td>\n",
       "      <td>1946</td>\n",
       "    </tr>\n",
       "    <tr>\n",
       "      <th>2</th>\n",
       "      <td>2WnXYQFK0hXEoTxPtV2zvg</td>\n",
       "      <td>Steph</td>\n",
       "      <td>665</td>\n",
       "      <td>2008-07-25 10:41:00</td>\n",
       "      <td>2086</td>\n",
       "      <td>1010</td>\n",
       "      <td>1003</td>\n",
       "      <td>2009,2010,2011,2012,2013</td>\n",
       "      <td>LuO3Bn4f3rlhyHIaNfTlnA, j9B4XdHUhDfTKVecyWQgyA...</td>\n",
       "      <td>52</td>\n",
       "      <td>...</td>\n",
       "      <td>13</td>\n",
       "      <td>10</td>\n",
       "      <td>17</td>\n",
       "      <td>3</td>\n",
       "      <td>66</td>\n",
       "      <td>96</td>\n",
       "      <td>119</td>\n",
       "      <td>119</td>\n",
       "      <td>35</td>\n",
       "      <td>18</td>\n",
       "    </tr>\n",
       "    <tr>\n",
       "      <th>3</th>\n",
       "      <td>SZDeASXq7o05mMNLshsdIA</td>\n",
       "      <td>Gwen</td>\n",
       "      <td>224</td>\n",
       "      <td>2005-11-29 04:38:33</td>\n",
       "      <td>512</td>\n",
       "      <td>330</td>\n",
       "      <td>299</td>\n",
       "      <td>2009,2010,2011</td>\n",
       "      <td>enx1vVPnfdNUdPho6PH_wg, 4wOcvMLtU6a9Lslggq74Vg...</td>\n",
       "      <td>28</td>\n",
       "      <td>...</td>\n",
       "      <td>4</td>\n",
       "      <td>1</td>\n",
       "      <td>6</td>\n",
       "      <td>2</td>\n",
       "      <td>12</td>\n",
       "      <td>16</td>\n",
       "      <td>26</td>\n",
       "      <td>26</td>\n",
       "      <td>10</td>\n",
       "      <td>9</td>\n",
       "    </tr>\n",
       "    <tr>\n",
       "      <th>4</th>\n",
       "      <td>hA5lMy-EnncsH4JoR-hFGQ</td>\n",
       "      <td>Karen</td>\n",
       "      <td>79</td>\n",
       "      <td>2007-01-05 19:40:59</td>\n",
       "      <td>29</td>\n",
       "      <td>15</td>\n",
       "      <td>7</td>\n",
       "      <td></td>\n",
       "      <td>PBK4q9KEEBHhFvSXCUirIw, 3FWPpM7KU1gXeOM_ZbYMbA...</td>\n",
       "      <td>1</td>\n",
       "      <td>...</td>\n",
       "      <td>1</td>\n",
       "      <td>0</td>\n",
       "      <td>0</td>\n",
       "      <td>0</td>\n",
       "      <td>1</td>\n",
       "      <td>1</td>\n",
       "      <td>0</td>\n",
       "      <td>0</td>\n",
       "      <td>0</td>\n",
       "      <td>0</td>\n",
       "    </tr>\n",
       "  </tbody>\n",
       "</table>\n",
       "<p>5 rows × 22 columns</p>\n",
       "</div>"
      ],
      "text/plain": [
       "                  user_id    name  review_count        yelping_since  useful  \\\n",
       "0  qVc8ODYU5SZjKXVBgXdI7w  Walker           585  2007-01-25 16:47:26    7217   \n",
       "1  j14WgRoU_-2ZE1aw1dXrJg  Daniel          4333  2009-01-25 04:35:42   43091   \n",
       "2  2WnXYQFK0hXEoTxPtV2zvg   Steph           665  2008-07-25 10:41:00    2086   \n",
       "3  SZDeASXq7o05mMNLshsdIA    Gwen           224  2005-11-29 04:38:33     512   \n",
       "4  hA5lMy-EnncsH4JoR-hFGQ   Karen            79  2007-01-05 19:40:59      29   \n",
       "\n",
       "   funny   cool                                              elite  \\\n",
       "0   1259   5994                                               2007   \n",
       "1  13066  27281  2009,2010,2011,2012,2013,2014,2015,2016,2017,2...   \n",
       "2   1010   1003                           2009,2010,2011,2012,2013   \n",
       "3    330    299                                     2009,2010,2011   \n",
       "4     15      7                                                      \n",
       "\n",
       "                                             friends  fans  ...  \\\n",
       "0  NSCy54eWehBJyZdG2iE84w, pe42u7DcCH2QmI81NX-8qA...   267  ...   \n",
       "1  ueRPE0CX75ePGMqOFVj6IQ, 52oH4DrRvzzl8wh5UXyU0A...  3138  ...   \n",
       "2  LuO3Bn4f3rlhyHIaNfTlnA, j9B4XdHUhDfTKVecyWQgyA...    52  ...   \n",
       "3  enx1vVPnfdNUdPho6PH_wg, 4wOcvMLtU6a9Lslggq74Vg...    28  ...   \n",
       "4  PBK4q9KEEBHhFvSXCUirIw, 3FWPpM7KU1gXeOM_ZbYMbA...     1  ...   \n",
       "\n",
       "   compliment_more  compliment_profile  compliment_cute  compliment_list  \\\n",
       "0               65                  55               56               18   \n",
       "1              264                 184              157              251   \n",
       "2               13                  10               17                3   \n",
       "3                4                   1                6                2   \n",
       "4                1                   0                0                0   \n",
       "\n",
       "   compliment_note  compliment_plain  compliment_cool  compliment_funny  \\\n",
       "0              232               844              467               467   \n",
       "1             1847              7054             3131              3131   \n",
       "2               66                96              119               119   \n",
       "3               12                16               26                26   \n",
       "4                1                 1                0                 0   \n",
       "\n",
       "   compliment_writer  compliment_photos  \n",
       "0                239                180  \n",
       "1               1521               1946  \n",
       "2                 35                 18  \n",
       "3                 10                  9  \n",
       "4                  0                  0  \n",
       "\n",
       "[5 rows x 22 columns]"
      ]
     },
     "metadata": {},
     "output_type": "display_data"
    }
   ],
   "source": [
    "# Check sample data from each table\n",
    "\n",
    "tables = ['business', 'checkin', 'review', 'tip', 'user']\n",
    "\n",
    "for table in tables:\n",
    "    print(f\"--- Sample from {table} ---\")\n",
    "    query = f\"SELECT * FROM {table} LIMIT 5;\"\n",
    "    sample = pd.read_sql_query(query, conn)\n",
    "    display(sample)\n"
   ]
  },
  {
   "cell_type": "markdown",
   "id": "d27d3611-d0db-440f-ab9a-34b693792d13",
   "metadata": {},
   "source": [
    "# **Data Analysis**\n"
   ]
  },
  {
   "cell_type": "code",
   "execution_count": 7,
   "id": "3b690bc4-08e1-41f8-a3ad-f10efa4851ed",
   "metadata": {},
   "outputs": [
    {
     "data": {
      "text/html": [
       "<div>\n",
       "<style scoped>\n",
       "    .dataframe tbody tr th:only-of-type {\n",
       "        vertical-align: middle;\n",
       "    }\n",
       "\n",
       "    .dataframe tbody tr th {\n",
       "        vertical-align: top;\n",
       "    }\n",
       "\n",
       "    .dataframe thead th {\n",
       "        text-align: right;\n",
       "    }\n",
       "</style>\n",
       "<table border=\"1\" class=\"dataframe\">\n",
       "  <thead>\n",
       "    <tr style=\"text-align: right;\">\n",
       "      <th></th>\n",
       "      <th>count(*)</th>\n",
       "    </tr>\n",
       "  </thead>\n",
       "  <tbody>\n",
       "    <tr>\n",
       "      <th>0</th>\n",
       "      <td>150346</td>\n",
       "    </tr>\n",
       "  </tbody>\n",
       "</table>\n",
       "</div>"
      ],
      "text/plain": [
       "   count(*)\n",
       "0    150346"
      ]
     },
     "execution_count": 7,
     "metadata": {},
     "output_type": "execute_result"
    }
   ],
   "source": [
    "# Total business count\n",
    "pd.read_sql_query(\"SELECT count(*) FROM business\", conn)\n"
   ]
  },
  {
   "cell_type": "code",
   "execution_count": 8,
   "id": "a7d9f22e-dd39-4abf-bb25-1e697c8e7e51",
   "metadata": {},
   "outputs": [],
   "source": [
    "import pandas as pd\n",
    "\n",
    "# Business IDs and review counts\n",
    "business_id = pd.read_sql_query(\"\"\"select business_id, review_count from business where lower(categories) like '%restaurant%' and is_open = 1\"\"\", conn)\n"
   ]
  },
  {
   "cell_type": "code",
   "execution_count": 9,
   "id": "d6f43c32-dca3-49a7-a8d2-4cc5a3ac070f",
   "metadata": {},
   "outputs": [
    {
     "data": {
      "text/html": [
       "<div>\n",
       "<style scoped>\n",
       "    .dataframe tbody tr th:only-of-type {\n",
       "        vertical-align: middle;\n",
       "    }\n",
       "\n",
       "    .dataframe tbody tr th {\n",
       "        vertical-align: top;\n",
       "    }\n",
       "\n",
       "    .dataframe thead th {\n",
       "        text-align: right;\n",
       "    }\n",
       "</style>\n",
       "<table border=\"1\" class=\"dataframe\">\n",
       "  <thead>\n",
       "    <tr style=\"text-align: right;\">\n",
       "      <th></th>\n",
       "      <th>0</th>\n",
       "    </tr>\n",
       "  </thead>\n",
       "  <tbody>\n",
       "    <tr>\n",
       "      <th>average_review_count</th>\n",
       "      <td>104.097789</td>\n",
       "    </tr>\n",
       "    <tr>\n",
       "      <th>min_review_count</th>\n",
       "      <td>5.000000</td>\n",
       "    </tr>\n",
       "    <tr>\n",
       "      <th>max_review_count</th>\n",
       "      <td>7568.000000</td>\n",
       "    </tr>\n",
       "    <tr>\n",
       "      <th>median_review_count</th>\n",
       "      <td>15.000000</td>\n",
       "    </tr>\n",
       "    <tr>\n",
       "      <th>average_star_rating</th>\n",
       "      <td>3.523969</td>\n",
       "    </tr>\n",
       "    <tr>\n",
       "      <th>min_star_rating</th>\n",
       "      <td>1.000000</td>\n",
       "    </tr>\n",
       "    <tr>\n",
       "      <th>max_star_rating</th>\n",
       "      <td>5.000000</td>\n",
       "    </tr>\n",
       "    <tr>\n",
       "      <th>median_star_rating</th>\n",
       "      <td>3.500000</td>\n",
       "    </tr>\n",
       "  </tbody>\n",
       "</table>\n",
       "</div>"
      ],
      "text/plain": [
       "                                0\n",
       "average_review_count   104.097789\n",
       "min_review_count         5.000000\n",
       "max_review_count      7568.000000\n",
       "median_review_count     15.000000\n",
       "average_star_rating      3.523969\n",
       "min_star_rating          1.000000\n",
       "max_star_rating          5.000000\n",
       "median_star_rating       3.500000"
      ]
     },
     "execution_count": 9,
     "metadata": {},
     "output_type": "execute_result"
    }
   ],
   "source": [
    "# What is the descriptive stats for review count and star rating for businesses?\n",
    "# avg, min, max, median\n",
    "\n",
    "pd.read_sql_query(f\"\"\"SELECT\n",
    "  AVG(review_count) AS average_review_count,\n",
    "  MIN(review_count) AS min_review_count,\n",
    "  MAX(review_count) AS max_review_count,\n",
    "  (SELECT review_count FROM business ORDER BY review_count LIMIT 1 OFFSET (SELECT COUNT(*) FROM business) / 2) AS median_review_count,\n",
    "  \n",
    "  AVG(stars) AS average_star_rating,\n",
    "  MIN(stars) AS min_star_rating,\n",
    "  MAX(stars) AS max_star_rating,\n",
    "  (SELECT stars FROM business ORDER BY stars LIMIT 1 OFFSET (SELECT COUNT(*) FROM business) / 2) AS median_star_rating\n",
    "  \n",
    "FROM business \n",
    "WHERE business_id IN {tuple(business_id['business_id'])};\n",
    "\"\"\", conn).transpose()\n"
   ]
  },
  {
   "cell_type": "code",
   "execution_count": 10,
   "id": "4ea4cc42-b762-4c0b-a13d-f3860b299c34",
   "metadata": {},
   "outputs": [],
   "source": [
    "# function for removing outliers using interquartile range\n",
    "def remove_outliers(df, col):\n",
    "    q1 = df[col].quantile(0.25)  \n",
    "    q3 = df[col].quantile(0.75)  \n",
    "    iqr = q3 - q1 \n",
    "    lower_bound = q1 - 1.5 * iqr  \n",
    "    upper_bound = q3 + 1.5 * iqr  \n",
    "    df = df[(df[col] >= lower_bound) & (df[col] <= upper_bound)]  \n",
    "    return df\n",
    "\n",
    "\n"
   ]
  },
  {
   "cell_type": "code",
   "execution_count": 11,
   "id": "4b6ad467-8f2a-4419-9ece-3d871676e1d9",
   "metadata": {},
   "outputs": [],
   "source": [
    "business_id = remove_outliers(business_id, 'review_count')"
   ]
  },
  {
   "cell_type": "code",
   "execution_count": 12,
   "id": "2abd8514-84ca-45de-b54e-b49a69d25b3a",
   "metadata": {},
   "outputs": [
    {
     "data": {
      "text/plain": [
       "(31537, 2)"
      ]
     },
     "execution_count": 12,
     "metadata": {},
     "output_type": "execute_result"
    }
   ],
   "source": [
    "business_id.shape"
   ]
  },
  {
   "cell_type": "code",
   "execution_count": 13,
   "id": "6bb1db8e-3d75-4b87-9fef-8ed53364f822",
   "metadata": {},
   "outputs": [
    {
     "data": {
      "text/html": [
       "<div>\n",
       "<style scoped>\n",
       "    .dataframe tbody tr th:only-of-type {\n",
       "        vertical-align: middle;\n",
       "    }\n",
       "\n",
       "    .dataframe tbody tr th {\n",
       "        vertical-align: top;\n",
       "    }\n",
       "\n",
       "    .dataframe thead th {\n",
       "        text-align: right;\n",
       "    }\n",
       "</style>\n",
       "<table border=\"1\" class=\"dataframe\">\n",
       "  <thead>\n",
       "    <tr style=\"text-align: right;\">\n",
       "      <th></th>\n",
       "      <th>0</th>\n",
       "    </tr>\n",
       "  </thead>\n",
       "  <tbody>\n",
       "    <tr>\n",
       "      <th>average_review_count</th>\n",
       "      <td>55.975426</td>\n",
       "    </tr>\n",
       "    <tr>\n",
       "      <th>min_review_count</th>\n",
       "      <td>5.000000</td>\n",
       "    </tr>\n",
       "    <tr>\n",
       "      <th>max_review_count</th>\n",
       "      <td>248.000000</td>\n",
       "    </tr>\n",
       "    <tr>\n",
       "      <th>median_review_count</th>\n",
       "      <td>15.000000</td>\n",
       "    </tr>\n",
       "    <tr>\n",
       "      <th>average_star_rating</th>\n",
       "      <td>3.477281</td>\n",
       "    </tr>\n",
       "    <tr>\n",
       "      <th>min_star_rating</th>\n",
       "      <td>1.000000</td>\n",
       "    </tr>\n",
       "    <tr>\n",
       "      <th>max_star_rating</th>\n",
       "      <td>5.000000</td>\n",
       "    </tr>\n",
       "    <tr>\n",
       "      <th>median_star_rating</th>\n",
       "      <td>3.500000</td>\n",
       "    </tr>\n",
       "  </tbody>\n",
       "</table>\n",
       "</div>"
      ],
      "text/plain": [
       "                               0\n",
       "average_review_count   55.975426\n",
       "min_review_count        5.000000\n",
       "max_review_count      248.000000\n",
       "median_review_count    15.000000\n",
       "average_star_rating     3.477281\n",
       "min_star_rating         1.000000\n",
       "max_star_rating         5.000000\n",
       "median_star_rating      3.500000"
      ]
     },
     "execution_count": 13,
     "metadata": {},
     "output_type": "execute_result"
    }
   ],
   "source": [
    "pd.read_sql_query(f\"\"\"SELECT\n",
    "  AVG(review_count) AS average_review_count,\n",
    "  MIN(review_count) AS min_review_count,\n",
    "  MAX(review_count) AS max_review_count,\n",
    "  (SELECT review_count FROM business ORDER BY review_count LIMIT 1 OFFSET (SELECT COUNT(*) FROM business) / 2) AS median_review_count,\n",
    "  \n",
    "  AVG(stars) AS average_star_rating,\n",
    "  MIN(stars) AS min_star_rating,\n",
    "  MAX(stars) AS max_star_rating,\n",
    "  (SELECT stars FROM business ORDER BY stars LIMIT 1 OFFSET (SELECT COUNT(*) FROM business) / 2) AS median_star_rating\n",
    "  \n",
    "FROM business \n",
    "WHERE business_id IN {tuple(business_id['business_id'])};\n",
    "\"\"\", conn).transpose()\n"
   ]
  },
  {
   "cell_type": "code",
   "execution_count": 14,
   "id": "9b492d11-49f3-40d4-9994-1984c91fce44",
   "metadata": {},
   "outputs": [
    {
     "data": {
      "text/html": [
       "<div>\n",
       "<style scoped>\n",
       "    .dataframe tbody tr th:only-of-type {\n",
       "        vertical-align: middle;\n",
       "    }\n",
       "\n",
       "    .dataframe tbody tr th {\n",
       "        vertical-align: top;\n",
       "    }\n",
       "\n",
       "    .dataframe thead th {\n",
       "        text-align: right;\n",
       "    }\n",
       "</style>\n",
       "<table border=\"1\" class=\"dataframe\">\n",
       "  <thead>\n",
       "    <tr style=\"text-align: right;\">\n",
       "      <th></th>\n",
       "      <th>name</th>\n",
       "      <th>review_count</th>\n",
       "      <th>avg_rating</th>\n",
       "    </tr>\n",
       "  </thead>\n",
       "  <tbody>\n",
       "    <tr>\n",
       "      <th>0</th>\n",
       "      <td>McDonald's</td>\n",
       "      <td>16490</td>\n",
       "      <td>1.868702</td>\n",
       "    </tr>\n",
       "    <tr>\n",
       "      <th>1</th>\n",
       "      <td>Chipotle Mexican Grill</td>\n",
       "      <td>9071</td>\n",
       "      <td>2.381757</td>\n",
       "    </tr>\n",
       "    <tr>\n",
       "      <th>2</th>\n",
       "      <td>Taco Bell</td>\n",
       "      <td>8017</td>\n",
       "      <td>2.141813</td>\n",
       "    </tr>\n",
       "    <tr>\n",
       "      <th>3</th>\n",
       "      <td>Chick-fil-A</td>\n",
       "      <td>7687</td>\n",
       "      <td>3.377419</td>\n",
       "    </tr>\n",
       "    <tr>\n",
       "      <th>4</th>\n",
       "      <td>First Watch</td>\n",
       "      <td>6761</td>\n",
       "      <td>3.875000</td>\n",
       "    </tr>\n",
       "    <tr>\n",
       "      <th>5</th>\n",
       "      <td>Panera Bread</td>\n",
       "      <td>6613</td>\n",
       "      <td>2.661905</td>\n",
       "    </tr>\n",
       "    <tr>\n",
       "      <th>6</th>\n",
       "      <td>Buffalo Wild Wings</td>\n",
       "      <td>6483</td>\n",
       "      <td>2.344828</td>\n",
       "    </tr>\n",
       "    <tr>\n",
       "      <th>7</th>\n",
       "      <td>Domino's Pizza</td>\n",
       "      <td>6091</td>\n",
       "      <td>2.290210</td>\n",
       "    </tr>\n",
       "    <tr>\n",
       "      <th>8</th>\n",
       "      <td>Wendy's</td>\n",
       "      <td>5930</td>\n",
       "      <td>2.030159</td>\n",
       "    </tr>\n",
       "    <tr>\n",
       "      <th>9</th>\n",
       "      <td>Chili's</td>\n",
       "      <td>5744</td>\n",
       "      <td>2.514706</td>\n",
       "    </tr>\n",
       "  </tbody>\n",
       "</table>\n",
       "</div>"
      ],
      "text/plain": [
       "                     name  review_count  avg_rating\n",
       "0              McDonald's         16490    1.868702\n",
       "1  Chipotle Mexican Grill          9071    2.381757\n",
       "2               Taco Bell          8017    2.141813\n",
       "3             Chick-fil-A          7687    3.377419\n",
       "4             First Watch          6761    3.875000\n",
       "5            Panera Bread          6613    2.661905\n",
       "6      Buffalo Wild Wings          6483    2.344828\n",
       "7          Domino's Pizza          6091    2.290210\n",
       "8                 Wendy's          5930    2.030159\n",
       "9                 Chili's          5744    2.514706"
      ]
     },
     "execution_count": 14,
     "metadata": {},
     "output_type": "execute_result"
    }
   ],
   "source": [
    "# Which restaurants have the highest number of reviews?\n",
    "pd.read_sql_query(f\"\"\"\n",
    "SELECT name, SUM(review_count) as review_count, AVG(stars) AS avg_rating\n",
    "FROM business\n",
    "WHERE business_id IN {tuple(business_id['business_id'])}\n",
    "GROUP BY name\n",
    "ORDER BY review_count DESC\n",
    "LIMIT 10;\n",
    "\"\"\", conn)\n"
   ]
  },
  {
   "cell_type": "code",
   "execution_count": 15,
   "id": "b7648621-1eef-4d68-8cad-d3766b7ff6d4",
   "metadata": {},
   "outputs": [
    {
     "data": {
      "text/html": [
       "<div>\n",
       "<style scoped>\n",
       "    .dataframe tbody tr th:only-of-type {\n",
       "        vertical-align: middle;\n",
       "    }\n",
       "\n",
       "    .dataframe tbody tr th {\n",
       "        vertical-align: top;\n",
       "    }\n",
       "\n",
       "    .dataframe thead th {\n",
       "        text-align: right;\n",
       "    }\n",
       "</style>\n",
       "<table border=\"1\" class=\"dataframe\">\n",
       "  <thead>\n",
       "    <tr style=\"text-align: right;\">\n",
       "      <th></th>\n",
       "      <th>name</th>\n",
       "      <th>review_count</th>\n",
       "      <th>avg_rating</th>\n",
       "    </tr>\n",
       "  </thead>\n",
       "  <tbody>\n",
       "    <tr>\n",
       "      <th>0</th>\n",
       "      <td>ā café</td>\n",
       "      <td>48</td>\n",
       "      <td>5.0</td>\n",
       "    </tr>\n",
       "    <tr>\n",
       "      <th>1</th>\n",
       "      <td>two birds cafe</td>\n",
       "      <td>77</td>\n",
       "      <td>5.0</td>\n",
       "    </tr>\n",
       "    <tr>\n",
       "      <th>2</th>\n",
       "      <td>the brewers cabinet production</td>\n",
       "      <td>13</td>\n",
       "      <td>5.0</td>\n",
       "    </tr>\n",
       "    <tr>\n",
       "      <th>3</th>\n",
       "      <td>taqueria la cañada</td>\n",
       "      <td>17</td>\n",
       "      <td>5.0</td>\n",
       "    </tr>\n",
       "    <tr>\n",
       "      <th>4</th>\n",
       "      <td>la bamba</td>\n",
       "      <td>44</td>\n",
       "      <td>5.0</td>\n",
       "    </tr>\n",
       "    <tr>\n",
       "      <th>5</th>\n",
       "      <td>la 5th av tacos</td>\n",
       "      <td>24</td>\n",
       "      <td>5.0</td>\n",
       "    </tr>\n",
       "    <tr>\n",
       "      <th>6</th>\n",
       "      <td>el sabor mexican and chinese food</td>\n",
       "      <td>21</td>\n",
       "      <td>5.0</td>\n",
       "    </tr>\n",
       "    <tr>\n",
       "      <th>7</th>\n",
       "      <td>eat.drink.Om...YOGA CAFE</td>\n",
       "      <td>7</td>\n",
       "      <td>5.0</td>\n",
       "    </tr>\n",
       "    <tr>\n",
       "      <th>8</th>\n",
       "      <td>d4 Tabletop Gaming Cafe</td>\n",
       "      <td>8</td>\n",
       "      <td>5.0</td>\n",
       "    </tr>\n",
       "    <tr>\n",
       "      <th>9</th>\n",
       "      <td>cabbage vegetarian cafe</td>\n",
       "      <td>12</td>\n",
       "      <td>5.0</td>\n",
       "    </tr>\n",
       "  </tbody>\n",
       "</table>\n",
       "</div>"
      ],
      "text/plain": [
       "                                name  review_count  avg_rating\n",
       "0                             ā café            48         5.0\n",
       "1                     two birds cafe            77         5.0\n",
       "2     the brewers cabinet production            13         5.0\n",
       "3                 taqueria la cañada            17         5.0\n",
       "4                           la bamba            44         5.0\n",
       "5                    la 5th av tacos            24         5.0\n",
       "6  el sabor mexican and chinese food            21         5.0\n",
       "7           eat.drink.Om...YOGA CAFE             7         5.0\n",
       "8            d4 Tabletop Gaming Cafe             8         5.0\n",
       "9            cabbage vegetarian cafe            12         5.0"
      ]
     },
     "execution_count": 15,
     "metadata": {},
     "output_type": "execute_result"
    }
   ],
   "source": [
    "# Which restaurants have the highest rating?\n",
    "pd.read_sql_query(f\"\"\"\n",
    "SELECT name, SUM(review_count) as review_count, AVG(stars) AS avg_rating\n",
    "FROM business\n",
    "WHERE business_id IN {tuple(business_id['business_id'])}\n",
    "GROUP BY name\n",
    "ORDER BY avg_rating DESC\n",
    "LIMIT 10;\n",
    "\"\"\", conn)\n"
   ]
  },
  {
   "cell_type": "markdown",
   "id": "d55e2e19-29d3-4db2-a8b7-c7dd09f29310",
   "metadata": {},
   "source": [
    "- No direct correlation : Higher rating do not gauarantee a higher review count.\n",
    "- Review count refelcts user engagement but not necessarily overall customer satisfaction\n",
    "- Success in the restaurant business is not solely determined by rating or review count"
   ]
  },
  {
   "cell_type": "code",
   "execution_count": 16,
   "id": "b6ce7d61-f469-493a-a3d6-624fddf32f59",
   "metadata": {},
   "outputs": [
    {
     "data": {
      "text/html": [
       "<div>\n",
       "<style scoped>\n",
       "    .dataframe tbody tr th:only-of-type {\n",
       "        vertical-align: middle;\n",
       "    }\n",
       "\n",
       "    .dataframe tbody tr th {\n",
       "        vertical-align: top;\n",
       "    }\n",
       "\n",
       "    .dataframe thead th {\n",
       "        text-align: right;\n",
       "    }\n",
       "</style>\n",
       "<table border=\"1\" class=\"dataframe\">\n",
       "  <thead>\n",
       "    <tr style=\"text-align: right;\">\n",
       "      <th></th>\n",
       "      <th>business_id</th>\n",
       "      <th>checkin_count</th>\n",
       "    </tr>\n",
       "  </thead>\n",
       "  <tbody>\n",
       "    <tr>\n",
       "      <th>0</th>\n",
       "      <td>---kPU91CF4Lq2-WlRu9Lw</td>\n",
       "      <td>11</td>\n",
       "    </tr>\n",
       "    <tr>\n",
       "      <th>1</th>\n",
       "      <td>--0iUa4sNDFiZFrAdIWhZQ</td>\n",
       "      <td>10</td>\n",
       "    </tr>\n",
       "    <tr>\n",
       "      <th>2</th>\n",
       "      <td>--30_8IhuyMHbSOcNWd6DQ</td>\n",
       "      <td>2</td>\n",
       "    </tr>\n",
       "    <tr>\n",
       "      <th>3</th>\n",
       "      <td>--7PUidqRWpRSpXebiyxTg</td>\n",
       "      <td>10</td>\n",
       "    </tr>\n",
       "    <tr>\n",
       "      <th>4</th>\n",
       "      <td>--7jw19RH9JKXgFohspgQw</td>\n",
       "      <td>26</td>\n",
       "    </tr>\n",
       "    <tr>\n",
       "      <th>...</th>\n",
       "      <td>...</td>\n",
       "      <td>...</td>\n",
       "    </tr>\n",
       "    <tr>\n",
       "      <th>131925</th>\n",
       "      <td>zznJox6-nmXlGYNWgTDwQQ</td>\n",
       "      <td>67</td>\n",
       "    </tr>\n",
       "    <tr>\n",
       "      <th>131926</th>\n",
       "      <td>zznZqH9CiAznbkV6fXyHWA</td>\n",
       "      <td>1</td>\n",
       "    </tr>\n",
       "    <tr>\n",
       "      <th>131927</th>\n",
       "      <td>zzu6_r3DxBJuXcjnOYVdTw</td>\n",
       "      <td>23</td>\n",
       "    </tr>\n",
       "    <tr>\n",
       "      <th>131928</th>\n",
       "      <td>zzw66H6hVjXQEt0Js3Mo4A</td>\n",
       "      <td>2</td>\n",
       "    </tr>\n",
       "    <tr>\n",
       "      <th>131929</th>\n",
       "      <td>zzyx5x0Z7xXWWvWnZFuxlQ</td>\n",
       "      <td>1</td>\n",
       "    </tr>\n",
       "  </tbody>\n",
       "</table>\n",
       "<p>131930 rows × 2 columns</p>\n",
       "</div>"
      ],
      "text/plain": [
       "                   business_id  checkin_count\n",
       "0       ---kPU91CF4Lq2-WlRu9Lw             11\n",
       "1       --0iUa4sNDFiZFrAdIWhZQ             10\n",
       "2       --30_8IhuyMHbSOcNWd6DQ              2\n",
       "3       --7PUidqRWpRSpXebiyxTg             10\n",
       "4       --7jw19RH9JKXgFohspgQw             26\n",
       "...                        ...            ...\n",
       "131925  zznJox6-nmXlGYNWgTDwQQ             67\n",
       "131926  zznZqH9CiAznbkV6fXyHWA              1\n",
       "131927  zzu6_r3DxBJuXcjnOYVdTw             23\n",
       "131928  zzw66H6hVjXQEt0Js3Mo4A              2\n",
       "131929  zzyx5x0Z7xXWWvWnZFuxlQ              1\n",
       "\n",
       "[131930 rows x 2 columns]"
      ]
     },
     "execution_count": 16,
     "metadata": {},
     "output_type": "execute_result"
    }
   ],
   "source": [
    "# Do restaurants with higher engagement tend to have higher ratings?\n",
    " \n",
    "pd.read_sql_query(\"\"\"select business_id,\n",
    " sum(length(date) - length(replace(date,',',''))+1) as checkin_count\n",
    " from checkin\n",
    " group by business_id\n",
    " \"\"\",conn)\n",
    "\n"
   ]
  },
  {
   "cell_type": "code",
   "execution_count": 17,
   "id": "ec1b07a5-d1e4-40f5-9c54-0413e876b7b1",
   "metadata": {},
   "outputs": [
    {
     "data": {
      "text/html": [
       "<div>\n",
       "<style scoped>\n",
       "    .dataframe tbody tr th:only-of-type {\n",
       "        vertical-align: middle;\n",
       "    }\n",
       "\n",
       "    .dataframe tbody tr th {\n",
       "        vertical-align: top;\n",
       "    }\n",
       "\n",
       "    .dataframe thead th {\n",
       "        text-align: right;\n",
       "    }\n",
       "</style>\n",
       "<table border=\"1\" class=\"dataframe\">\n",
       "  <thead>\n",
       "    <tr style=\"text-align: right;\">\n",
       "      <th></th>\n",
       "      <th>business_id</th>\n",
       "      <th>count(*)</th>\n",
       "    </tr>\n",
       "  </thead>\n",
       "  <tbody>\n",
       "    <tr>\n",
       "      <th>0</th>\n",
       "      <td>---kPU91CF4Lq2-WlRu9Lw</td>\n",
       "      <td>4</td>\n",
       "    </tr>\n",
       "    <tr>\n",
       "      <th>1</th>\n",
       "      <td>--0iUa4sNDFiZFrAdIWhZQ</td>\n",
       "      <td>6</td>\n",
       "    </tr>\n",
       "    <tr>\n",
       "      <th>2</th>\n",
       "      <td>--30_8IhuyMHbSOcNWd6DQ</td>\n",
       "      <td>1</td>\n",
       "    </tr>\n",
       "    <tr>\n",
       "      <th>3</th>\n",
       "      <td>--7PUidqRWpRSpXebiyxTg</td>\n",
       "      <td>3</td>\n",
       "    </tr>\n",
       "    <tr>\n",
       "      <th>4</th>\n",
       "      <td>--8IbOsAAxjKRoYsBFL-PA</td>\n",
       "      <td>4</td>\n",
       "    </tr>\n",
       "    <tr>\n",
       "      <th>...</th>\n",
       "      <td>...</td>\n",
       "      <td>...</td>\n",
       "    </tr>\n",
       "    <tr>\n",
       "      <th>106188</th>\n",
       "      <td>zzjCxn89a7RQo8keIOO_Ag</td>\n",
       "      <td>1</td>\n",
       "    </tr>\n",
       "    <tr>\n",
       "      <th>106189</th>\n",
       "      <td>zzjFdJwXuxBOGe9JeY_EMw</td>\n",
       "      <td>2</td>\n",
       "    </tr>\n",
       "    <tr>\n",
       "      <th>106190</th>\n",
       "      <td>zznJox6-nmXlGYNWgTDwQQ</td>\n",
       "      <td>6</td>\n",
       "    </tr>\n",
       "    <tr>\n",
       "      <th>106191</th>\n",
       "      <td>zzu6_r3DxBJuXcjnOYVdTw</td>\n",
       "      <td>2</td>\n",
       "    </tr>\n",
       "    <tr>\n",
       "      <th>106192</th>\n",
       "      <td>zzyx5x0Z7xXWWvWnZFuxlQ</td>\n",
       "      <td>2</td>\n",
       "    </tr>\n",
       "  </tbody>\n",
       "</table>\n",
       "<p>106193 rows × 2 columns</p>\n",
       "</div>"
      ],
      "text/plain": [
       "                   business_id  count(*)\n",
       "0       ---kPU91CF4Lq2-WlRu9Lw         4\n",
       "1       --0iUa4sNDFiZFrAdIWhZQ         6\n",
       "2       --30_8IhuyMHbSOcNWd6DQ         1\n",
       "3       --7PUidqRWpRSpXebiyxTg         3\n",
       "4       --8IbOsAAxjKRoYsBFL-PA         4\n",
       "...                        ...       ...\n",
       "106188  zzjCxn89a7RQo8keIOO_Ag         1\n",
       "106189  zzjFdJwXuxBOGe9JeY_EMw         2\n",
       "106190  zznJox6-nmXlGYNWgTDwQQ         6\n",
       "106191  zzu6_r3DxBJuXcjnOYVdTw         2\n",
       "106192  zzyx5x0Z7xXWWvWnZFuxlQ         2\n",
       "\n",
       "[106193 rows x 2 columns]"
      ]
     },
     "execution_count": 17,
     "metadata": {},
     "output_type": "execute_result"
    }
   ],
   "source": [
    "pd.read_sql_query(\"\"\"SELECT business_id, count(*)\n",
    "FROM tip\n",
    "GROUP BY business_id\n",
    "\"\"\", conn)\n"
   ]
  },
  {
   "cell_type": "code",
   "execution_count": 18,
   "id": "0325989b-1f41-40c5-99d8-25df8405d707",
   "metadata": {},
   "outputs": [],
   "source": [
    "# Do restaurants with higher engagement tend to have higher ratings?\n",
    "review_count_df = pd.read_sql_query(f\"\"\"\n",
    "SELECT total.avg_rating as rating,\n",
    "AVG(total.review_count) as avg_review_count,\n",
    "AVG(total.checkin_count) as avg_checkin_count,\n",
    "AVG(total.tip_count) as avg_tip_count\n",
    "FROM\n",
    "(SELECT\n",
    "        b.business_id,\n",
    "        SUM(b.review_count) AS review_count,\n",
    "        AVG(b.stars) AS avg_rating,\n",
    "        SUM(LENGTH(cc.date) - LENGTH(REPLACE(cc.date, ',', '')) + 1) AS checkin_count,\n",
    "        SUM(tip.tip_count) as tip_count\n",
    "FROM\n",
    "    business b\n",
    "LEFT JOIN\n",
    "        checkin cc ON b.business_id = cc.business_id\n",
    "LEFT JOIN\n",
    "        (SELECT business_id, count(business_id) as tip_count FROM tip GROUP BY business_id ORDER BY tip_count) as tip\n",
    "    ON b.business_id = tip.business_id\n",
    "WHERE b.business_id IN {tuple(business_id['business_id'])}\n",
    "GROUP BY\n",
    "        b.business_id) as total\n",
    "\n",
    "GROUP BY total.avg_rating\n",
    "\"\"\", conn)\n",
    "\n",
    "\n"
   ]
  },
  {
   "cell_type": "code",
   "execution_count": 19,
   "id": "5fc392cb-c31b-4e57-b229-a4973c6d81c9",
   "metadata": {},
   "outputs": [
    {
     "data": {
      "text/html": [
       "<div>\n",
       "<style scoped>\n",
       "    .dataframe tbody tr th:only-of-type {\n",
       "        vertical-align: middle;\n",
       "    }\n",
       "\n",
       "    .dataframe tbody tr th {\n",
       "        vertical-align: top;\n",
       "    }\n",
       "\n",
       "    .dataframe thead th {\n",
       "        text-align: right;\n",
       "    }\n",
       "</style>\n",
       "<table border=\"1\" class=\"dataframe\">\n",
       "  <thead>\n",
       "    <tr style=\"text-align: right;\">\n",
       "      <th></th>\n",
       "      <th>rating</th>\n",
       "      <th>avg_review_count</th>\n",
       "      <th>avg_checkin_count</th>\n",
       "      <th>avg_tip_count</th>\n",
       "    </tr>\n",
       "  </thead>\n",
       "  <tbody>\n",
       "    <tr>\n",
       "      <th>0</th>\n",
       "      <td>1.0</td>\n",
       "      <td>14.365079</td>\n",
       "      <td>17.518072</td>\n",
       "      <td>2.781513</td>\n",
       "    </tr>\n",
       "    <tr>\n",
       "      <th>1</th>\n",
       "      <td>1.5</td>\n",
       "      <td>24.358459</td>\n",
       "      <td>34.480969</td>\n",
       "      <td>3.884654</td>\n",
       "    </tr>\n",
       "    <tr>\n",
       "      <th>2</th>\n",
       "      <td>2.0</td>\n",
       "      <td>27.759629</td>\n",
       "      <td>52.386515</td>\n",
       "      <td>4.581058</td>\n",
       "    </tr>\n",
       "    <tr>\n",
       "      <th>3</th>\n",
       "      <td>2.5</td>\n",
       "      <td>36.631037</td>\n",
       "      <td>79.349429</td>\n",
       "      <td>6.325225</td>\n",
       "    </tr>\n",
       "    <tr>\n",
       "      <th>4</th>\n",
       "      <td>3.0</td>\n",
       "      <td>48.054998</td>\n",
       "      <td>105.970405</td>\n",
       "      <td>8.301950</td>\n",
       "    </tr>\n",
       "    <tr>\n",
       "      <th>5</th>\n",
       "      <td>3.5</td>\n",
       "      <td>63.730125</td>\n",
       "      <td>125.781702</td>\n",
       "      <td>10.320786</td>\n",
       "    </tr>\n",
       "    <tr>\n",
       "      <th>6</th>\n",
       "      <td>4.0</td>\n",
       "      <td>73.136954</td>\n",
       "      <td>127.139075</td>\n",
       "      <td>11.329362</td>\n",
       "    </tr>\n",
       "    <tr>\n",
       "      <th>7</th>\n",
       "      <td>4.5</td>\n",
       "      <td>65.282554</td>\n",
       "      <td>86.177605</td>\n",
       "      <td>8.995201</td>\n",
       "    </tr>\n",
       "    <tr>\n",
       "      <th>8</th>\n",
       "      <td>5.0</td>\n",
       "      <td>31.127979</td>\n",
       "      <td>27.545113</td>\n",
       "      <td>4.269082</td>\n",
       "    </tr>\n",
       "  </tbody>\n",
       "</table>\n",
       "</div>"
      ],
      "text/plain": [
       "   rating  avg_review_count  avg_checkin_count  avg_tip_count\n",
       "0     1.0         14.365079          17.518072       2.781513\n",
       "1     1.5         24.358459          34.480969       3.884654\n",
       "2     2.0         27.759629          52.386515       4.581058\n",
       "3     2.5         36.631037          79.349429       6.325225\n",
       "4     3.0         48.054998         105.970405       8.301950\n",
       "5     3.5         63.730125         125.781702      10.320786\n",
       "6     4.0         73.136954         127.139075      11.329362\n",
       "7     4.5         65.282554          86.177605       8.995201\n",
       "8     5.0         31.127979          27.545113       4.269082"
      ]
     },
     "metadata": {},
     "output_type": "display_data"
    }
   ],
   "source": [
    "display(review_count_df)\n"
   ]
  },
  {
   "cell_type": "code",
   "execution_count": 20,
   "id": "04826ac2-afea-4ae8-bae7-85b915892dd9",
   "metadata": {},
   "outputs": [],
   "source": [
    "import matplotlib.pyplot as plt\n"
   ]
  },
  {
   "cell_type": "code",
   "execution_count": 21,
   "id": "e10b46cd-2da6-4fa2-8bf8-9465a27849a8",
   "metadata": {},
   "outputs": [
    {
     "data": {
      "image/png": "[encoded data removed]",
      "text/plain": [
       "<Figure size 1500x500 with 3 Axes>"
      ]
     },
     "metadata": {},
     "output_type": "display_data"
    }
   ],
   "source": [
    "plt.figure(figsize=(15, 5))  # Make the figure larger and horizontal\n",
    "plt.suptitle('AVG Engagement based on Rating\\n\\n', fontsize=16)\n",
    "\n",
    "# Review Count Plot\n",
    "plt.subplot(1, 3, 1)\n",
    "plt.title('Review Count')\n",
    "plt.bar(review_count_df['rating'].astype(str), review_count_df['avg_review_count'], edgecolor='k', color='#CB754B')\n",
    "plt.xticks(rotation=45)\n",
    "plt.grid(axis='y')\n",
    "\n",
    "# Checkin Count Plot\n",
    "plt.subplot(1, 3, 2)\n",
    "plt.title('Checkin Count')\n",
    "plt.bar(review_count_df['rating'].astype(str), review_count_df['avg_checkin_count'], edgecolor='k', color='#F8862C')\n",
    "plt.xticks(rotation=45)\n",
    "plt.grid(axis='y')\n",
    "\n",
    "# Tip Count Plot\n",
    "plt.subplot(1, 3, 3)\n",
    "plt.title('Tip Count')\n",
    "plt.bar(review_count_df['rating'].astype(str), review_count_df['avg_tip_count'], edgecolor='k', color='#E54F29')\n",
    "plt.xticks(rotation=45)\n",
    "plt.grid(axis='y')\n",
    "\n",
    "plt.tight_layout(rect=[0, 0, 1, 0.95])  # Adjust layout so the title fits\n",
    "plt.show()\n"
   ]
  },
  {
   "cell_type": "markdown",
   "id": "aa98ac4f-ef9b-4991-a591-1c193a1f691c",
   "metadata": {},
   "source": [
    "- Data indicates a general rise in average reviews, check-ins, and tip counts.\n",
    "\n",
    "- Ratings have significantly improved, jumping from 1 to 4 stars.  -\n",
    "\n",
    "- Restaurants with a 4-star rating show the most engagement; however, engagement decreases for those with ratings above 4 stars.\n",
    "\n",
    "- This decline at the 5-star level could indicate a saturation point, where fewer customers feel inclined to leave reviews, or it may suggest selectivity, indicating that only a small, highly satisfied group visits these establishments."
   ]
  },
  {
   "cell_type": "code",
   "execution_count": 22,
   "id": "e778bccd-b5da-4916-bf1d-717e5070ad71",
   "metadata": {},
   "outputs": [],
   "source": [
    "# Is there a correlation between the number of reviews, tips, and check-ins for a business?\n",
    "engagement_df = pd.read_sql_query(f\"\"\"\n",
    "SELECT\n",
    "    b.business_id,\n",
    "    SUM(b.review_count) AS review_count,\n",
    "    AVG(b.stars) AS avg_rating,\n",
    "    SUM(LENGTH(cc.date) - LENGTH(REPLACE(cc.date, ',', '')) + 1) AS checkin_count,\n",
    "    SUM(tip.tip_count) as tip_count\n",
    "FROM\n",
    "    business b\n",
    "LEFT JOIN\n",
    "    checkin cc ON b.business_id = cc.business_id\n",
    "LEFT JOIN\n",
    "    (SELECT business_id, count(business_id) as tip_count FROM tip GROUP BY business_id ORDER BY tip_count) as tip\n",
    "    ON b.business_id = tip.business_id\n",
    "WHERE\n",
    "    b.business_id IN {tuple(business_id['business_id'])}\n",
    "GROUP BY\n",
    "    b.business_id\n",
    "\"\"\", conn).dropna()\n"
   ]
  },
  {
   "cell_type": "code",
   "execution_count": 23,
   "id": "765c9495-6bce-46c1-af74-6601239f081c",
   "metadata": {},
   "outputs": [
    {
     "name": "stdout",
     "output_type": "stream",
     "text": [
      "   rating  avg_review_count  avg_checkin_count  avg_tip_count\n",
      "0     1.0         14.365079          17.518072       2.781513\n",
      "1     1.5         24.358459          34.480969       3.884654\n",
      "2     2.0         27.759629          52.386515       4.581058\n",
      "3     2.5         36.631037          79.349429       6.325225\n",
      "4     3.0         48.054998         105.970405       8.301950\n",
      "5     3.5         63.730125         125.781702      10.320786\n",
      "6     4.0         73.136954         127.139075      11.329362\n",
      "7     4.5         65.282554          86.177605       8.995201\n",
      "8     5.0         31.127979          27.545113       4.269082\n"
     ]
    }
   ],
   "source": [
    "print(review_count_df)\n"
   ]
  },
  {
   "cell_type": "code",
   "execution_count": 24,
   "id": "6ccbbbb7-acb8-4084-a120-0c888d077335",
   "metadata": {},
   "outputs": [
    {
     "data": {
      "text/html": [
       "<div>\n",
       "<style scoped>\n",
       "    .dataframe tbody tr th:only-of-type {\n",
       "        vertical-align: middle;\n",
       "    }\n",
       "\n",
       "    .dataframe tbody tr th {\n",
       "        vertical-align: top;\n",
       "    }\n",
       "\n",
       "    .dataframe thead th {\n",
       "        text-align: right;\n",
       "    }\n",
       "</style>\n",
       "<table border=\"1\" class=\"dataframe\">\n",
       "  <thead>\n",
       "    <tr style=\"text-align: right;\">\n",
       "      <th></th>\n",
       "      <th>review_count</th>\n",
       "      <th>checkin_count</th>\n",
       "      <th>tip_count</th>\n",
       "    </tr>\n",
       "  </thead>\n",
       "  <tbody>\n",
       "    <tr>\n",
       "      <th>review_count</th>\n",
       "      <td>1.000000</td>\n",
       "      <td>0.626884</td>\n",
       "      <td>0.766321</td>\n",
       "    </tr>\n",
       "    <tr>\n",
       "      <th>checkin_count</th>\n",
       "      <td>0.626884</td>\n",
       "      <td>1.000000</td>\n",
       "      <td>0.772088</td>\n",
       "    </tr>\n",
       "    <tr>\n",
       "      <th>tip_count</th>\n",
       "      <td>0.766321</td>\n",
       "      <td>0.772088</td>\n",
       "      <td>1.000000</td>\n",
       "    </tr>\n",
       "  </tbody>\n",
       "</table>\n",
       "</div>"
      ],
      "text/plain": [
       "               review_count  checkin_count  tip_count\n",
       "review_count       1.000000       0.626884   0.766321\n",
       "checkin_count      0.626884       1.000000   0.772088\n",
       "tip_count          0.766321       0.772088   1.000000"
      ]
     },
     "execution_count": 24,
     "metadata": {},
     "output_type": "execute_result"
    }
   ],
   "source": [
    "engagement_df [['review_count' , 'checkin_count' , 'tip_count']].corr()"
   ]
  },
  {
   "cell_type": "code",
   "execution_count": 25,
   "id": "0a11995c-fd90-4861-85b9-78394723003c",
   "metadata": {},
   "outputs": [
    {
     "data": {
      "text/plain": [
       "<Axes: >"
      ]
     },
     "execution_count": 25,
     "metadata": {},
     "output_type": "execute_result"
    },
    {
     "data": {
      "image/png": "[encoded data removed]",
      "text/plain": [
       "<Figure size 640x480 with 2 Axes>"
      ]
     },
     "metadata": {},
     "output_type": "display_data"
    }
   ],
   "source": [
    "# Define a custom colormap for the heatmap visualization\n",
    "from matplotlib.colors import LinearSegmentedColormap\n",
    "import seaborn as sns\n",
    "\n",
    "colors = ['#FFF1E5', \"#F8862C\", \"#CB754B\"]\n",
    "custom_cmap = LinearSegmentedColormap.from_list(\"mycmap\", colors)\n",
    "sns.heatmap(engagement_df [['review_count', 'checkin_count', 'tip_count']].corr(), cmap = custom_cmap, annot = True, linewidths=0.5, linecolor = 'black')"
   ]
  },
  {
   "cell_type": "markdown",
   "id": "8b9ade80-8aad-439a-ace9-eb403fcde2f9",
   "metadata": {},
   "source": [
    "- These correlations indicate that user engagement varies across different platforms. User Engagement: The Connection Between Reviews, Tips, and\n",
    "  Check-in Reviews, tips, and check-ins are interconnected; when activity rises in one area, it often boosts activity in the others as well.\n",
    "\n",
    "- Businesses should implement strategies that promote all kinds of user engagement, as growth in one area tends to stimulate growth in others. This comprehensive approach will enhance visibility and improve customer interaction.\n"
   ]
  },
  {
   "cell_type": "code",
   "execution_count": 26,
   "id": "5c826b38-7045-4d68-9f60-d6268d64da61",
   "metadata": {},
   "outputs": [],
   "source": [
    "# Is there a difference in the user engagement (reviews, tips, and check-ins) between high-rated and low-rated businesses?\n",
    "engagement_df = pd.read_sql_query(f\"\"\"\n",
    "SELECT\n",
    "    b.business_id,\n",
    "    SUM(b.review_count) AS review_count,\n",
    "    AVG(b.stars) AS avg_rating,\n",
    "    SUM(LENGTH(cc.date) - LENGTH(REPLACE(cc.date, ',', '')) + 1) AS checkin_count,\n",
    "    SUM(tip.tip_count) AS tip_count,\n",
    "    (CASE WHEN b.stars >= 3.5 THEN 'High-Rated' ELSE 'Low-Rated' END) AS category\n",
    "FROM\n",
    "    business b\n",
    "LEFT JOIN\n",
    "    checkin cc ON b.business_id = cc.business_id\n",
    "LEFT JOIN\n",
    "    (SELECT business_id, COUNT(business_id) AS tip_count FROM tip GROUP BY business_id ORDER BY tip_count) AS tip\n",
    "    ON b.business_id = tip.business_id\n",
    "WHERE\n",
    "    b.business_id IN {tuple(business_id['business_id'])}\n",
    "GROUP BY\n",
    "    b.business_id\n",
    "\"\"\", conn).dropna()\n"
   ]
  },
  {
   "cell_type": "code",
   "execution_count": 27,
   "id": "f44011f8-325f-459b-b657-8171eed998dc",
   "metadata": {},
   "outputs": [
    {
     "data": {
      "text/html": [
       "<div>\n",
       "<style scoped>\n",
       "    .dataframe tbody tr th:only-of-type {\n",
       "        vertical-align: middle;\n",
       "    }\n",
       "\n",
       "    .dataframe tbody tr th {\n",
       "        vertical-align: top;\n",
       "    }\n",
       "\n",
       "    .dataframe thead th {\n",
       "        text-align: right;\n",
       "    }\n",
       "</style>\n",
       "<table border=\"1\" class=\"dataframe\">\n",
       "  <thead>\n",
       "    <tr style=\"text-align: right;\">\n",
       "      <th></th>\n",
       "      <th>review_count</th>\n",
       "      <th>checkin_count</th>\n",
       "      <th>tip_count</th>\n",
       "    </tr>\n",
       "    <tr>\n",
       "      <th>category</th>\n",
       "      <th></th>\n",
       "      <th></th>\n",
       "      <th></th>\n",
       "    </tr>\n",
       "  </thead>\n",
       "  <tbody>\n",
       "    <tr>\n",
       "      <th>High-Rated</th>\n",
       "      <td>72.291062</td>\n",
       "      <td>122.066641</td>\n",
       "      <td>10.162766</td>\n",
       "    </tr>\n",
       "    <tr>\n",
       "      <th>Low-Rated</th>\n",
       "      <td>42.123420</td>\n",
       "      <td>88.880828</td>\n",
       "      <td>6.541689</td>\n",
       "    </tr>\n",
       "  </tbody>\n",
       "</table>\n",
       "</div>"
      ],
      "text/plain": [
       "            review_count  checkin_count  tip_count\n",
       "category                                          \n",
       "High-Rated     72.291062     122.066641  10.162766\n",
       "Low-Rated      42.123420      88.880828   6.541689"
      ]
     },
     "execution_count": 27,
     "metadata": {},
     "output_type": "execute_result"
    }
   ],
   "source": [
    "# Check the difference in engagement between High-Rated and Low-Rated businesses\n",
    "engagement_df.groupby('category')[['review_count', 'checkin_count', 'tip_count']].mean()\n"
   ]
  },
  {
   "cell_type": "markdown",
   "id": "2d74a2fa-ef03-442f-85fd-2ff2f1ba2d80",
   "metadata": {},
   "source": [
    "- There is a noticeable connection between elevated ratings and improved user engagement in reviews, tips, and check-ins.\n",
    "\n",
    "- This trend underscores the importance of maintaining exceptional service and high-quality standards. These practices appear to encourage more reviews, check-ins, and tips, which are crucial metrics for gauging customer engagement and satisfaction."
   ]
  },
  {
   "cell_type": "code",
   "execution_count": 28,
   "id": "eb7dfc50-43ad-4b45-884f-6a78c3530a93",
   "metadata": {},
   "outputs": [],
   "source": [
    "# function to calculate the success score based on the avg rating and total review count\n",
    "def calculate_success_metric(df):\n",
    "    success_score = []\n",
    "    for index, row in df.iterrows():\n",
    "        score = row['avg_rating'] * np.log(row['review_count'] + 1)\n",
    "        success_score.append(score)\n",
    "    return success_score\n"
   ]
  },
  {
   "cell_type": "code",
   "execution_count": 29,
   "id": "ff2f1956-467c-4cbd-b8cd-0d4af7781b2a",
   "metadata": {},
   "outputs": [],
   "source": [
    "import numpy as np\n"
   ]
  },
  {
   "cell_type": "code",
   "execution_count": 30,
   "id": "01a3eb65-a5ab-411c-b361-75811e591c30",
   "metadata": {},
   "outputs": [],
   "source": [
    "# How do success metrices (review_count or avg_rating) of restaurants vary across diffrent states and cities?\n",
    "city_df = pd.read_sql_query(f\"\"\"select city, state, latitude, longitude, AVG(stars) as avg_rating, SUM(review_count) as review_count, \n",
    "count(*) as restaurant_count\n",
    "from business\n",
    "where business_id IN {tuple(business_id['business_id'])}\n",
    "group by state, city\n",
    "order by review_count desc\n",
    "limit 10\"\"\" , conn)\n",
    "\n",
    "# Apply the success score calculation function to the dataframe\n",
    "city_df['success_score'] = calculate_success_metric(city_df)\n",
    "\n"
   ]
  },
  {
   "cell_type": "code",
   "execution_count": 31,
   "id": "fa15389c-364c-4aae-9c3a-5c9c4535f081",
   "metadata": {},
   "outputs": [
    {
     "data": {
      "text/html": [
       "<div>\n",
       "<style scoped>\n",
       "    .dataframe tbody tr th:only-of-type {\n",
       "        vertical-align: middle;\n",
       "    }\n",
       "\n",
       "    .dataframe tbody tr th {\n",
       "        vertical-align: top;\n",
       "    }\n",
       "\n",
       "    .dataframe thead th {\n",
       "        text-align: right;\n",
       "    }\n",
       "</style>\n",
       "<table border=\"1\" class=\"dataframe\">\n",
       "  <thead>\n",
       "    <tr style=\"text-align: right;\">\n",
       "      <th></th>\n",
       "      <th>city</th>\n",
       "      <th>state</th>\n",
       "      <th>latitude</th>\n",
       "      <th>longitude</th>\n",
       "      <th>avg_rating</th>\n",
       "      <th>review_count</th>\n",
       "      <th>restaurant_count</th>\n",
       "      <th>success_score</th>\n",
       "    </tr>\n",
       "  </thead>\n",
       "  <tbody>\n",
       "    <tr>\n",
       "      <th>0</th>\n",
       "      <td>Philadelphia</td>\n",
       "      <td>PA</td>\n",
       "      <td>39.955505</td>\n",
       "      <td>-75.155564</td>\n",
       "      <td>3.532156</td>\n",
       "      <td>175487</td>\n",
       "      <td>3001</td>\n",
       "      <td>42.651934</td>\n",
       "    </tr>\n",
       "    <tr>\n",
       "      <th>1</th>\n",
       "      <td>Tampa</td>\n",
       "      <td>FL</td>\n",
       "      <td>27.890814</td>\n",
       "      <td>-82.502346</td>\n",
       "      <td>3.571429</td>\n",
       "      <td>104376</td>\n",
       "      <td>1715</td>\n",
       "      <td>41.270588</td>\n",
       "    </tr>\n",
       "    <tr>\n",
       "      <th>2</th>\n",
       "      <td>Indianapolis</td>\n",
       "      <td>IN</td>\n",
       "      <td>39.637133</td>\n",
       "      <td>-86.127217</td>\n",
       "      <td>3.412111</td>\n",
       "      <td>92639</td>\n",
       "      <td>1701</td>\n",
       "      <td>39.022521</td>\n",
       "    </tr>\n",
       "    <tr>\n",
       "      <th>3</th>\n",
       "      <td>Tucson</td>\n",
       "      <td>AZ</td>\n",
       "      <td>32.338572</td>\n",
       "      <td>-111.010760</td>\n",
       "      <td>3.386187</td>\n",
       "      <td>91613</td>\n",
       "      <td>1419</td>\n",
       "      <td>38.688341</td>\n",
       "    </tr>\n",
       "    <tr>\n",
       "      <th>4</th>\n",
       "      <td>Nashville</td>\n",
       "      <td>TN</td>\n",
       "      <td>36.208102</td>\n",
       "      <td>-86.768170</td>\n",
       "      <td>3.493590</td>\n",
       "      <td>87070</td>\n",
       "      <td>1404</td>\n",
       "      <td>39.737764</td>\n",
       "    </tr>\n",
       "    <tr>\n",
       "      <th>5</th>\n",
       "      <td>New Orleans</td>\n",
       "      <td>LA</td>\n",
       "      <td>29.963974</td>\n",
       "      <td>-90.042604</td>\n",
       "      <td>3.693676</td>\n",
       "      <td>69239</td>\n",
       "      <td>1012</td>\n",
       "      <td>41.167252</td>\n",
       "    </tr>\n",
       "    <tr>\n",
       "      <th>6</th>\n",
       "      <td>Saint Louis</td>\n",
       "      <td>MO</td>\n",
       "      <td>38.583223</td>\n",
       "      <td>-90.407187</td>\n",
       "      <td>3.414303</td>\n",
       "      <td>51490</td>\n",
       "      <td>811</td>\n",
       "      <td>37.042331</td>\n",
       "    </tr>\n",
       "    <tr>\n",
       "      <th>7</th>\n",
       "      <td>Reno</td>\n",
       "      <td>NV</td>\n",
       "      <td>39.476518</td>\n",
       "      <td>-119.784037</td>\n",
       "      <td>3.479626</td>\n",
       "      <td>48393</td>\n",
       "      <td>589</td>\n",
       "      <td>37.535187</td>\n",
       "    </tr>\n",
       "    <tr>\n",
       "      <th>8</th>\n",
       "      <td>Edmonton</td>\n",
       "      <td>AB</td>\n",
       "      <td>53.436403</td>\n",
       "      <td>-113.604288</td>\n",
       "      <td>3.509379</td>\n",
       "      <td>45916</td>\n",
       "      <td>1546</td>\n",
       "      <td>37.671748</td>\n",
       "    </tr>\n",
       "    <tr>\n",
       "      <th>9</th>\n",
       "      <td>Boise</td>\n",
       "      <td>ID</td>\n",
       "      <td>43.611192</td>\n",
       "      <td>-116.206275</td>\n",
       "      <td>3.558824</td>\n",
       "      <td>36104</td>\n",
       "      <td>561</td>\n",
       "      <td>37.346958</td>\n",
       "    </tr>\n",
       "  </tbody>\n",
       "</table>\n",
       "</div>"
      ],
      "text/plain": [
       "           city state   latitude   longitude  avg_rating  review_count  \\\n",
       "0  Philadelphia    PA  39.955505  -75.155564    3.532156        175487   \n",
       "1         Tampa    FL  27.890814  -82.502346    3.571429        104376   \n",
       "2  Indianapolis    IN  39.637133  -86.127217    3.412111         92639   \n",
       "3        Tucson    AZ  32.338572 -111.010760    3.386187         91613   \n",
       "4     Nashville    TN  36.208102  -86.768170    3.493590         87070   \n",
       "5   New Orleans    LA  29.963974  -90.042604    3.693676         69239   \n",
       "6   Saint Louis    MO  38.583223  -90.407187    3.414303         51490   \n",
       "7          Reno    NV  39.476518 -119.784037    3.479626         48393   \n",
       "8      Edmonton    AB  53.436403 -113.604288    3.509379         45916   \n",
       "9         Boise    ID  43.611192 -116.206275    3.558824         36104   \n",
       "\n",
       "   restaurant_count  success_score  \n",
       "0              3001      42.651934  \n",
       "1              1715      41.270588  \n",
       "2              1701      39.022521  \n",
       "3              1419      38.688341  \n",
       "4              1404      39.737764  \n",
       "5              1012      41.167252  \n",
       "6               811      37.042331  \n",
       "7               589      37.535187  \n",
       "8              1546      37.671748  \n",
       "9               561      37.346958  "
      ]
     },
     "execution_count": 31,
     "metadata": {},
     "output_type": "execute_result"
    }
   ],
   "source": [
    "city_df"
   ]
  },
  {
   "cell_type": "code",
   "execution_count": 32,
   "id": "dbc1dec7-3835-44ec-9300-d2dce6880ba4",
   "metadata": {},
   "outputs": [],
   "source": [
    "import folium\n",
    "from folium.plugins import HeatMap\n"
   ]
  },
  {
   "cell_type": "code",
   "execution_count": 33,
   "id": "90570b03-7476-41fe-927e-4fcea34659f0",
   "metadata": {},
   "outputs": [
    {
     "data": {
      "text/html": [
       "<div style=\"width:100%;\"><div style=\"position:relative;width:100%;height:0;padding-bottom:60%;\"><span style=\"color:#565656\">Make this Notebook Trusted to load map: File -> Trust Notebook</span><iframe srcdoc=\"&lt;!DOCTYPE html&gt;\n",
       "&lt;html&gt;\n",
       "&lt;head&gt;\n",
       "    \n",
       "    &lt;meta http-equiv=&quot;content-type&quot; content=&quot;text/html; charset=UTF-8&quot; /&gt;\n",
       "    &lt;script src=&quot;https://cdn.jsdelivr.net/npm/leaflet@1.9.3/dist/leaflet.js&quot;&gt;&lt;/script&gt;\n",
       "    &lt;script src=&quot;https://code.jquery.com/jquery-3.7.1.min.js&quot;&gt;&lt;/script&gt;\n",
       "    &lt;script src=&quot;https://cdn.jsdelivr.net/npm/bootstrap@5.2.2/dist/js/bootstrap.bundle.min.js&quot;&gt;&lt;/script&gt;\n",
       "    &lt;script src=&quot;https://cdnjs.cloudflare.com/ajax/libs/Leaflet.awesome-markers/2.0.2/leaflet.awesome-markers.js&quot;&gt;&lt;/script&gt;\n",
       "    &lt;link rel=&quot;stylesheet&quot; href=&quot;https://cdn.jsdelivr.net/npm/leaflet@1.9.3/dist/leaflet.css&quot;/&gt;\n",
       "    &lt;link rel=&quot;stylesheet&quot; href=&quot;https://cdn.jsdelivr.net/npm/bootstrap@5.2.2/dist/css/bootstrap.min.css&quot;/&gt;\n",
       "    &lt;link rel=&quot;stylesheet&quot; href=&quot;https://netdna.bootstrapcdn.com/bootstrap/3.0.0/css/bootstrap-glyphicons.css&quot;/&gt;\n",
       "    &lt;link rel=&quot;stylesheet&quot; href=&quot;https://cdn.jsdelivr.net/npm/@fortawesome/fontawesome-free@6.2.0/css/all.min.css&quot;/&gt;\n",
       "    &lt;link rel=&quot;stylesheet&quot; href=&quot;https://cdnjs.cloudflare.com/ajax/libs/Leaflet.awesome-markers/2.0.2/leaflet.awesome-markers.css&quot;/&gt;\n",
       "    &lt;link rel=&quot;stylesheet&quot; href=&quot;https://cdn.jsdelivr.net/gh/python-visualization/folium/folium/templates/leaflet.awesome.rotate.min.css&quot;/&gt;\n",
       "    \n",
       "            &lt;meta name=&quot;viewport&quot; content=&quot;width=device-width,\n",
       "                initial-scale=1.0, maximum-scale=1.0, user-scalable=no&quot; /&gt;\n",
       "            &lt;style&gt;\n",
       "                #map_de56839758a2db477775e6eec6426389 {\n",
       "                    position: relative;\n",
       "                    width: 100.0%;\n",
       "                    height: 100.0%;\n",
       "                    left: 0.0%;\n",
       "                    top: 0.0%;\n",
       "                }\n",
       "                .leaflet-container { font-size: 1rem; }\n",
       "            &lt;/style&gt;\n",
       "\n",
       "            &lt;style&gt;html, body {\n",
       "                width: 100%;\n",
       "                height: 100%;\n",
       "                margin: 0;\n",
       "                padding: 0;\n",
       "            }\n",
       "            &lt;/style&gt;\n",
       "\n",
       "            &lt;style&gt;#map {\n",
       "                position:absolute;\n",
       "                top:0;\n",
       "                bottom:0;\n",
       "                right:0;\n",
       "                left:0;\n",
       "                }\n",
       "            &lt;/style&gt;\n",
       "\n",
       "            &lt;script&gt;\n",
       "                L_NO_TOUCH = false;\n",
       "                L_DISABLE_3D = false;\n",
       "            &lt;/script&gt;\n",
       "\n",
       "        \n",
       "    &lt;script src=&quot;https://cdnjs.cloudflare.com/ajax/libs/d3/3.5.5/d3.min.js&quot;&gt;&lt;/script&gt;\n",
       "&lt;/head&gt;\n",
       "&lt;body&gt;\n",
       "    \n",
       "    \n",
       "            &lt;div class=&quot;folium-map&quot; id=&quot;map_de56839758a2db477775e6eec6426389&quot; &gt;&lt;/div&gt;\n",
       "        \n",
       "&lt;/body&gt;\n",
       "&lt;script&gt;\n",
       "    \n",
       "    \n",
       "            var map_de56839758a2db477775e6eec6426389 = L.map(\n",
       "                &quot;map_de56839758a2db477775e6eec6426389&quot;,\n",
       "                {\n",
       "                    center: [38.110143728379995, -97.16084493119999],\n",
       "                    crs: L.CRS.EPSG3857,\n",
       "                    ...{\n",
       "  &quot;zoom&quot;: 4,\n",
       "  &quot;zoomControl&quot;: true,\n",
       "  &quot;preferCanvas&quot;: false,\n",
       "}\n",
       "\n",
       "                }\n",
       "            );\n",
       "\n",
       "            \n",
       "\n",
       "        \n",
       "    \n",
       "            var tile_layer_418405e5ca6c7df3d8361ae3601cc6bd = L.tileLayer(\n",
       "                &quot;https://tile.openstreetmap.org/{z}/{x}/{y}.png&quot;,\n",
       "                {\n",
       "  &quot;minZoom&quot;: 0,\n",
       "  &quot;maxZoom&quot;: 19,\n",
       "  &quot;maxNativeZoom&quot;: 19,\n",
       "  &quot;noWrap&quot;: false,\n",
       "  &quot;attribution&quot;: &quot;\\u0026copy; \\u003ca href=\\&quot;https://www.openstreetmap.org/copyright\\&quot;\\u003eOpenStreetMap\\u003c/a\\u003e contributors&quot;,\n",
       "  &quot;subdomains&quot;: &quot;abc&quot;,\n",
       "  &quot;detectRetina&quot;: false,\n",
       "  &quot;tms&quot;: false,\n",
       "  &quot;opacity&quot;: 1,\n",
       "}\n",
       "\n",
       "            );\n",
       "        \n",
       "    \n",
       "            tile_layer_418405e5ca6c7df3d8361ae3601cc6bd.addTo(map_de56839758a2db477775e6eec6426389);\n",
       "        \n",
       "    \n",
       "            var circle_marker_fb5ed11d68d6e46614f6c7c3283ec945 = L.circleMarker(\n",
       "                [39.9555052, -75.1555641],\n",
       "                {&quot;bubblingMouseEvents&quot;: true, &quot;color&quot;: &quot;#e54f29ff&quot;, &quot;dashArray&quot;: null, &quot;dashOffset&quot;: null, &quot;fill&quot;: true, &quot;fillColor&quot;: &quot;#e54f29ff&quot;, &quot;fillOpacity&quot;: 0.7, &quot;fillRule&quot;: &quot;evenodd&quot;, &quot;lineCap&quot;: &quot;round&quot;, &quot;lineJoin&quot;: &quot;round&quot;, &quot;opacity&quot;: 1.0, &quot;radius&quot;: 5, &quot;stroke&quot;: true, &quot;weight&quot;: 3}\n",
       "            ).addTo(map_de56839758a2db477775e6eec6426389);\n",
       "        \n",
       "    \n",
       "        var popup_df5bd9fc1e937068508c93e85b6ccd46 = L.popup({\n",
       "  &quot;maxWidth&quot;: &quot;100%&quot;,\n",
       "});\n",
       "\n",
       "        \n",
       "            \n",
       "                var html_67f1221facd8ae8a7363922ae723a7d2 = $(`&lt;div id=&quot;html_67f1221facd8ae8a7363922ae723a7d2&quot; style=&quot;width: 100.0%; height: 100.0%;&quot;&gt;Success Score: 42.65193435551765&lt;/div&gt;`)[0];\n",
       "                popup_df5bd9fc1e937068508c93e85b6ccd46.setContent(html_67f1221facd8ae8a7363922ae723a7d2);\n",
       "            \n",
       "        \n",
       "\n",
       "        circle_marker_fb5ed11d68d6e46614f6c7c3283ec945.bindPopup(popup_df5bd9fc1e937068508c93e85b6ccd46)\n",
       "        ;\n",
       "\n",
       "        \n",
       "    \n",
       "    \n",
       "            var circle_marker_d49d70d3c6366ea81aa35f6a38383301 = L.circleMarker(\n",
       "                [27.890814, -82.5023464],\n",
       "                {&quot;bubblingMouseEvents&quot;: true, &quot;color&quot;: &quot;#f2a614ff&quot;, &quot;dashArray&quot;: null, &quot;dashOffset&quot;: null, &quot;fill&quot;: true, &quot;fillColor&quot;: &quot;#f2a614ff&quot;, &quot;fillOpacity&quot;: 0.7, &quot;fillRule&quot;: &quot;evenodd&quot;, &quot;lineCap&quot;: &quot;round&quot;, &quot;lineJoin&quot;: &quot;round&quot;, &quot;opacity&quot;: 1.0, &quot;radius&quot;: 5, &quot;stroke&quot;: true, &quot;weight&quot;: 3}\n",
       "            ).addTo(map_de56839758a2db477775e6eec6426389);\n",
       "        \n",
       "    \n",
       "        var popup_3ed17b8f19b102369d4490cd322751a9 = L.popup({\n",
       "  &quot;maxWidth&quot;: &quot;100%&quot;,\n",
       "});\n",
       "\n",
       "        \n",
       "            \n",
       "                var html_0a562e9093fbd748844e0a5e81bfaac3 = $(`&lt;div id=&quot;html_0a562e9093fbd748844e0a5e81bfaac3&quot; style=&quot;width: 100.0%; height: 100.0%;&quot;&gt;Success Score: 41.27058794159365&lt;/div&gt;`)[0];\n",
       "                popup_3ed17b8f19b102369d4490cd322751a9.setContent(html_0a562e9093fbd748844e0a5e81bfaac3);\n",
       "            \n",
       "        \n",
       "\n",
       "        circle_marker_d49d70d3c6366ea81aa35f6a38383301.bindPopup(popup_3ed17b8f19b102369d4490cd322751a9)\n",
       "        ;\n",
       "\n",
       "        \n",
       "    \n",
       "    \n",
       "            var circle_marker_9b39769f2fe7cbf2fa5a6e7fef70ba05 = L.circleMarker(\n",
       "                [39.6371332838, -86.127217412],\n",
       "                {&quot;bubblingMouseEvents&quot;: true, &quot;color&quot;: &quot;#b4da00ff&quot;, &quot;dashArray&quot;: null, &quot;dashOffset&quot;: null, &quot;fill&quot;: true, &quot;fillColor&quot;: &quot;#b4da00ff&quot;, &quot;fillOpacity&quot;: 0.7, &quot;fillRule&quot;: &quot;evenodd&quot;, &quot;lineCap&quot;: &quot;round&quot;, &quot;lineJoin&quot;: &quot;round&quot;, &quot;opacity&quot;: 1.0, &quot;radius&quot;: 5, &quot;stroke&quot;: true, &quot;weight&quot;: 3}\n",
       "            ).addTo(map_de56839758a2db477775e6eec6426389);\n",
       "        \n",
       "    \n",
       "        var popup_35a7be04ae2bb27b8cb0de02693bb5aa = L.popup({\n",
       "  &quot;maxWidth&quot;: &quot;100%&quot;,\n",
       "});\n",
       "\n",
       "        \n",
       "            \n",
       "                var html_06b16feb470fc68fc4f919296dc7df5c = $(`&lt;div id=&quot;html_06b16feb470fc68fc4f919296dc7df5c&quot; style=&quot;width: 100.0%; height: 100.0%;&quot;&gt;Success Score: 39.0225211072609&lt;/div&gt;`)[0];\n",
       "                popup_35a7be04ae2bb27b8cb0de02693bb5aa.setContent(html_06b16feb470fc68fc4f919296dc7df5c);\n",
       "            \n",
       "        \n",
       "\n",
       "        circle_marker_9b39769f2fe7cbf2fa5a6e7fef70ba05.bindPopup(popup_35a7be04ae2bb27b8cb0de02693bb5aa)\n",
       "        ;\n",
       "\n",
       "        \n",
       "    \n",
       "    \n",
       "            var circle_marker_fb0c5e8418997fec9e7120b83ff9b9c7 = L.circleMarker(\n",
       "                [32.3385723, -111.0107602],\n",
       "                {&quot;bubblingMouseEvents&quot;: true, &quot;color&quot;: &quot;#96cb00ff&quot;, &quot;dashArray&quot;: null, &quot;dashOffset&quot;: null, &quot;fill&quot;: true, &quot;fillColor&quot;: &quot;#96cb00ff&quot;, &quot;fillOpacity&quot;: 0.7, &quot;fillRule&quot;: &quot;evenodd&quot;, &quot;lineCap&quot;: &quot;round&quot;, &quot;lineJoin&quot;: &quot;round&quot;, &quot;opacity&quot;: 1.0, &quot;radius&quot;: 5, &quot;stroke&quot;: true, &quot;weight&quot;: 3}\n",
       "            ).addTo(map_de56839758a2db477775e6eec6426389);\n",
       "        \n",
       "    \n",
       "        var popup_e07956c60476961db1b933aaf2b192d6 = L.popup({\n",
       "  &quot;maxWidth&quot;: &quot;100%&quot;,\n",
       "});\n",
       "\n",
       "        \n",
       "            \n",
       "                var html_6b676f28fdc33721fa9d9e338c734e07 = $(`&lt;div id=&quot;html_6b676f28fdc33721fa9d9e338c734e07&quot; style=&quot;width: 100.0%; height: 100.0%;&quot;&gt;Success Score: 38.68834087981859&lt;/div&gt;`)[0];\n",
       "                popup_e07956c60476961db1b933aaf2b192d6.setContent(html_6b676f28fdc33721fa9d9e338c734e07);\n",
       "            \n",
       "        \n",
       "\n",
       "        circle_marker_fb0c5e8418997fec9e7120b83ff9b9c7.bindPopup(popup_e07956c60476961db1b933aaf2b192d6)\n",
       "        ;\n",
       "\n",
       "        \n",
       "    \n",
       "    \n",
       "            var circle_marker_443b7c48850ed57e7f78ea61ca10d499 = L.circleMarker(\n",
       "                [36.2081024, -86.7681696],\n",
       "                {&quot;bubblingMouseEvents&quot;: true, &quot;color&quot;: &quot;#f6fb00ff&quot;, &quot;dashArray&quot;: null, &quot;dashOffset&quot;: null, &quot;fill&quot;: true, &quot;fillColor&quot;: &quot;#f6fb00ff&quot;, &quot;fillOpacity&quot;: 0.7, &quot;fillRule&quot;: &quot;evenodd&quot;, &quot;lineCap&quot;: &quot;round&quot;, &quot;lineJoin&quot;: &quot;round&quot;, &quot;opacity&quot;: 1.0, &quot;radius&quot;: 5, &quot;stroke&quot;: true, &quot;weight&quot;: 3}\n",
       "            ).addTo(map_de56839758a2db477775e6eec6426389);\n",
       "        \n",
       "    \n",
       "        var popup_ff36c29601d5f59c6749e65ea4353d40 = L.popup({\n",
       "  &quot;maxWidth&quot;: &quot;100%&quot;,\n",
       "});\n",
       "\n",
       "        \n",
       "            \n",
       "                var html_ca2ba961150f416d1ea220be1f92477f = $(`&lt;div id=&quot;html_ca2ba961150f416d1ea220be1f92477f&quot; style=&quot;width: 100.0%; height: 100.0%;&quot;&gt;Success Score: 39.73776372076268&lt;/div&gt;`)[0];\n",
       "                popup_ff36c29601d5f59c6749e65ea4353d40.setContent(html_ca2ba961150f416d1ea220be1f92477f);\n",
       "            \n",
       "        \n",
       "\n",
       "        circle_marker_443b7c48850ed57e7f78ea61ca10d499.bindPopup(popup_ff36c29601d5f59c6749e65ea4353d40)\n",
       "        ;\n",
       "\n",
       "        \n",
       "    \n",
       "    \n",
       "            var circle_marker_5c4461ea8555394e01470eac0d38e45b = L.circleMarker(\n",
       "                [29.963974, -90.0426042],\n",
       "                {&quot;bubblingMouseEvents&quot;: true, &quot;color&quot;: &quot;#f3ac13ff&quot;, &quot;dashArray&quot;: null, &quot;dashOffset&quot;: null, &quot;fill&quot;: true, &quot;fillColor&quot;: &quot;#f3ac13ff&quot;, &quot;fillOpacity&quot;: 0.7, &quot;fillRule&quot;: &quot;evenodd&quot;, &quot;lineCap&quot;: &quot;round&quot;, &quot;lineJoin&quot;: &quot;round&quot;, &quot;opacity&quot;: 1.0, &quot;radius&quot;: 5, &quot;stroke&quot;: true, &quot;weight&quot;: 3}\n",
       "            ).addTo(map_de56839758a2db477775e6eec6426389);\n",
       "        \n",
       "    \n",
       "        var popup_cc5f1f7001634772edfc200d669c0b71 = L.popup({\n",
       "  &quot;maxWidth&quot;: &quot;100%&quot;,\n",
       "});\n",
       "\n",
       "        \n",
       "            \n",
       "                var html_f53290be019330e0f2e8c96a7db30c31 = $(`&lt;div id=&quot;html_f53290be019330e0f2e8c96a7db30c31&quot; style=&quot;width: 100.0%; height: 100.0%;&quot;&gt;Success Score: 41.16725150862309&lt;/div&gt;`)[0];\n",
       "                popup_cc5f1f7001634772edfc200d669c0b71.setContent(html_f53290be019330e0f2e8c96a7db30c31);\n",
       "            \n",
       "        \n",
       "\n",
       "        circle_marker_5c4461ea8555394e01470eac0d38e45b.bindPopup(popup_cc5f1f7001634772edfc200d669c0b71)\n",
       "        ;\n",
       "\n",
       "        \n",
       "    \n",
       "    \n",
       "            var circle_marker_2e8c7ad2d8fe2a77aa00846d5eb4b53b = L.circleMarker(\n",
       "                [38.5832229, -90.4071872],\n",
       "                {&quot;bubblingMouseEvents&quot;: true, &quot;color&quot;: &quot;#008000ff&quot;, &quot;dashArray&quot;: null, &quot;dashOffset&quot;: null, &quot;fill&quot;: true, &quot;fillColor&quot;: &quot;#008000ff&quot;, &quot;fillOpacity&quot;: 0.7, &quot;fillRule&quot;: &quot;evenodd&quot;, &quot;lineCap&quot;: &quot;round&quot;, &quot;lineJoin&quot;: &quot;round&quot;, &quot;opacity&quot;: 1.0, &quot;radius&quot;: 5, &quot;stroke&quot;: true, &quot;weight&quot;: 3}\n",
       "            ).addTo(map_de56839758a2db477775e6eec6426389);\n",
       "        \n",
       "    \n",
       "        var popup_3c6a46380a1dc7df633e57c0baef34b2 = L.popup({\n",
       "  &quot;maxWidth&quot;: &quot;100%&quot;,\n",
       "});\n",
       "\n",
       "        \n",
       "            \n",
       "                var html_9ef481ba9a4a7188bb6635b0b506e1f9 = $(`&lt;div id=&quot;html_9ef481ba9a4a7188bb6635b0b506e1f9&quot; style=&quot;width: 100.0%; height: 100.0%;&quot;&gt;Success Score: 37.042331008308985&lt;/div&gt;`)[0];\n",
       "                popup_3c6a46380a1dc7df633e57c0baef34b2.setContent(html_9ef481ba9a4a7188bb6635b0b506e1f9);\n",
       "            \n",
       "        \n",
       "\n",
       "        circle_marker_2e8c7ad2d8fe2a77aa00846d5eb4b53b.bindPopup(popup_3c6a46380a1dc7df633e57c0baef34b2)\n",
       "        ;\n",
       "\n",
       "        \n",
       "    \n",
       "    \n",
       "            var circle_marker_95cd541448de46a32ce53e08a36e110a = L.circleMarker(\n",
       "                [39.476518, -119.7840369],\n",
       "                {&quot;bubblingMouseEvents&quot;: true, &quot;color&quot;: &quot;#2c9600ff&quot;, &quot;dashArray&quot;: null, &quot;dashOffset&quot;: null, &quot;fill&quot;: true, &quot;fillColor&quot;: &quot;#2c9600ff&quot;, &quot;fillOpacity&quot;: 0.7, &quot;fillRule&quot;: &quot;evenodd&quot;, &quot;lineCap&quot;: &quot;round&quot;, &quot;lineJoin&quot;: &quot;round&quot;, &quot;opacity&quot;: 1.0, &quot;radius&quot;: 5, &quot;stroke&quot;: true, &quot;weight&quot;: 3}\n",
       "            ).addTo(map_de56839758a2db477775e6eec6426389);\n",
       "        \n",
       "    \n",
       "        var popup_0b03ef431a4cbb80d06db94eb9303a7c = L.popup({\n",
       "  &quot;maxWidth&quot;: &quot;100%&quot;,\n",
       "});\n",
       "\n",
       "        \n",
       "            \n",
       "                var html_485779401004d548a9f85a1e45c79843 = $(`&lt;div id=&quot;html_485779401004d548a9f85a1e45c79843&quot; style=&quot;width: 100.0%; height: 100.0%;&quot;&gt;Success Score: 37.535187141767295&lt;/div&gt;`)[0];\n",
       "                popup_0b03ef431a4cbb80d06db94eb9303a7c.setContent(html_485779401004d548a9f85a1e45c79843);\n",
       "            \n",
       "        \n",
       "\n",
       "        circle_marker_95cd541448de46a32ce53e08a36e110a.bindPopup(popup_0b03ef431a4cbb80d06db94eb9303a7c)\n",
       "        ;\n",
       "\n",
       "        \n",
       "    \n",
       "    \n",
       "            var circle_marker_290d7dbca01a382fff0808e65bfc36f8 = L.circleMarker(\n",
       "                [53.436403, -113.604288],\n",
       "                {&quot;bubblingMouseEvents&quot;: true, &quot;color&quot;: &quot;#399d00ff&quot;, &quot;dashArray&quot;: null, &quot;dashOffset&quot;: null, &quot;fill&quot;: true, &quot;fillColor&quot;: &quot;#399d00ff&quot;, &quot;fillOpacity&quot;: 0.7, &quot;fillRule&quot;: &quot;evenodd&quot;, &quot;lineCap&quot;: &quot;round&quot;, &quot;lineJoin&quot;: &quot;round&quot;, &quot;opacity&quot;: 1.0, &quot;radius&quot;: 5, &quot;stroke&quot;: true, &quot;weight&quot;: 3}\n",
       "            ).addTo(map_de56839758a2db477775e6eec6426389);\n",
       "        \n",
       "    \n",
       "        var popup_7a7d0d873a4ec7407fb47eaf54b684c5 = L.popup({\n",
       "  &quot;maxWidth&quot;: &quot;100%&quot;,\n",
       "});\n",
       "\n",
       "        \n",
       "            \n",
       "                var html_c6f8b1472144893bb762376644ffb7e1 = $(`&lt;div id=&quot;html_c6f8b1472144893bb762376644ffb7e1&quot; style=&quot;width: 100.0%; height: 100.0%;&quot;&gt;Success Score: 37.67174762689446&lt;/div&gt;`)[0];\n",
       "                popup_7a7d0d873a4ec7407fb47eaf54b684c5.setContent(html_c6f8b1472144893bb762376644ffb7e1);\n",
       "            \n",
       "        \n",
       "\n",
       "        circle_marker_290d7dbca01a382fff0808e65bfc36f8.bindPopup(popup_7a7d0d873a4ec7407fb47eaf54b684c5)\n",
       "        ;\n",
       "\n",
       "        \n",
       "    \n",
       "    \n",
       "            var circle_marker_5f040fe3a5d7faf327d3749247e05c85 = L.circleMarker(\n",
       "                [43.6111922, -116.2062753],\n",
       "                {&quot;bubblingMouseEvents&quot;: true, &quot;color&quot;: &quot;#1b8e00ff&quot;, &quot;dashArray&quot;: null, &quot;dashOffset&quot;: null, &quot;fill&quot;: true, &quot;fillColor&quot;: &quot;#1b8e00ff&quot;, &quot;fillOpacity&quot;: 0.7, &quot;fillRule&quot;: &quot;evenodd&quot;, &quot;lineCap&quot;: &quot;round&quot;, &quot;lineJoin&quot;: &quot;round&quot;, &quot;opacity&quot;: 1.0, &quot;radius&quot;: 5, &quot;stroke&quot;: true, &quot;weight&quot;: 3}\n",
       "            ).addTo(map_de56839758a2db477775e6eec6426389);\n",
       "        \n",
       "    \n",
       "        var popup_979094b0f6ca5ce3bbc264d18071ffe2 = L.popup({\n",
       "  &quot;maxWidth&quot;: &quot;100%&quot;,\n",
       "});\n",
       "\n",
       "        \n",
       "            \n",
       "                var html_8bd339a3417a115de883e37dc5b3eaa1 = $(`&lt;div id=&quot;html_8bd339a3417a115de883e37dc5b3eaa1&quot; style=&quot;width: 100.0%; height: 100.0%;&quot;&gt;Success Score: 37.3469583325035&lt;/div&gt;`)[0];\n",
       "                popup_979094b0f6ca5ce3bbc264d18071ffe2.setContent(html_8bd339a3417a115de883e37dc5b3eaa1);\n",
       "            \n",
       "        \n",
       "\n",
       "        circle_marker_5f040fe3a5d7faf327d3749247e05c85.bindPopup(popup_979094b0f6ca5ce3bbc264d18071ffe2)\n",
       "        ;\n",
       "\n",
       "        \n",
       "    \n",
       "    \n",
       "    var color_map_bb5daef52f5411b39453bc0f8dad35d6 = {};\n",
       "\n",
       "    \n",
       "    color_map_bb5daef52f5411b39453bc0f8dad35d6.color = d3.scale.threshold()\n",
       "              .domain([37.042331008308985, 37.053572698383554, 37.06481438845812, 37.07605607853269, 37.08729776860725, 37.09853945868182, 37.10978114875638, 37.12102283883095, 37.132264528905516, 37.143506218980086, 37.15474790905465, 37.16598959912922, 37.17723128920378, 37.18847297927835, 37.199714669352915, 37.210956359427485, 37.22219804950205, 37.23343973957662, 37.24468142965118, 37.25592311972575, 37.26716480980031, 37.27840649987488, 37.289648189949446, 37.300889880024016, 37.31213157009858, 37.32337326017315, 37.33461495024771, 37.34585664032228, 37.357098330396845, 37.368340020471415, 37.37958171054598, 37.39082340062055, 37.40206509069511, 37.41330678076968, 37.42454847084424, 37.43579016091881, 37.447031850993376, 37.458273541067946, 37.46951523114251, 37.48075692121708, 37.49199861129164, 37.50324030136621, 37.514481991440775, 37.525723681515345, 37.53696537158991, 37.54820706166448, 37.55944875173904, 37.57069044181361, 37.58193213188817, 37.59317382196274, 37.604415512037306, 37.615657202111876, 37.62689889218644, 37.63814058226101, 37.64938227233557, 37.66062396241014, 37.671865652484705, 37.683107342559275, 37.69434903263384, 37.70559072270841, 37.71683241278297, 37.72807410285754, 37.7393157929321, 37.75055748300667, 37.761799173081236, 37.773040863155806, 37.78428255323037, 37.79552424330494, 37.8067659333795, 37.81800762345407, 37.829249313528635, 37.840491003603205, 37.85173269367777, 37.86297438375234, 37.8742160738269, 37.88545776390147, 37.896699453976034, 37.907941144050604, 37.919182834125166, 37.930424524199736, 37.9416662142743, 37.95290790434887, 37.96414959442343, 37.975391284498, 37.986632974572565, 37.997874664647135, 38.0091163547217, 38.02035804479627, 38.03159973487083, 38.0428414249454, 38.054083115019964, 38.065324805094534, 38.0765664951691, 38.08780818524367, 38.09904987531823, 38.1102915653928, 38.12153325546736, 38.13277494554193, 38.144016635616495, 38.155258325691065, 38.166500015765635, 38.1777417058402, 38.18898339591476, 38.20022508598933, 38.2114667760639, 38.222708466138464, 38.233950156213034, 38.2451918462876, 38.25643353636217, 38.26767522643673, 38.2789169165113, 38.29015860658586, 38.30140029666043, 38.312641986734995, 38.323883676809565, 38.33512536688413, 38.3463670569587, 38.35760874703326, 38.36885043710783, 38.380092127182394, 38.391333817256964, 38.40257550733153, 38.4138171974061, 38.42505888748066, 38.43630057755523, 38.44754226762979, 38.45878395770436, 38.470025647778925, 38.481267337853495, 38.49250902792806, 38.50375071800263, 38.51499240807719, 38.52623409815176, 38.537475788226324, 38.548717478300894, 38.55995916837546, 38.57120085845003, 38.58244254852459, 38.59368423859916, 38.60492592867372, 38.61616761874829, 38.627409308822855, 38.638650998897425, 38.64989268897199, 38.66113437904656, 38.67237606912112, 38.68361775919569, 38.694859449270254, 38.706101139344824, 38.71734282941939, 38.72858451949396, 38.73982620956852, 38.75106789964309, 38.76230958971765, 38.77355127979222, 38.784792969866785, 38.796034659941355, 38.80727635001592, 38.81851804009049, 38.82975973016505, 38.84100142023962, 38.852243110314184, 38.863484800388754, 38.87472649046332, 38.88596818053789, 38.89720987061245, 38.90845156068702, 38.91969325076158, 38.93093494083615, 38.942176630910716, 38.953418320985286, 38.96466001105985, 38.97590170113442, 38.98714339120898, 38.99838508128355, 39.009626771358114, 39.020868461432684, 39.03211015150725, 39.04335184158182, 39.05459353165638, 39.06583522173095, 39.07707691180551, 39.08831860188008, 39.099560291954646, 39.110801982029216, 39.12204367210378, 39.13328536217835, 39.14452705225291, 39.15576874232748, 39.167010432402044, 39.178252122476614, 39.18949381255118, 39.20073550262575, 39.21197719270031, 39.22321888277488, 39.23446057284944, 39.24570226292401, 39.25694395299858, 39.268185643073146, 39.27942733314771, 39.29066902322228, 39.30191071329685, 39.31315240337141, 39.324394093445974, 39.335635783520544, 39.346877473595114, 39.35811916366968, 39.36936085374424, 39.38060254381881, 39.39184423389338, 39.40308592396794, 39.41432761404251, 39.425569304117076, 39.436810994191646, 39.44805268426621, 39.45929437434078, 39.47053606441534, 39.48177775448991, 39.493019444564474, 39.504261134639044, 39.51550282471361, 39.52674451478818, 39.53798620486274, 39.54922789493731, 39.56046958501187, 39.57171127508644, 39.582952965161006, 39.594194655235576, 39.60543634531014, 39.61667803538471, 39.62791972545927, 39.63916141553384, 39.650403105608405, 39.661644795682975, 39.67288648575754, 39.68412817583211, 39.69536986590667, 39.70661155598124, 39.7178532460558, 39.72909493613037, 39.740336626204936, 39.751578316279506, 39.76282000635407, 39.77406169642864, 39.7853033865032, 39.79654507657777, 39.807786766652335, 39.819028456726905, 39.83027014680147, 39.84151183687604, 39.8527535269506, 39.86399521702517, 39.87523690709973, 39.8864785971743, 39.897720287248866, 39.908961977323436, 39.920203667398, 39.93144535747257, 39.94268704754713, 39.9539287376217, 39.965170427696265, 39.976412117770835, 39.9876538078454, 39.99889549791997, 40.01013718799453, 40.0213788780691, 40.03262056814366, 40.04386225821823, 40.055103948292796, 40.066345638367366, 40.07758732844193, 40.0888290185165, 40.10007070859106, 40.11131239866563, 40.122554088740195, 40.133795778814765, 40.14503746888933, 40.1562791589639, 40.16752084903846, 40.17876253911303, 40.19000422918759, 40.20124591926216, 40.212487609336726, 40.223729299411296, 40.23497098948586, 40.24621267956043, 40.25745436963499, 40.26869605970956, 40.279937749784125, 40.291179439858695, 40.30242112993326, 40.31366282000783, 40.32490451008239, 40.33614620015696, 40.34738789023152, 40.35862958030609, 40.369871270380656, 40.381112960455226, 40.392354650529796, 40.40359634060436, 40.41483803067892, 40.42607972075349, 40.43732141082806, 40.448563100902625, 40.459804790977195, 40.47104648105176, 40.48228817112633, 40.49352986120089, 40.50477155127546, 40.516013241350024, 40.527254931424594, 40.538496621499156, 40.549738311573726, 40.56098000164829, 40.57222169172286, 40.58346338179742, 40.59470507187199, 40.605946761946555, 40.617188452021125, 40.62843014209569, 40.63967183217026, 40.65091352224482, 40.66215521231939, 40.673396902393954, 40.684638592468524, 40.69588028254309, 40.70712197261766, 40.71836366269222, 40.72960535276679, 40.74084704284135, 40.75208873291592, 40.763330422990485, 40.774572113065055, 40.78581380313962, 40.79705549321419, 40.80829718328875, 40.81953887336332, 40.830780563437884, 40.842022253512454, 40.85326394358702, 40.86450563366159, 40.87574732373615, 40.88698901381072, 40.89823070388528, 40.90947239395985, 40.920714084034415, 40.931955774108985, 40.94319746418355, 40.95443915425812, 40.96568084433268, 40.97692253440725, 40.988164224481814, 40.999405914556384, 41.01064760463095, 41.02188929470552, 41.03313098478008, 41.04437267485465, 41.05561436492921, 41.06685605500378, 41.078097745078345, 41.089339435152915, 41.10058112522748, 41.11182281530205, 41.12306450537661, 41.13430619545118, 41.145547885525744, 41.156789575600314, 41.16803126567488, 41.17927295574945, 41.19051464582401, 41.20175633589858, 41.21299802597314, 41.22423971604771, 41.235481406122275, 41.246723096196845, 41.25796478627141, 41.26920647634598, 41.28044816642054, 41.29168985649511, 41.302931546569674, 41.314173236644244, 41.32541492671881, 41.33665661679338, 41.34789830686795, 41.35913999694251, 41.37038168701707, 41.38162337709164, 41.39286506716621, 41.404106757240775, 41.41534844731534, 41.42659013738991, 41.43783182746447, 41.44907351753904, 41.460315207613604, 41.471556897688174, 41.482798587762744, 41.49404027783731, 41.50528196791187, 41.51652365798644, 41.52776534806101, 41.53900703813557, 41.550248728210136, 41.561490418284706, 41.572732108359276, 41.58397379843384, 41.5952154885084, 41.60645717858297, 41.61769886865754, 41.628940558732104, 41.64018224880667, 41.65142393888124, 41.66266562895581, 41.67390731903037, 41.68514900910494, 41.6963906991795, 41.70763238925407, 41.718874079328636, 41.730115769403206, 41.74135745947777, 41.75259914955234, 41.7638408396269, 41.77508252970147, 41.786324219776034, 41.797565909850604, 41.80880759992517, 41.82004928999974, 41.8312909800743, 41.84253267014887, 41.85377436022343, 41.865016050298, 41.876257740372566, 41.887499430447136, 41.8987411205217, 41.90998281059627, 41.92122450067083, 41.9324661907454, 41.943707880819964, 41.954949570894534, 41.9661912609691, 41.97743295104367, 41.98867464111823, 41.9999163311928, 42.01115802126736, 42.02239971134193, 42.033641401416496, 42.044883091491066, 42.05612478156563, 42.0673664716402, 42.07860816171476, 42.08984985178933, 42.101091541863894, 42.112333231938464, 42.12357492201303, 42.1348166120876, 42.14605830216216, 42.15729999223673, 42.16854168231129, 42.17978337238586, 42.191025062460426, 42.202266752534996, 42.21350844260956, 42.22475013268413, 42.23599182275869, 42.24723351283326, 42.258475202907825, 42.269716892982395, 42.28095858305696, 42.29220027313153, 42.30344196320609, 42.31468365328066, 42.32592534335522, 42.33716703342979, 42.348408723504356, 42.359650413578926, 42.37089210365349, 42.38213379372806, 42.39337548380262, 42.40461717387719, 42.415858863951755, 42.427100554026325, 42.438342244100895, 42.44958393417546, 42.46082562425002, 42.47206731432459, 42.48330900439915, 42.49455069447372, 42.505792384548286, 42.517034074622856, 42.52827576469742, 42.53951745477199, 42.55075914484655, 42.56200083492112, 42.57324252499569, 42.584484215070255, 42.59572590514482, 42.60696759521939, 42.61820928529396, 42.62945097536852, 42.64069266544308, 42.65193435551765])\n",
       "              .range([&#x27;#008000ff&#x27;, &#x27;#018100ff&#x27;, &#x27;#028100ff&#x27;, &#x27;#038200ff&#x27;, &#x27;#048200ff&#x27;, &#x27;#058300ff&#x27;, &#x27;#068300ff&#x27;, &#x27;#078400ff&#x27;, &#x27;#088400ff&#x27;, &#x27;#098500ff&#x27;, &#x27;#0a8500ff&#x27;, &#x27;#0b8600ff&#x27;, &#x27;#0c8600ff&#x27;, &#x27;#0d8700ff&#x27;, &#x27;#0e8700ff&#x27;, &#x27;#0f8800ff&#x27;, &#x27;#108800ff&#x27;, &#x27;#118900ff&#x27;, &#x27;#128900ff&#x27;, &#x27;#138a00ff&#x27;, &#x27;#148a00ff&#x27;, &#x27;#158b00ff&#x27;, &#x27;#168b00ff&#x27;, &#x27;#178c00ff&#x27;, &#x27;#188c00ff&#x27;, &#x27;#198d00ff&#x27;, &#x27;#1a8d00ff&#x27;, &#x27;#1b8e00ff&#x27;, &#x27;#1c8e00ff&#x27;, &#x27;#1d8f00ff&#x27;, &#x27;#1e8f00ff&#x27;, &#x27;#1f9000ff&#x27;, &#x27;#209000ff&#x27;, &#x27;#219100ff&#x27;, &#x27;#229100ff&#x27;, &#x27;#239200ff&#x27;, &#x27;#249200ff&#x27;, &#x27;#259300ff&#x27;, &#x27;#269300ff&#x27;, &#x27;#289400ff&#x27;, &#x27;#299400ff&#x27;, &#x27;#2a9500ff&#x27;, &#x27;#2b9500ff&#x27;, &#x27;#2c9600ff&#x27;, &#x27;#2d9600ff&#x27;, &#x27;#2e9700ff&#x27;, &#x27;#2f9800ff&#x27;, &#x27;#309800ff&#x27;, &#x27;#319900ff&#x27;, &#x27;#329900ff&#x27;, &#x27;#339a00ff&#x27;, &#x27;#349a00ff&#x27;, &#x27;#359b00ff&#x27;, &#x27;#369b00ff&#x27;, &#x27;#379c00ff&#x27;, &#x27;#389c00ff&#x27;, &#x27;#399d00ff&#x27;, &#x27;#3a9d00ff&#x27;, &#x27;#3b9e00ff&#x27;, &#x27;#3c9e00ff&#x27;, &#x27;#3d9f00ff&#x27;, &#x27;#3e9f00ff&#x27;, &#x27;#3fa000ff&#x27;, &#x27;#40a000ff&#x27;, &#x27;#41a100ff&#x27;, &#x27;#42a100ff&#x27;, &#x27;#43a200ff&#x27;, &#x27;#44a200ff&#x27;, &#x27;#45a300ff&#x27;, &#x27;#46a300ff&#x27;, &#x27;#47a400ff&#x27;, &#x27;#48a400ff&#x27;, &#x27;#49a500ff&#x27;, &#x27;#4aa500ff&#x27;, &#x27;#4ba600ff&#x27;, &#x27;#4ca600ff&#x27;, &#x27;#4da700ff&#x27;, &#x27;#4fa700ff&#x27;, &#x27;#50a800ff&#x27;, &#x27;#51a800ff&#x27;, &#x27;#52a900ff&#x27;, &#x27;#53a900ff&#x27;, &#x27;#54aa00ff&#x27;, &#x27;#55aa00ff&#x27;, &#x27;#56ab00ff&#x27;, &#x27;#57ab00ff&#x27;, &#x27;#58ac00ff&#x27;, &#x27;#59ac00ff&#x27;, &#x27;#5aad00ff&#x27;, &#x27;#5bad00ff&#x27;, &#x27;#5cae00ff&#x27;, &#x27;#5daf00ff&#x27;, &#x27;#5eaf00ff&#x27;, &#x27;#5fb000ff&#x27;, &#x27;#60b000ff&#x27;, &#x27;#61b100ff&#x27;, &#x27;#62b100ff&#x27;, &#x27;#63b200ff&#x27;, &#x27;#64b200ff&#x27;, &#x27;#65b300ff&#x27;, &#x27;#66b300ff&#x27;, &#x27;#67b400ff&#x27;, &#x27;#68b400ff&#x27;, &#x27;#69b500ff&#x27;, &#x27;#6ab500ff&#x27;, &#x27;#6bb600ff&#x27;, &#x27;#6cb600ff&#x27;, &#x27;#6db700ff&#x27;, &#x27;#6eb700ff&#x27;, &#x27;#6fb800ff&#x27;, &#x27;#70b800ff&#x27;, &#x27;#71b900ff&#x27;, &#x27;#72b900ff&#x27;, &#x27;#73ba00ff&#x27;, &#x27;#74ba00ff&#x27;, &#x27;#75bb00ff&#x27;, &#x27;#77bb00ff&#x27;, &#x27;#78bc00ff&#x27;, &#x27;#79bc00ff&#x27;, &#x27;#7abd00ff&#x27;, &#x27;#7bbd00ff&#x27;, &#x27;#7cbe00ff&#x27;, &#x27;#7dbe00ff&#x27;, &#x27;#7ebf00ff&#x27;, &#x27;#7fbf00ff&#x27;, &#x27;#80c000ff&#x27;, &#x27;#81c000ff&#x27;, &#x27;#82c100ff&#x27;, &#x27;#83c100ff&#x27;, &#x27;#84c200ff&#x27;, &#x27;#85c200ff&#x27;, &#x27;#86c300ff&#x27;, &#x27;#87c300ff&#x27;, &#x27;#88c400ff&#x27;, &#x27;#89c400ff&#x27;, &#x27;#8ac500ff&#x27;, &#x27;#8bc500ff&#x27;, &#x27;#8cc600ff&#x27;, &#x27;#8dc700ff&#x27;, &#x27;#8ec700ff&#x27;, &#x27;#8fc800ff&#x27;, &#x27;#90c800ff&#x27;, &#x27;#91c900ff&#x27;, &#x27;#92c900ff&#x27;, &#x27;#93ca00ff&#x27;, &#x27;#94ca00ff&#x27;, &#x27;#95cb00ff&#x27;, &#x27;#96cb00ff&#x27;, &#x27;#97cc00ff&#x27;, &#x27;#98cc00ff&#x27;, &#x27;#99cd00ff&#x27;, &#x27;#9acd00ff&#x27;, &#x27;#9bce00ff&#x27;, &#x27;#9cce00ff&#x27;, &#x27;#9ecf00ff&#x27;, &#x27;#9fcf00ff&#x27;, &#x27;#a0d000ff&#x27;, &#x27;#a1d000ff&#x27;, &#x27;#a2d100ff&#x27;, &#x27;#a3d100ff&#x27;, &#x27;#a4d200ff&#x27;, &#x27;#a5d200ff&#x27;, &#x27;#a6d300ff&#x27;, &#x27;#a7d300ff&#x27;, &#x27;#a8d400ff&#x27;, &#x27;#a9d400ff&#x27;, &#x27;#aad500ff&#x27;, &#x27;#abd500ff&#x27;, &#x27;#acd600ff&#x27;, &#x27;#add600ff&#x27;, &#x27;#aed700ff&#x27;, &#x27;#afd700ff&#x27;, &#x27;#b0d800ff&#x27;, &#x27;#b1d800ff&#x27;, &#x27;#b2d900ff&#x27;, &#x27;#b3d900ff&#x27;, &#x27;#b4da00ff&#x27;, &#x27;#b5da00ff&#x27;, &#x27;#b6db00ff&#x27;, &#x27;#b7db00ff&#x27;, &#x27;#b8dc00ff&#x27;, &#x27;#b9dc00ff&#x27;, &#x27;#badd00ff&#x27;, &#x27;#bbde00ff&#x27;, &#x27;#bcde00ff&#x27;, &#x27;#bddf00ff&#x27;, &#x27;#bedf00ff&#x27;, &#x27;#bfe000ff&#x27;, &#x27;#c0e000ff&#x27;, &#x27;#c1e100ff&#x27;, &#x27;#c2e100ff&#x27;, &#x27;#c3e200ff&#x27;, &#x27;#c5e200ff&#x27;, &#x27;#c6e300ff&#x27;, &#x27;#c7e300ff&#x27;, &#x27;#c8e400ff&#x27;, &#x27;#c9e400ff&#x27;, &#x27;#cae500ff&#x27;, &#x27;#cbe500ff&#x27;, &#x27;#cce600ff&#x27;, &#x27;#cde600ff&#x27;, &#x27;#cee700ff&#x27;, &#x27;#cfe700ff&#x27;, &#x27;#d0e800ff&#x27;, &#x27;#d1e800ff&#x27;, &#x27;#d2e900ff&#x27;, &#x27;#d3e900ff&#x27;, &#x27;#d4ea00ff&#x27;, &#x27;#d5ea00ff&#x27;, &#x27;#d6eb00ff&#x27;, &#x27;#d7eb00ff&#x27;, &#x27;#d8ec00ff&#x27;, &#x27;#d9ec00ff&#x27;, &#x27;#daed00ff&#x27;, &#x27;#dbed00ff&#x27;, &#x27;#dcee00ff&#x27;, &#x27;#ddee00ff&#x27;, &#x27;#deef00ff&#x27;, &#x27;#dfef00ff&#x27;, &#x27;#e0f000ff&#x27;, &#x27;#e1f000ff&#x27;, &#x27;#e2f100ff&#x27;, &#x27;#e3f100ff&#x27;, &#x27;#e4f200ff&#x27;, &#x27;#e5f200ff&#x27;, &#x27;#e6f300ff&#x27;, &#x27;#e7f300ff&#x27;, &#x27;#e8f400ff&#x27;, &#x27;#e9f500ff&#x27;, &#x27;#eaf500ff&#x27;, &#x27;#ebf600ff&#x27;, &#x27;#edf600ff&#x27;, &#x27;#eef700ff&#x27;, &#x27;#eff700ff&#x27;, &#x27;#f0f800ff&#x27;, &#x27;#f1f800ff&#x27;, &#x27;#f2f900ff&#x27;, &#x27;#f3f900ff&#x27;, &#x27;#f4fa00ff&#x27;, &#x27;#f5fa00ff&#x27;, &#x27;#f6fb00ff&#x27;, &#x27;#f7fb00ff&#x27;, &#x27;#f8fc00ff&#x27;, &#x27;#f9fc00ff&#x27;, &#x27;#fafd00ff&#x27;, &#x27;#fbfd00ff&#x27;, &#x27;#fcfe00ff&#x27;, &#x27;#fdfe00ff&#x27;, &#x27;#feff00ff&#x27;, &#x27;#ffff00ff&#x27;, &#x27;#ffff00ff&#x27;, &#x27;#fffe00ff&#x27;, &#x27;#fffe00ff&#x27;, &#x27;#fffd00ff&#x27;, &#x27;#fffc00ff&#x27;, &#x27;#fffc00ff&#x27;, &#x27;#fffb01ff&#x27;, &#x27;#fffa01ff&#x27;, &#x27;#fff901ff&#x27;, &#x27;#fff901ff&#x27;, &#x27;#fef801ff&#x27;, &#x27;#fef701ff&#x27;, &#x27;#fef702ff&#x27;, &#x27;#fef602ff&#x27;, &#x27;#fef502ff&#x27;, &#x27;#fef502ff&#x27;, &#x27;#fef402ff&#x27;, &#x27;#fef302ff&#x27;, &#x27;#fef203ff&#x27;, &#x27;#fdf203ff&#x27;, &#x27;#fdf103ff&#x27;, &#x27;#fdf003ff&#x27;, &#x27;#fdf003ff&#x27;, &#x27;#fdef03ff&#x27;, &#x27;#fdee04ff&#x27;, &#x27;#fded04ff&#x27;, &#x27;#fded04ff&#x27;, &#x27;#fdec04ff&#x27;, &#x27;#fdeb04ff&#x27;, &#x27;#fceb04ff&#x27;, &#x27;#fcea05ff&#x27;, &#x27;#fce905ff&#x27;, &#x27;#fce805ff&#x27;, &#x27;#fce805ff&#x27;, &#x27;#fce705ff&#x27;, &#x27;#fce605ff&#x27;, &#x27;#fce606ff&#x27;, &#x27;#fce506ff&#x27;, &#x27;#fbe406ff&#x27;, &#x27;#fbe406ff&#x27;, &#x27;#fbe306ff&#x27;, &#x27;#fbe206ff&#x27;, &#x27;#fbe107ff&#x27;, &#x27;#fbe107ff&#x27;, &#x27;#fbe007ff&#x27;, &#x27;#fbdf07ff&#x27;, &#x27;#fbdf07ff&#x27;, &#x27;#fbde07ff&#x27;, &#x27;#fadd08ff&#x27;, &#x27;#fadc08ff&#x27;, &#x27;#fadc08ff&#x27;, &#x27;#fadb08ff&#x27;, &#x27;#fada08ff&#x27;, &#x27;#fada08ff&#x27;, &#x27;#fad908ff&#x27;, &#x27;#fad809ff&#x27;, &#x27;#fad709ff&#x27;, &#x27;#f9d709ff&#x27;, &#x27;#f9d609ff&#x27;, &#x27;#f9d509ff&#x27;, &#x27;#f9d509ff&#x27;, &#x27;#f9d40aff&#x27;, &#x27;#f9d30aff&#x27;, &#x27;#f9d30aff&#x27;, &#x27;#f9d20aff&#x27;, &#x27;#f9d10aff&#x27;, &#x27;#f9d00aff&#x27;, &#x27;#f8d00bff&#x27;, &#x27;#f8cf0bff&#x27;, &#x27;#f8ce0bff&#x27;, &#x27;#f8ce0bff&#x27;, &#x27;#f8cd0bff&#x27;, &#x27;#f8cc0bff&#x27;, &#x27;#f8cb0cff&#x27;, &#x27;#f8cb0cff&#x27;, &#x27;#f8ca0cff&#x27;, &#x27;#f7c90cff&#x27;, &#x27;#f7c90cff&#x27;, &#x27;#f7c80cff&#x27;, &#x27;#f7c70dff&#x27;, &#x27;#f7c60dff&#x27;, &#x27;#f7c60dff&#x27;, &#x27;#f7c50dff&#x27;, &#x27;#f7c40dff&#x27;, &#x27;#f7c40dff&#x27;, &#x27;#f7c30eff&#x27;, &#x27;#f6c20eff&#x27;, &#x27;#f6c20eff&#x27;, &#x27;#f6c10eff&#x27;, &#x27;#f6c00eff&#x27;, &#x27;#f6bf0eff&#x27;, &#x27;#f6bf0fff&#x27;, &#x27;#f6be0fff&#x27;, &#x27;#f6bd0fff&#x27;, &#x27;#f6bd0fff&#x27;, &#x27;#f6bc0fff&#x27;, &#x27;#f5bb0fff&#x27;, &#x27;#f5ba10ff&#x27;, &#x27;#f5ba10ff&#x27;, &#x27;#f5b910ff&#x27;, &#x27;#f5b810ff&#x27;, &#x27;#f5b810ff&#x27;, &#x27;#f5b710ff&#x27;, &#x27;#f5b611ff&#x27;, &#x27;#f5b511ff&#x27;, &#x27;#f4b511ff&#x27;, &#x27;#f4b411ff&#x27;, &#x27;#f4b311ff&#x27;, &#x27;#f4b311ff&#x27;, &#x27;#f4b212ff&#x27;, &#x27;#f4b112ff&#x27;, &#x27;#f4b112ff&#x27;, &#x27;#f4b012ff&#x27;, &#x27;#f4af12ff&#x27;, &#x27;#f4ae12ff&#x27;, &#x27;#f3ae13ff&#x27;, &#x27;#f3ad13ff&#x27;, &#x27;#f3ac13ff&#x27;, &#x27;#f3ac13ff&#x27;, &#x27;#f3ab13ff&#x27;, &#x27;#f3aa13ff&#x27;, &#x27;#f3a914ff&#x27;, &#x27;#f3a914ff&#x27;, &#x27;#f3a814ff&#x27;, &#x27;#f2a714ff&#x27;, &#x27;#f2a714ff&#x27;, &#x27;#f2a614ff&#x27;, &#x27;#f2a515ff&#x27;, &#x27;#f2a415ff&#x27;, &#x27;#f2a415ff&#x27;, &#x27;#f2a315ff&#x27;, &#x27;#f2a215ff&#x27;, &#x27;#f2a215ff&#x27;, &#x27;#f2a116ff&#x27;, &#x27;#f1a016ff&#x27;, &#x27;#f1a016ff&#x27;, &#x27;#f19f16ff&#x27;, &#x27;#f19e16ff&#x27;, &#x27;#f19d16ff&#x27;, &#x27;#f19d17ff&#x27;, &#x27;#f19c17ff&#x27;, &#x27;#f19b17ff&#x27;, &#x27;#f19b17ff&#x27;, &#x27;#f09a17ff&#x27;, &#x27;#f09917ff&#x27;, &#x27;#f09818ff&#x27;, &#x27;#f09818ff&#x27;, &#x27;#f09718ff&#x27;, &#x27;#f09618ff&#x27;, &#x27;#f09618ff&#x27;, &#x27;#f09518ff&#x27;, &#x27;#f09418ff&#x27;, &#x27;#f09419ff&#x27;, &#x27;#ef9319ff&#x27;, &#x27;#ef9219ff&#x27;, &#x27;#ef9119ff&#x27;, &#x27;#ef9119ff&#x27;, &#x27;#ef9019ff&#x27;, &#x27;#ef8f1aff&#x27;, &#x27;#ef8f1aff&#x27;, &#x27;#ef8e1aff&#x27;, &#x27;#ef8d1aff&#x27;, &#x27;#ee8c1aff&#x27;, &#x27;#ee8c1aff&#x27;, &#x27;#ee8b1bff&#x27;, &#x27;#ee8a1bff&#x27;, &#x27;#ee8a1bff&#x27;, &#x27;#ee891bff&#x27;, &#x27;#ee881bff&#x27;, &#x27;#ee871bff&#x27;, &#x27;#ee871cff&#x27;, &#x27;#ee861cff&#x27;, &#x27;#ed851cff&#x27;, &#x27;#ed851cff&#x27;, &#x27;#ed841cff&#x27;, &#x27;#ed831cff&#x27;, &#x27;#ed831dff&#x27;, &#x27;#ed821dff&#x27;, &#x27;#ed811dff&#x27;, &#x27;#ed801dff&#x27;, &#x27;#ed801dff&#x27;, &#x27;#ed7f1dff&#x27;, &#x27;#ec7e1eff&#x27;, &#x27;#ec7e1eff&#x27;, &#x27;#ec7d1eff&#x27;, &#x27;#ec7c1eff&#x27;, &#x27;#ec7b1eff&#x27;, &#x27;#ec7b1eff&#x27;, &#x27;#ec7a1fff&#x27;, &#x27;#ec791fff&#x27;, &#x27;#ec791fff&#x27;, &#x27;#eb781fff&#x27;, &#x27;#eb771fff&#x27;, &#x27;#eb761fff&#x27;, &#x27;#eb7620ff&#x27;, &#x27;#eb7520ff&#x27;, &#x27;#eb7420ff&#x27;, &#x27;#eb7420ff&#x27;, &#x27;#eb7320ff&#x27;, &#x27;#eb7220ff&#x27;, &#x27;#eb7221ff&#x27;, &#x27;#ea7121ff&#x27;, &#x27;#ea7021ff&#x27;, &#x27;#ea6f21ff&#x27;, &#x27;#ea6f21ff&#x27;, &#x27;#ea6e21ff&#x27;, &#x27;#ea6d22ff&#x27;, &#x27;#ea6d22ff&#x27;, &#x27;#ea6c22ff&#x27;, &#x27;#ea6b22ff&#x27;, &#x27;#e96a22ff&#x27;, &#x27;#e96a22ff&#x27;, &#x27;#e96923ff&#x27;, &#x27;#e96823ff&#x27;, &#x27;#e96823ff&#x27;, &#x27;#e96723ff&#x27;, &#x27;#e96623ff&#x27;, &#x27;#e96523ff&#x27;, &#x27;#e96524ff&#x27;, &#x27;#e96424ff&#x27;, &#x27;#e86324ff&#x27;, &#x27;#e86324ff&#x27;, &#x27;#e86224ff&#x27;, &#x27;#e86124ff&#x27;, &#x27;#e86125ff&#x27;, &#x27;#e86025ff&#x27;, &#x27;#e85f25ff&#x27;, &#x27;#e85e25ff&#x27;, &#x27;#e85e25ff&#x27;, &#x27;#e75d25ff&#x27;, &#x27;#e75c26ff&#x27;, &#x27;#e75c26ff&#x27;, &#x27;#e75b26ff&#x27;, &#x27;#e75a26ff&#x27;, &#x27;#e75926ff&#x27;, &#x27;#e75926ff&#x27;, &#x27;#e75827ff&#x27;, &#x27;#e75727ff&#x27;, &#x27;#e75727ff&#x27;, &#x27;#e65627ff&#x27;, &#x27;#e65527ff&#x27;, &#x27;#e65427ff&#x27;, &#x27;#e65428ff&#x27;, &#x27;#e65328ff&#x27;, &#x27;#e65228ff&#x27;, &#x27;#e65228ff&#x27;, &#x27;#e65128ff&#x27;, &#x27;#e65028ff&#x27;, &#x27;#e65028ff&#x27;, &#x27;#e54f29ff&#x27;]);\n",
       "    \n",
       "\n",
       "    color_map_bb5daef52f5411b39453bc0f8dad35d6.x = d3.scale.linear()\n",
       "              .domain([37.042331008308985, 42.65193435551765])\n",
       "              .range([0, 450 - 50]);\n",
       "\n",
       "    color_map_bb5daef52f5411b39453bc0f8dad35d6.legend = L.control({position: &#x27;topright&#x27;});\n",
       "    color_map_bb5daef52f5411b39453bc0f8dad35d6.legend.onAdd = function (map) {var div = L.DomUtil.create(&#x27;div&#x27;, &#x27;legend&#x27;); return div};\n",
       "    color_map_bb5daef52f5411b39453bc0f8dad35d6.legend.addTo(map_de56839758a2db477775e6eec6426389);\n",
       "\n",
       "    color_map_bb5daef52f5411b39453bc0f8dad35d6.xAxis = d3.svg.axis()\n",
       "        .scale(color_map_bb5daef52f5411b39453bc0f8dad35d6.x)\n",
       "        .orient(&quot;top&quot;)\n",
       "        .tickSize(1)\n",
       "        .tickValues([37.042331008308985, 39.84713268191332, 42.65193435551765]);\n",
       "\n",
       "    color_map_bb5daef52f5411b39453bc0f8dad35d6.svg = d3.select(&quot;.legend.leaflet-control&quot;).append(&quot;svg&quot;)\n",
       "        .attr(&quot;id&quot;, &#x27;legend&#x27;)\n",
       "        .attr(&quot;width&quot;, 450)\n",
       "        .attr(&quot;height&quot;, 40);\n",
       "\n",
       "    color_map_bb5daef52f5411b39453bc0f8dad35d6.g = color_map_bb5daef52f5411b39453bc0f8dad35d6.svg.append(&quot;g&quot;)\n",
       "        .attr(&quot;class&quot;, &quot;key&quot;)\n",
       "        .attr(&quot;fill&quot;, &quot;black&quot;)\n",
       "        .attr(&quot;transform&quot;, &quot;translate(25,16)&quot;);\n",
       "\n",
       "    color_map_bb5daef52f5411b39453bc0f8dad35d6.g.selectAll(&quot;rect&quot;)\n",
       "        .data(color_map_bb5daef52f5411b39453bc0f8dad35d6.color.range().map(function(d, i) {\n",
       "          return {\n",
       "            x0: i ? color_map_bb5daef52f5411b39453bc0f8dad35d6.x(color_map_bb5daef52f5411b39453bc0f8dad35d6.color.domain()[i - 1]) : color_map_bb5daef52f5411b39453bc0f8dad35d6.x.range()[0],\n",
       "            x1: i &lt; color_map_bb5daef52f5411b39453bc0f8dad35d6.color.domain().length ? color_map_bb5daef52f5411b39453bc0f8dad35d6.x(color_map_bb5daef52f5411b39453bc0f8dad35d6.color.domain()[i]) : color_map_bb5daef52f5411b39453bc0f8dad35d6.x.range()[1],\n",
       "            z: d\n",
       "          };\n",
       "        }))\n",
       "      .enter().append(&quot;rect&quot;)\n",
       "        .attr(&quot;height&quot;, 40 - 30)\n",
       "        .attr(&quot;x&quot;, function(d) { return d.x0; })\n",
       "        .attr(&quot;width&quot;, function(d) { return d.x1 - d.x0; })\n",
       "        .style(&quot;fill&quot;, function(d) { return d.z; });\n",
       "\n",
       "    color_map_bb5daef52f5411b39453bc0f8dad35d6.g.call(color_map_bb5daef52f5411b39453bc0f8dad35d6.xAxis).append(&quot;text&quot;)\n",
       "        .attr(&quot;class&quot;, &quot;caption&quot;)\n",
       "        .attr(&quot;y&quot;, 21)\n",
       "        .attr(&quot;fill&quot;, &quot;black&quot;)\n",
       "        .text(&quot;&quot;);\n",
       "&lt;/script&gt;\n",
       "&lt;/html&gt;\" style=\"position:absolute;width:100%;height:100%;left:0;top:0;border:none !important;\" allowfullscreen webkitallowfullscreen mozallowfullscreen></iframe></div></div>"
      ],
      "text/plain": [
       "<folium.folium.Map at 0x18fe6fe78c0>"
      ]
     },
     "execution_count": 33,
     "metadata": {},
     "output_type": "execute_result"
    }
   ],
   "source": [
    "# Create a base map\n",
    "m = folium.Map(location=[city_df['latitude'].mean(), city_df['longitude'].mean()], zoom_start=4)\n",
    "\n",
    "# Define a color scale\n",
    "color_scale = folium.LinearColormap(colors=['green', 'yellow', '#E54F29'],\n",
    "                                    vmin=city_df['success_score'].min(),\n",
    "                                    vmax=city_df['success_score'].max())\n",
    "\n",
    "# Add markers to the map\n",
    "for index, row in city_df.iterrows():\n",
    "    folium.CircleMarker(\n",
    "        location=[row['latitude'], row['longitude']],\n",
    "        radius=5,\n",
    "        color=color_scale(row['success_score']),\n",
    "        fill=True,\n",
    "        fill_color=color_scale(row['success_score']),\n",
    "        fill_opacity=0.7,\n",
    "        popup=f\"Success Score: {row['success_score']}\"\n",
    "    ).add_to(m)\n",
    "\n",
    "# Add color scale to the map\n",
    "m.add_child(color_scale)\n"
   ]
  },
  {
   "cell_type": "markdown",
   "id": "b9be5890-49b2-48c1-a6b7-faf2f61d9e6e",
   "metadata": {},
   "source": [
    "- Philadelphia ascends to the forefront as the premier city. With the highest success score, indicating a combination of high ratings and active user engagement.\n",
    "\n",
    "- Following Philadelphia, Tampa, Indianapolis, and Tucson rank among the top cities with significant success scores, suggesting thriving restaurant scenes in these areas."
   ]
  },
  {
   "cell_type": "code",
   "execution_count": 34,
   "id": "8d8fe6b7-2fdc-43e3-a672-13ffd5ad3229",
   "metadata": {},
   "outputs": [],
   "source": [
    "# Are there any patterns in user engagement over time for successful businesses compared to less successful ones?\n",
    "# Are there any seasonal trends in the user engagement for restaurants?\n",
    "\n",
    "high_rated_engagement = pd.read_sql_query(f\"\"\"\n",
    "SELECT review.month_year, review.review_count, tip.tip_count FROM\n",
    "(SELECT strftime('%m-%Y', date) AS month_year, COUNT(*) AS review_count\n",
    " FROM review\n",
    " WHERE business_id IN {tuple(business_id['business_id'])} and stars >= 3.5\n",
    " GROUP BY month_year\n",
    " ORDER BY month_year) as review\n",
    "JOIN\n",
    "(SELECT AVG(b.stars), strftime('%m-%Y', tip.date) AS month_year, COUNT(*) AS tip_count\n",
    " FROM tip\n",
    " JOIN business as b\n",
    " on tip.business_id = b.business_id\n",
    " WHERE tip.business_id IN {tuple(business_id['business_id'])} and b.stars >= 3.5\n",
    " GROUP BY month_year\n",
    " ORDER BY month_year) as tip\n",
    "\n",
    "on review.month_year = tip.month_year\n",
    ";\"\"\", conn)\n",
    "\n",
    "low_rated_engagement = pd.read_sql_query(f\"\"\"\n",
    "SELECT review.month_year, review.review_count, tip.tip_count FROM\n",
    "(SELECT strftime('%m-%Y', date) AS month_year, COUNT(*) AS review_count\n",
    " FROM review\n",
    " WHERE business_id IN {tuple(business_id['business_id'])} and stars < 3.5\n",
    " GROUP BY month_year\n",
    " ORDER BY month_year) as review\n",
    "JOIN\n",
    "(SELECT AVG(b.stars), strftime('%m-%Y', tip.date) AS month_year, COUNT(*) AS tip_count\n",
    " FROM tip\n",
    " JOIN business as b\n",
    " on tip.business_id = b.business_id\n",
    " WHERE tip.business_id IN {tuple(business_id['business_id'])} and b.stars < 3.5\n",
    " GROUP BY month_year\n",
    " ORDER BY month_year) as tip\n",
    "on review.month_year = tip.month_year\n",
    ";\"\"\", conn)\n"
   ]
  },
  {
   "cell_type": "code",
   "execution_count": 35,
   "id": "e67430ac-0814-4b05-8399-2f7c68d0570a",
   "metadata": {},
   "outputs": [
    {
     "data": {
      "text/html": [
       "<div>\n",
       "<style scoped>\n",
       "    .dataframe tbody tr th:only-of-type {\n",
       "        vertical-align: middle;\n",
       "    }\n",
       "\n",
       "    .dataframe tbody tr th {\n",
       "        vertical-align: top;\n",
       "    }\n",
       "\n",
       "    .dataframe thead th {\n",
       "        text-align: right;\n",
       "    }\n",
       "</style>\n",
       "<table border=\"1\" class=\"dataframe\">\n",
       "  <thead>\n",
       "    <tr style=\"text-align: right;\">\n",
       "      <th></th>\n",
       "      <th>month_year</th>\n",
       "      <th>review_count</th>\n",
       "      <th>tip_count</th>\n",
       "    </tr>\n",
       "  </thead>\n",
       "  <tbody>\n",
       "    <tr>\n",
       "      <th>0</th>\n",
       "      <td>01-2010</td>\n",
       "      <td>43</td>\n",
       "      <td>79</td>\n",
       "    </tr>\n",
       "    <tr>\n",
       "      <th>1</th>\n",
       "      <td>01-2011</td>\n",
       "      <td>45</td>\n",
       "      <td>621</td>\n",
       "    </tr>\n",
       "    <tr>\n",
       "      <th>2</th>\n",
       "      <td>01-2012</td>\n",
       "      <td>57</td>\n",
       "      <td>1321</td>\n",
       "    </tr>\n",
       "    <tr>\n",
       "      <th>3</th>\n",
       "      <td>01-2013</td>\n",
       "      <td>93</td>\n",
       "      <td>1230</td>\n",
       "    </tr>\n",
       "    <tr>\n",
       "      <th>4</th>\n",
       "      <td>01-2014</td>\n",
       "      <td>93</td>\n",
       "      <td>1357</td>\n",
       "    </tr>\n",
       "    <tr>\n",
       "      <th>...</th>\n",
       "      <td>...</td>\n",
       "      <td>...</td>\n",
       "      <td>...</td>\n",
       "    </tr>\n",
       "    <tr>\n",
       "      <th>107</th>\n",
       "      <td>12-2013</td>\n",
       "      <td>91</td>\n",
       "      <td>1278</td>\n",
       "    </tr>\n",
       "    <tr>\n",
       "      <th>108</th>\n",
       "      <td>12-2014</td>\n",
       "      <td>121</td>\n",
       "      <td>1065</td>\n",
       "    </tr>\n",
       "    <tr>\n",
       "      <th>109</th>\n",
       "      <td>12-2015</td>\n",
       "      <td>187</td>\n",
       "      <td>1457</td>\n",
       "    </tr>\n",
       "    <tr>\n",
       "      <th>110</th>\n",
       "      <td>12-2016</td>\n",
       "      <td>160</td>\n",
       "      <td>1540</td>\n",
       "    </tr>\n",
       "    <tr>\n",
       "      <th>111</th>\n",
       "      <td>12-2017</td>\n",
       "      <td>270</td>\n",
       "      <td>1477</td>\n",
       "    </tr>\n",
       "  </tbody>\n",
       "</table>\n",
       "<p>112 rows × 3 columns</p>\n",
       "</div>"
      ],
      "text/plain": [
       "    month_year  review_count  tip_count\n",
       "0      01-2010            43         79\n",
       "1      01-2011            45        621\n",
       "2      01-2012            57       1321\n",
       "3      01-2013            93       1230\n",
       "4      01-2014            93       1357\n",
       "..         ...           ...        ...\n",
       "107    12-2013            91       1278\n",
       "108    12-2014           121       1065\n",
       "109    12-2015           187       1457\n",
       "110    12-2016           160       1540\n",
       "111    12-2017           270       1477\n",
       "\n",
       "[112 rows x 3 columns]"
      ]
     },
     "execution_count": 35,
     "metadata": {},
     "output_type": "execute_result"
    }
   ],
   "source": [
    "high_rated_engagement"
   ]
  },
  {
   "cell_type": "code",
   "execution_count": 36,
   "id": "6ad23054-9a89-4b12-9e94-256bb20255d2",
   "metadata": {},
   "outputs": [
    {
     "data": {
      "text/html": [
       "<div>\n",
       "<style scoped>\n",
       "    .dataframe tbody tr th:only-of-type {\n",
       "        vertical-align: middle;\n",
       "    }\n",
       "\n",
       "    .dataframe tbody tr th {\n",
       "        vertical-align: top;\n",
       "    }\n",
       "\n",
       "    .dataframe thead th {\n",
       "        text-align: right;\n",
       "    }\n",
       "</style>\n",
       "<table border=\"1\" class=\"dataframe\">\n",
       "  <thead>\n",
       "    <tr style=\"text-align: right;\">\n",
       "      <th></th>\n",
       "      <th>month_year</th>\n",
       "      <th>review_count</th>\n",
       "      <th>tip_count</th>\n",
       "    </tr>\n",
       "  </thead>\n",
       "  <tbody>\n",
       "    <tr>\n",
       "      <th>0</th>\n",
       "      <td>01-2010</td>\n",
       "      <td>18</td>\n",
       "      <td>25</td>\n",
       "    </tr>\n",
       "    <tr>\n",
       "      <th>1</th>\n",
       "      <td>01-2011</td>\n",
       "      <td>27</td>\n",
       "      <td>297</td>\n",
       "    </tr>\n",
       "    <tr>\n",
       "      <th>2</th>\n",
       "      <td>01-2012</td>\n",
       "      <td>27</td>\n",
       "      <td>538</td>\n",
       "    </tr>\n",
       "    <tr>\n",
       "      <th>3</th>\n",
       "      <td>01-2013</td>\n",
       "      <td>44</td>\n",
       "      <td>548</td>\n",
       "    </tr>\n",
       "    <tr>\n",
       "      <th>4</th>\n",
       "      <td>01-2014</td>\n",
       "      <td>78</td>\n",
       "      <td>607</td>\n",
       "    </tr>\n",
       "    <tr>\n",
       "      <th>...</th>\n",
       "      <td>...</td>\n",
       "      <td>...</td>\n",
       "      <td>...</td>\n",
       "    </tr>\n",
       "    <tr>\n",
       "      <th>105</th>\n",
       "      <td>12-2013</td>\n",
       "      <td>70</td>\n",
       "      <td>552</td>\n",
       "    </tr>\n",
       "    <tr>\n",
       "      <th>106</th>\n",
       "      <td>12-2014</td>\n",
       "      <td>87</td>\n",
       "      <td>446</td>\n",
       "    </tr>\n",
       "    <tr>\n",
       "      <th>107</th>\n",
       "      <td>12-2015</td>\n",
       "      <td>87</td>\n",
       "      <td>496</td>\n",
       "    </tr>\n",
       "    <tr>\n",
       "      <th>108</th>\n",
       "      <td>12-2016</td>\n",
       "      <td>89</td>\n",
       "      <td>478</td>\n",
       "    </tr>\n",
       "    <tr>\n",
       "      <th>109</th>\n",
       "      <td>12-2017</td>\n",
       "      <td>131</td>\n",
       "      <td>441</td>\n",
       "    </tr>\n",
       "  </tbody>\n",
       "</table>\n",
       "<p>110 rows × 3 columns</p>\n",
       "</div>"
      ],
      "text/plain": [
       "    month_year  review_count  tip_count\n",
       "0      01-2010            18         25\n",
       "1      01-2011            27        297\n",
       "2      01-2012            27        538\n",
       "3      01-2013            44        548\n",
       "4      01-2014            78        607\n",
       "..         ...           ...        ...\n",
       "105    12-2013            70        552\n",
       "106    12-2014            87        446\n",
       "107    12-2015            87        496\n",
       "108    12-2016            89        478\n",
       "109    12-2017           131        441\n",
       "\n",
       "[110 rows x 3 columns]"
      ]
     },
     "execution_count": 36,
     "metadata": {},
     "output_type": "execute_result"
    }
   ],
   "source": [
    "low_rated_engagement"
   ]
  },
  {
   "cell_type": "code",
   "execution_count": 37,
   "id": "8dd3147e-7281-49e4-960e-2a6d747fd43c",
   "metadata": {},
   "outputs": [],
   "source": [
    "time_rating = pd.read_sql_query(f\"\"\"\n",
    "SELECT strftime('%m-%Y', date) AS month_year, AVG(stars) as avg_rating\n",
    "FROM review\n",
    "WHERE business_id IN {tuple(business_id['business_id'])}\n",
    "GROUP BY month_year\n",
    "ORDER BY month_year\n",
    ";\"\"\", conn)"
   ]
  },
  {
   "cell_type": "code",
   "execution_count": 38,
   "id": "82530260-bf73-4bff-88ec-af1b5c3dd219",
   "metadata": {},
   "outputs": [
    {
     "data": {
      "text/html": [
       "<div>\n",
       "<style scoped>\n",
       "    .dataframe tbody tr th:only-of-type {\n",
       "        vertical-align: middle;\n",
       "    }\n",
       "\n",
       "    .dataframe tbody tr th {\n",
       "        vertical-align: top;\n",
       "    }\n",
       "\n",
       "    .dataframe thead th {\n",
       "        text-align: right;\n",
       "    }\n",
       "</style>\n",
       "<table border=\"1\" class=\"dataframe\">\n",
       "  <thead>\n",
       "    <tr style=\"text-align: right;\">\n",
       "      <th></th>\n",
       "      <th>month_year</th>\n",
       "      <th>avg_rating</th>\n",
       "    </tr>\n",
       "  </thead>\n",
       "  <tbody>\n",
       "    <tr>\n",
       "      <th>0</th>\n",
       "      <td>01-2006</td>\n",
       "      <td>4.333333</td>\n",
       "    </tr>\n",
       "    <tr>\n",
       "      <th>1</th>\n",
       "      <td>01-2007</td>\n",
       "      <td>3.500000</td>\n",
       "    </tr>\n",
       "    <tr>\n",
       "      <th>2</th>\n",
       "      <td>01-2008</td>\n",
       "      <td>3.200000</td>\n",
       "    </tr>\n",
       "    <tr>\n",
       "      <th>3</th>\n",
       "      <td>01-2009</td>\n",
       "      <td>3.500000</td>\n",
       "    </tr>\n",
       "    <tr>\n",
       "      <th>4</th>\n",
       "      <td>01-2010</td>\n",
       "      <td>3.819672</td>\n",
       "    </tr>\n",
       "    <tr>\n",
       "      <th>...</th>\n",
       "      <td>...</td>\n",
       "      <td>...</td>\n",
       "    </tr>\n",
       "    <tr>\n",
       "      <th>139</th>\n",
       "      <td>12-2013</td>\n",
       "      <td>3.391304</td>\n",
       "    </tr>\n",
       "    <tr>\n",
       "      <th>140</th>\n",
       "      <td>12-2014</td>\n",
       "      <td>3.447115</td>\n",
       "    </tr>\n",
       "    <tr>\n",
       "      <th>141</th>\n",
       "      <td>12-2015</td>\n",
       "      <td>3.638686</td>\n",
       "    </tr>\n",
       "    <tr>\n",
       "      <th>142</th>\n",
       "      <td>12-2016</td>\n",
       "      <td>3.642570</td>\n",
       "    </tr>\n",
       "    <tr>\n",
       "      <th>143</th>\n",
       "      <td>12-2017</td>\n",
       "      <td>3.748130</td>\n",
       "    </tr>\n",
       "  </tbody>\n",
       "</table>\n",
       "<p>144 rows × 2 columns</p>\n",
       "</div>"
      ],
      "text/plain": [
       "    month_year  avg_rating\n",
       "0      01-2006    4.333333\n",
       "1      01-2007    3.500000\n",
       "2      01-2008    3.200000\n",
       "3      01-2009    3.500000\n",
       "4      01-2010    3.819672\n",
       "..         ...         ...\n",
       "139    12-2013    3.391304\n",
       "140    12-2014    3.447115\n",
       "141    12-2015    3.638686\n",
       "142    12-2016    3.642570\n",
       "143    12-2017    3.748130\n",
       "\n",
       "[144 rows x 2 columns]"
      ]
     },
     "execution_count": 38,
     "metadata": {},
     "output_type": "execute_result"
    }
   ],
   "source": [
    "time_rating"
   ]
  },
  {
   "cell_type": "code",
   "execution_count": 39,
   "id": "e9f41e64-4845-4fde-99d1-3c9ddb05182c",
   "metadata": {},
   "outputs": [],
   "source": [
    "time_rating['month_year'] = pd.to_datetime(time_rating['month_year'], format='%m-%Y')\n",
    "time_rating.sort_values('month_year', inplace=True)\n",
    "time_rating = time_rating[time_rating['month_year'] > '2013'].copy()  # Add .copy()\n",
    "\n",
    "high_rated_engagement['month_year'] = pd.to_datetime(high_rated_engagement['month_year'], format='%m-%Y')\n",
    "high_rated_engagement.sort_values('month_year', inplace=True)\n",
    "high_rated_engagement = high_rated_engagement[high_rated_engagement['month_year'] > '2013'].copy()  # Add .copy()\n",
    "\n",
    "low_rated_engagement['month_year'] = pd.to_datetime(low_rated_engagement['month_year'], format='%m-%Y')\n",
    "low_rated_engagement.sort_values('month_year', inplace=True)\n",
    "low_rated_engagement = low_rated_engagement[low_rated_engagement['month_year'] > '2013'].copy()  # Add .copy()\n"
   ]
  },
  {
   "cell_type": "code",
   "execution_count": 40,
   "id": "a12c7db1-2998-4e73-885b-2aea3beda53c",
   "metadata": {},
   "outputs": [],
   "source": [
    "high_rated_engagement['avg_rating'] = time_rating['avg_rating'].values\n"
   ]
  },
  {
   "cell_type": "code",
   "execution_count": 41,
   "id": "5ce4a9ae-dd2b-4cf9-a73b-cfc2cd9bfff0",
   "metadata": {},
   "outputs": [
    {
     "data": {
      "image/png": "[encoded data removed]",
      "text/plain": [
       "<Figure size 1500x800 with 3 Axes>"
      ]
     },
     "metadata": {},
     "output_type": "display_data"
    }
   ],
   "source": [
    "plt.figure(figsize = (15,8))\n",
    "\n",
    "plt.subplot(3,1,1)\n",
    "plt.title('Tip Engagement Over Time')\n",
    "plt.plot(high_rated_engagement['month_year'], high_rated_engagement['tip_count'], label = 'High Rated', color = '#E54F29')\n",
    "plt.plot(low_rated_engagement['month_year'], low_rated_engagement['tip_count'], label = 'Low Rated', color = '#F8862C')\n",
    "plt.legend()\n",
    "\n",
    "plt.subplot(3,1,2)\n",
    "plt.title('Review Engagement Over Time')\n",
    "plt.plot(high_rated_engagement['month_year'], high_rated_engagement['review_count'], label = 'High Rated', color = '#E54F29')\n",
    "plt.plot(low_rated_engagement['month_year'], low_rated_engagement['review_count'], label = 'Low Rated', color = '#F8862C')\n",
    "plt.legend()\n",
    "\n",
    "plt.subplot(3,1,3)\n",
    "plt.title('Avg Rating Over Time')\n",
    "plt.plot(time_rating['month_year'], time_rating['avg_rating'], color = '#E54F29')\n",
    "\n",
    "plt.tight_layout()\n",
    "plt.show()\n"
   ]
  },
  {
   "cell_type": "markdown",
   "id": "ea7667ac-f62a-40ce-a3d8-752fb8938245",
   "metadata": {},
   "source": [
    "- Businesses that are more successful, especially those with ratings above 3.5, tend to show stable or steadily increasing user interaction over time.\n",
    "\n",
    "- Restaurants with higher ratings often experience sustained or improving levels of engagement, indicating strong customer interest and satisfaction throughout the years."
   ]
  },
  {
   "cell_type": "code",
   "execution_count": 42,
   "id": "14b11b16-7a68-4375-9401-083eac218485",
   "metadata": {},
   "outputs": [],
   "source": [
    "tip_high_rated = high_rated_engagement[['month_year','tip_count']].set_index('month_year')\n",
    "review_high_rated = high_rated_engagement[['month_year','review_count']].set_index('month_year')\n",
    "rating_df = time_rating[['month_year','avg_rating']].set_index('month_year')\n"
   ]
  },
  {
   "cell_type": "code",
   "execution_count": 43,
   "id": "ec904497-01c4-42b4-9c2c-4996bdf53a76",
   "metadata": {},
   "outputs": [
    {
     "name": "stdout",
     "output_type": "stream",
     "text": [
      "Requirement already satisfied: statsmodels in c:\\users\\anush\\appdata\\local\\programs\\python\\python313\\lib\\site-packages (0.14.5)\n",
      "Requirement already satisfied: numpy<3,>=1.22.3 in c:\\users\\anush\\appdata\\local\\programs\\python\\python313\\lib\\site-packages (from statsmodels) (2.3.3)\n",
      "Requirement already satisfied: scipy!=1.9.2,>=1.8 in c:\\users\\anush\\appdata\\local\\programs\\python\\python313\\lib\\site-packages (from statsmodels) (1.16.2)\n",
      "Requirement already satisfied: pandas!=2.1.0,>=1.4 in c:\\users\\anush\\appdata\\local\\programs\\python\\python313\\lib\\site-packages (from statsmodels) (2.3.2)\n",
      "Requirement already satisfied: patsy>=0.5.6 in c:\\users\\anush\\appdata\\local\\programs\\python\\python313\\lib\\site-packages (from statsmodels) (1.0.1)\n",
      "Requirement already satisfied: packaging>=21.3 in c:\\users\\anush\\appdata\\local\\programs\\python\\python313\\lib\\site-packages (from statsmodels) (25.0)\n",
      "Requirement already satisfied: python-dateutil>=2.8.2 in c:\\users\\anush\\appdata\\local\\programs\\python\\python313\\lib\\site-packages (from pandas!=2.1.0,>=1.4->statsmodels) (2.9.0.post0)\n",
      "Requirement already satisfied: pytz>=2020.1 in c:\\users\\anush\\appdata\\local\\programs\\python\\python313\\lib\\site-packages (from pandas!=2.1.0,>=1.4->statsmodels) (2025.2)\n",
      "Requirement already satisfied: tzdata>=2022.7 in c:\\users\\anush\\appdata\\local\\programs\\python\\python313\\lib\\site-packages (from pandas!=2.1.0,>=1.4->statsmodels) (2025.2)\n",
      "Requirement already satisfied: six>=1.5 in c:\\users\\anush\\appdata\\local\\programs\\python\\python313\\lib\\site-packages (from python-dateutil>=2.8.2->pandas!=2.1.0,>=1.4->statsmodels) (1.17.0)\n"
     ]
    }
   ],
   "source": [
    "!pip install statsmodels\n"
   ]
  },
  {
   "cell_type": "code",
   "execution_count": 44,
   "id": "2afb7688-1821-46ab-9887-a5bb4096d868",
   "metadata": {},
   "outputs": [
    {
     "data": {
      "image/png": "[encoded data removed]",
      "text/plain": [
       "<Figure size 1600x1200 with 4 Axes>"
      ]
     },
     "metadata": {},
     "output_type": "display_data"
    }
   ],
   "source": [
    "from statsmodels.tsa.seasonal import seasonal_decompose\n",
    "\n",
    "multiplicative_decomposition = seasonal_decompose(tip_high_rated,\n",
    "                                                  model='multiplicative',period=12)\n",
    "\n",
    "plt.rcParams.update({'figure.figsize': (16, 12)})\n",
    "multiplicative_decomposition.plot()\n",
    "plt.show()\n"
   ]
  },
  {
   "cell_type": "code",
   "execution_count": 45,
   "id": "a1841579-5152-402e-808a-9f65b5039755",
   "metadata": {},
   "outputs": [
    {
     "data": {
      "image/png": "[encoded data removed]",
      "text/plain": [
       "<Figure size 1600x1200 with 2 Axes>"
      ]
     },
     "metadata": {},
     "output_type": "display_data"
    }
   ],
   "source": [
    "# How does the sentiment of reviews and tips (useful, funny, cool) correlate with the success metrics of restaurants?\n",
    "sentiment_df = pd.read_sql_query(f\"\"\"SELECT b.business_id, AVG(b.stars) as avg_rating, SUM(b.review_count) as review_count, \n",
    "SUM(s.useful_count) as useful_count,\n",
    "SUM(s.funny_count) as funny_count,\n",
    "SUM(s.cool_count) as cool_count\n",
    "FROM\n",
    "    (SELECT business_id,\n",
    "        SUM(useful) as useful_count,\n",
    "        SUM(funny) as funny_count,\n",
    "        SUM(cool) as cool_count\n",
    "    FROM\n",
    "        review\n",
    "    GROUP BY business_id) as s\n",
    "JOIN business as b on b.business_id = s.business_id\n",
    "\n",
    "WHERE b.business_id IN {tuple(business_id['business_id'])}\n",
    "GROUP BY b.business_id \n",
    "ORDER BY review_count\"\"\",conn)\n",
    "\n",
    "sentiment_df = remove_outliers(sentiment_df,'review_count')\n",
    "sentiment_df = remove_outliers(sentiment_df,'useful_count')\n",
    "sentiment_df = remove_outliers(sentiment_df,'funny_count')\n",
    "sentiment_df = remove_outliers(sentiment_df,'cool_count')\n",
    "\n",
    "sentiment_df['success_score'] = calculate_success_metric(sentiment_df)\n",
    "\n",
    "sns.heatmap(sentiment_df.iloc[:,2:].corr(), cmap = custom_cmap, annot = True, linewidths=0.5, linecolor = 'black')\n",
    "\n",
    "plt.show()\n"
   ]
  },
  {
   "cell_type": "markdown",
   "id": "d5be6f6a-ebcd-4ce7-9f9d-eeb93f7f2258",
   "metadata": {},
   "source": [
    "- User reviews often include labels like “useful,” “funny,” and “cool,” which reflect how users perceive the helpfulness, entertainment value, or appeal of the feedback.\n",
    "\n",
    "- A larger number of reviews marked as useful, funny, or cool indicates increased customer interaction and satisfaction—important elements that can boost a restaurant’s overall success.\n"
   ]
  },
  {
   "cell_type": "code",
   "execution_count": 46,
   "id": "bb03afcf-482e-4549-9c2a-6ac88e033031",
   "metadata": {},
   "outputs": [
    {
     "data": {
      "text/html": [
       "<div>\n",
       "<style scoped>\n",
       "    .dataframe tbody tr th:only-of-type {\n",
       "        vertical-align: middle;\n",
       "    }\n",
       "\n",
       "    .dataframe tbody tr th {\n",
       "        vertical-align: top;\n",
       "    }\n",
       "\n",
       "    .dataframe thead th {\n",
       "        text-align: right;\n",
       "    }\n",
       "</style>\n",
       "<table border=\"1\" class=\"dataframe\">\n",
       "  <thead>\n",
       "    <tr style=\"text-align: right;\">\n",
       "      <th></th>\n",
       "      <th>elite</th>\n",
       "      <th>num_users</th>\n",
       "      <th>total_review_count</th>\n",
       "    </tr>\n",
       "  </thead>\n",
       "  <tbody>\n",
       "    <tr>\n",
       "      <th>0</th>\n",
       "      <td>Elite</td>\n",
       "      <td>91198</td>\n",
       "      <td>20484441</td>\n",
       "    </tr>\n",
       "    <tr>\n",
       "      <th>1</th>\n",
       "      <td>Not Elite</td>\n",
       "      <td>1896699</td>\n",
       "      <td>26021235</td>\n",
       "    </tr>\n",
       "  </tbody>\n",
       "</table>\n",
       "</div>"
      ],
      "text/plain": [
       "       elite  num_users  total_review_count\n",
       "0      Elite      91198            20484441\n",
       "1  Not Elite    1896699            26021235"
      ]
     },
     "execution_count": 46,
     "metadata": {},
     "output_type": "execute_result"
    }
   ],
   "source": [
    "# Is there any difference in engagement of elite users and non elite users?\n",
    "elite_df = pd.read_sql_query(\"\"\"SELECT\n",
    "    elite,\n",
    "    COUNT(*) as num_users,\n",
    "    SUM(review_count) AS total_review_count\n",
    "FROM\n",
    "    (SELECT\n",
    "        CASE\n",
    "            WHEN elite = '' THEN 'Not Elite'\n",
    "            ELSE 'Elite'\n",
    "        END AS elite,\n",
    "        u.review_count\n",
    "    FROM\n",
    "        user u) AS user_elite\n",
    "GROUP BY\n",
    "    elite;\n",
    "\"\"\", conn)\n",
    "\n",
    "elite_df\n"
   ]
  },
  {
   "cell_type": "code",
   "execution_count": 47,
   "id": "00399a3f-d298-4794-90fe-8c0992d8ce22",
   "metadata": {},
   "outputs": [
    {
     "data": {
      "image/png": "[encoded data removed]",
      "text/plain": [
       "<Figure size 1000x600 with 2 Axes>"
      ]
     },
     "metadata": {},
     "output_type": "display_data"
    }
   ],
   "source": [
    "plt.figure(figsize=(10,6))\n",
    "\n",
    "# User Distribution Pie Chart\n",
    "plt.subplot(1, 2, 1)\n",
    "plt.title('User Distribution')\n",
    "plt.pie(elite_df['num_users'], labels=elite_df['elite'], autopct='%.2f', startangle=180, colors=['#E54F29', '#F8862C'])\n",
    "\n",
    "# Review Distribution Pie Chart\n",
    "plt.subplot(1, 2, 2)\n",
    "plt.title('Review Distribution')\n",
    "plt.pie(elite_df['total_review_count'], labels=elite_df['elite'], autopct='%.2f', startangle=90, colors=['#E54F29', '#F8862C'])\n",
    "\n",
    "plt.show()\n",
    "\n"
   ]
  },
  {
   "cell_type": "markdown",
   "id": "63033aef-e181-46b8-9149-af3fc07b1543",
   "metadata": {},
   "source": [
    "- Yelp designates certain users as “Elite” based on their consistent, high-quality contributions and active participation on the platform.\n",
    "  \n",
    "- Even though elite users make up a small portion of the community, they account for a significant share of the overall reviews, far outweighing the input from non-elite users.\n",
    "\n",
    "- Building strong relationships with elite users can encourage repeat patronage and customer loyalty, as these users are more inclined to support businesses they trust and enjoy."
   ]
  },
  {
   "cell_type": "code",
   "execution_count": 48,
   "id": "22201abb-e11c-4b6c-b622-4cad0c46850f",
   "metadata": {},
   "outputs": [],
   "source": [
    "from datetime import datetime\n"
   ]
  },
  {
   "cell_type": "code",
   "execution_count": 49,
   "id": "7702cee7-bb60-49ca-840c-9d72477f3450",
   "metadata": {},
   "outputs": [],
   "source": [
    "# What are the busiest hours for restaurants?\n",
    "review_engagement = pd.read_sql_query(\"\"\"\n",
    "SELECT\n",
    "    cast(strftime('%H', date) as integer) as hour,\n",
    "    COUNT(*) AS review_count\n",
    "FROM\n",
    "    review\n",
    "GROUP BY\n",
    "    hour;\n",
    "\"\"\", conn)\n",
    "\n",
    "tip_engagement = pd.read_sql_query(f\"\"\"\n",
    "SELECT\n",
    "    cast(strftime('%H', date) as integer) as hour,\n",
    "    COUNT(*) AS tip_count\n",
    "FROM\n",
    "    tip\n",
    "GROUP BY\n",
    "    hour;\n",
    "\"\"\", conn)\n",
    "\n",
    "checkin = pd.read_sql_query(\"\"\"SELECT date FROM checkin\"\"\", conn)\n",
    "checkin_engagement = []\n",
    "for i in checkin['date']:\n",
    "    checkin_engagement.extend([\n",
    "        datetime.strptime(j.strip(), \"%Y-%m-%d %H:%M:%S\").strftime(\"%H\") \n",
    "        for j in i.split(',')\n",
    "    ])\n",
    "checkin_engagement = pd.DataFrame(checkin_engagement).astype('int').groupby(0)[0].count()\n"
   ]
  },
  {
   "cell_type": "code",
   "execution_count": 50,
   "id": "96a5b5a6-ca59-4d96-bdce-ccef47034ff4",
   "metadata": {},
   "outputs": [
    {
     "data": {
      "image/png": "[encoded data removed]",
      "text/plain": [
       "<Figure size 1000x600 with 3 Axes>"
      ]
     },
     "metadata": {},
     "output_type": "display_data"
    }
   ],
   "source": [
    "plt.figure(figsize = (10,6))\n",
    "plt.subplot(3,1,1)\n",
    "plt.title('Tip Engagement')\n",
    "plt.bar(tip_engagement['hour'],tip_engagement['tip_count'], color = '#E54F29')\n",
    "\n",
    "plt.subplot(3,1,2)\n",
    "plt.title('Review Engagement')\n",
    "plt.bar(review_engagement['hour'],review_engagement['review_count'], color = '#F8862C')\n",
    "\n",
    "plt.subplot(3,1,3)\n",
    "plt.title('Checkin Engagement')\n",
    "plt.bar(checkin_engagement.index,checkin_engagement[0], color = '#CB754B')\n",
    "\n",
    "plt.tight_layout()\n",
    "plt.show()\n"
   ]
  },
  {
   "cell_type": "markdown",
   "id": "12448ae6-a5a8-4a70-96d2-b016ea2fc3a4",
   "metadata": {},
   "source": [
    "### **Busiest Hours**\n",
    "\n",
    "- Restaurants experience the highest levels of user engagement between 4 pm and 1 am, marking these as their peak operating hours.\n",
    "- Identifying these busy periods helps businesses adjust staffing and resource planning to maintain smooth operations and deliver superior service\n",
    "- The increased activity in the evening and nighttime likely reflects greater dining demand influenced by work hours, social events, and recreational pursuits.\n"
   ]
  },
  {
   "cell_type": "code",
   "execution_count": 1,
   "id": "6f22463d-63ec-4a5b-af6b-ed2715f2c73c",
   "metadata": {},
   "outputs": [
    {
     "name": "stdout",
     "output_type": "stream",
     "text": [
      "File exists!\n"
     ]
    }
   ],
   "source": [
    "import os\n",
    "\n",
    "file_path = 'D:/yelp_project/yelp_academic_dataset_review.json'\n",
    "\n",
    "if os.path.exists(file_path):\n",
    "    print(\"File exists!\")\n",
    "else:\n",
    "    print(\"File does NOT exist!\")\n"
   ]
  },
  {
   "cell_type": "code",
   "execution_count": 2,
   "id": "2e75afcc-6d65-4a5c-a51e-0ef91bf485ec",
   "metadata": {},
   "outputs": [
    {
     "name": "stdout",
     "output_type": "stream",
     "text": [
      "Dataset loaded successfully!\n",
      "                review_id                 user_id             business_id  \\\n",
      "0  KU_O5udG6zpxOg-VcAEodg  mh_-eMZ6K5RLWhZyISBhwA  XQfwVwDr-v0ZS3_CbbE5Xw   \n",
      "1  BiTunyQ73aT9WBnpR9DZGw  OyoGAe7OKpv6SyGZT5g77Q  7ATYjTIgM3jUlt4UM3IypQ   \n",
      "2  saUsX_uimxRlCVr67Z4Jig  8g_iMtfSiwikVnbP2etR0A  YjUWPpI6HXG530lwP-fb2A   \n",
      "3  AqPFMleE6RsU23_auESxiA  _7bHUi9Uuf5__HHc_Q8guQ  kxX2SOes4o-D3ZQBkiMRfA   \n",
      "4  Sx8TMOWLNuJBWer-0pcmoA  bcjbaE6dDog4jkNY91ncLQ  e4Vwtrqf-wpJfwesgvdgxQ   \n",
      "\n",
      "   stars  useful  funny  cool  \\\n",
      "0      3       0      0     0   \n",
      "1      5       1      0     1   \n",
      "2      3       0      0     0   \n",
      "3      5       1      0     1   \n",
      "4      4       1      0     1   \n",
      "\n",
      "                                                text                date  \n",
      "0  If you decide to eat here, just be aware it is... 2018-07-07 22:09:11  \n",
      "1  I've taken a lot of spin classes over the year... 2012-01-03 15:28:18  \n",
      "2  Family diner. Had the buffet. Eclectic assortm... 2014-02-05 20:30:30  \n",
      "3  Wow!  Yummy, different,  delicious.   Our favo... 2015-01-04 00:01:03  \n",
      "4  Cute interior and owner (?) gave us tour of up... 2017-01-14 20:54:15  \n"
     ]
    }
   ],
   "source": [
    "import pandas as pd\n",
    "\n",
    "file_path = 'D:/yelp_project/yelp_academic_dataset_review.json'\n",
    "\n",
    "# Try reading only the first 10 lines to check if it loads\n",
    "review_df = pd.read_json(file_path, lines=True, nrows=10)\n",
    "\n",
    "print(\"Dataset loaded successfully!\")\n",
    "print(review_df.head())\n"
   ]
  },
  {
   "cell_type": "code",
   "execution_count": 4,
   "id": "d96fd1ac-25e1-41ea-b341-2c5bbe04fb81",
   "metadata": {},
   "outputs": [
    {
     "name": "stderr",
     "output_type": "stream",
     "text": [
      "[nltk_data] Downloading package vader_lexicon to\n",
      "[nltk_data]     C:\\Users\\anush\\AppData\\Roaming\\nltk_data...\n",
      "[nltk_data]   Package vader_lexicon is already up-to-date!\n"
     ]
    },
    {
     "data": {
      "application/vnd.plotly.v1+json": {
       "config": {
        "plotlyServerURL": "https://plot.ly"
       },
       "data": [
        {
         "hovertemplate": "Sentiment=%{x}<br>Count=%{y}<extra></extra>",
         "legendgroup": "",
         "marker": {
          "color": "#636efa",
          "pattern": {
           "shape": ""
          }
         },
         "name": "",
         "orientation": "v",
         "showlegend": false,
         "textposition": "auto",
         "type": "bar",
         "x": [
          "Positive",
          "Negative",
          "Neutral"
         ],
         "xaxis": "x",
         "y": {
          "bdata": "SCKCBEYA",
          "dtype": "i2"
         },
         "yaxis": "y"
        }
       ],
       "layout": {
        "barmode": "relative",
        "legend": {
         "tracegroupgap": 0
        },
        "template": {
         "data": {
          "bar": [
           {
            "error_x": {
             "color": "#2a3f5f"
            },
            "error_y": {
             "color": "#2a3f5f"
            },
            "marker": {
             "line": {
              "color": "#E5ECF6",
              "width": 0.5
             },
             "pattern": {
              "fillmode": "overlay",
              "size": 10,
              "solidity": 0.2
             }
            },
            "type": "bar"
           }
          ],
          "barpolar": [
           {
            "marker": {
             "line": {
              "color": "#E5ECF6",
              "width": 0.5
             },
             "pattern": {
              "fillmode": "overlay",
              "size": 10,
              "solidity": 0.2
             }
            },
            "type": "barpolar"
           }
          ],
          "carpet": [
           {
            "aaxis": {
             "endlinecolor": "#2a3f5f",
             "gridcolor": "white",
             "linecolor": "white",
             "minorgridcolor": "white",
             "startlinecolor": "#2a3f5f"
            },
            "baxis": {
             "endlinecolor": "#2a3f5f",
             "gridcolor": "white",
             "linecolor": "white",
             "minorgridcolor": "white",
             "startlinecolor": "#2a3f5f"
            },
            "type": "carpet"
           }
          ],
          "choropleth": [
           {
            "colorbar": {
             "outlinewidth": 0,
             "ticks": ""
            },
            "type": "choropleth"
           }
          ],
          "contour": [
           {
            "colorbar": {
             "outlinewidth": 0,
             "ticks": ""
            },
            "colorscale": [
             [
              0,
              "#0d0887"
             ],
             [
              0.1111111111111111,
              "#46039f"
             ],
             [
              0.2222222222222222,
              "#7201a8"
             ],
             [
              0.3333333333333333,
              "#9c179e"
             ],
             [
              0.4444444444444444,
              "#bd3786"
             ],
             [
              0.5555555555555556,
              "#d8576b"
             ],
             [
              0.6666666666666666,
              "#ed7953"
             ],
             [
              0.7777777777777778,
              "#fb9f3a"
             ],
             [
              0.8888888888888888,
              "#fdca26"
             ],
             [
              1,
              "#f0f921"
             ]
            ],
            "type": "contour"
           }
          ],
          "contourcarpet": [
           {
            "colorbar": {
             "outlinewidth": 0,
             "ticks": ""
            },
            "type": "contourcarpet"
           }
          ],
          "heatmap": [
           {
            "colorbar": {
             "outlinewidth": 0,
             "ticks": ""
            },
            "colorscale": [
             [
              0,
              "#0d0887"
             ],
             [
              0.1111111111111111,
              "#46039f"
             ],
             [
              0.2222222222222222,
              "#7201a8"
             ],
             [
              0.3333333333333333,
              "#9c179e"
             ],
             [
              0.4444444444444444,
              "#bd3786"
             ],
             [
              0.5555555555555556,
              "#d8576b"
             ],
             [
              0.6666666666666666,
              "#ed7953"
             ],
             [
              0.7777777777777778,
              "#fb9f3a"
             ],
             [
              0.8888888888888888,
              "#fdca26"
             ],
             [
              1,
              "#f0f921"
             ]
            ],
            "type": "heatmap"
           }
          ],
          "histogram": [
           {
            "marker": {
             "pattern": {
              "fillmode": "overlay",
              "size": 10,
              "solidity": 0.2
             }
            },
            "type": "histogram"
           }
          ],
          "histogram2d": [
           {
            "colorbar": {
             "outlinewidth": 0,
             "ticks": ""
            },
            "colorscale": [
             [
              0,
              "#0d0887"
             ],
             [
              0.1111111111111111,
              "#46039f"
             ],
             [
              0.2222222222222222,
              "#7201a8"
             ],
             [
              0.3333333333333333,
              "#9c179e"
             ],
             [
              0.4444444444444444,
              "#bd3786"
             ],
             [
              0.5555555555555556,
              "#d8576b"
             ],
             [
              0.6666666666666666,
              "#ed7953"
             ],
             [
              0.7777777777777778,
              "#fb9f3a"
             ],
             [
              0.8888888888888888,
              "#fdca26"
             ],
             [
              1,
              "#f0f921"
             ]
            ],
            "type": "histogram2d"
           }
          ],
          "histogram2dcontour": [
           {
            "colorbar": {
             "outlinewidth": 0,
             "ticks": ""
            },
            "colorscale": [
             [
              0,
              "#0d0887"
             ],
             [
              0.1111111111111111,
              "#46039f"
             ],
             [
              0.2222222222222222,
              "#7201a8"
             ],
             [
              0.3333333333333333,
              "#9c179e"
             ],
             [
              0.4444444444444444,
              "#bd3786"
             ],
             [
              0.5555555555555556,
              "#d8576b"
             ],
             [
              0.6666666666666666,
              "#ed7953"
             ],
             [
              0.7777777777777778,
              "#fb9f3a"
             ],
             [
              0.8888888888888888,
              "#fdca26"
             ],
             [
              1,
              "#f0f921"
             ]
            ],
            "type": "histogram2dcontour"
           }
          ],
          "mesh3d": [
           {
            "colorbar": {
             "outlinewidth": 0,
             "ticks": ""
            },
            "type": "mesh3d"
           }
          ],
          "parcoords": [
           {
            "line": {
             "colorbar": {
              "outlinewidth": 0,
              "ticks": ""
             }
            },
            "type": "parcoords"
           }
          ],
          "pie": [
           {
            "automargin": true,
            "type": "pie"
           }
          ],
          "scatter": [
           {
            "fillpattern": {
             "fillmode": "overlay",
             "size": 10,
             "solidity": 0.2
            },
            "type": "scatter"
           }
          ],
          "scatter3d": [
           {
            "line": {
             "colorbar": {
              "outlinewidth": 0,
              "ticks": ""
             }
            },
            "marker": {
             "colorbar": {
              "outlinewidth": 0,
              "ticks": ""
             }
            },
            "type": "scatter3d"
           }
          ],
          "scattercarpet": [
           {
            "marker": {
             "colorbar": {
              "outlinewidth": 0,
              "ticks": ""
             }
            },
            "type": "scattercarpet"
           }
          ],
          "scattergeo": [
           {
            "marker": {
             "colorbar": {
              "outlinewidth": 0,
              "ticks": ""
             }
            },
            "type": "scattergeo"
           }
          ],
          "scattergl": [
           {
            "marker": {
             "colorbar": {
              "outlinewidth": 0,
              "ticks": ""
             }
            },
            "type": "scattergl"
           }
          ],
          "scattermap": [
           {
            "marker": {
             "colorbar": {
              "outlinewidth": 0,
              "ticks": ""
             }
            },
            "type": "scattermap"
           }
          ],
          "scattermapbox": [
           {
            "marker": {
             "colorbar": {
              "outlinewidth": 0,
              "ticks": ""
             }
            },
            "type": "scattermapbox"
           }
          ],
          "scatterpolar": [
           {
            "marker": {
             "colorbar": {
              "outlinewidth": 0,
              "ticks": ""
             }
            },
            "type": "scatterpolar"
           }
          ],
          "scatterpolargl": [
           {
            "marker": {
             "colorbar": {
              "outlinewidth": 0,
              "ticks": ""
             }
            },
            "type": "scatterpolargl"
           }
          ],
          "scatterternary": [
           {
            "marker": {
             "colorbar": {
              "outlinewidth": 0,
              "ticks": ""
             }
            },
            "type": "scatterternary"
           }
          ],
          "surface": [
           {
            "colorbar": {
             "outlinewidth": 0,
             "ticks": ""
            },
            "colorscale": [
             [
              0,
              "#0d0887"
             ],
             [
              0.1111111111111111,
              "#46039f"
             ],
             [
              0.2222222222222222,
              "#7201a8"
             ],
             [
              0.3333333333333333,
              "#9c179e"
             ],
             [
              0.4444444444444444,
              "#bd3786"
             ],
             [
              0.5555555555555556,
              "#d8576b"
             ],
             [
              0.6666666666666666,
              "#ed7953"
             ],
             [
              0.7777777777777778,
              "#fb9f3a"
             ],
             [
              0.8888888888888888,
              "#fdca26"
             ],
             [
              1,
              "#f0f921"
             ]
            ],
            "type": "surface"
           }
          ],
          "table": [
           {
            "cells": {
             "fill": {
              "color": "#EBF0F8"
             },
             "line": {
              "color": "white"
             }
            },
            "header": {
             "fill": {
              "color": "#C8D4E3"
             },
             "line": {
              "color": "white"
             }
            },
            "type": "table"
           }
          ]
         },
         "layout": {
          "annotationdefaults": {
           "arrowcolor": "#2a3f5f",
           "arrowhead": 0,
           "arrowwidth": 1
          },
          "autotypenumbers": "strict",
          "coloraxis": {
           "colorbar": {
            "outlinewidth": 0,
            "ticks": ""
           }
          },
          "colorscale": {
           "diverging": [
            [
             0,
             "#8e0152"
            ],
            [
             0.1,
             "#c51b7d"
            ],
            [
             0.2,
             "#de77ae"
            ],
            [
             0.3,
             "#f1b6da"
            ],
            [
             0.4,
             "#fde0ef"
            ],
            [
             0.5,
             "#f7f7f7"
            ],
            [
             0.6,
             "#e6f5d0"
            ],
            [
             0.7,
             "#b8e186"
            ],
            [
             0.8,
             "#7fbc41"
            ],
            [
             0.9,
             "#4d9221"
            ],
            [
             1,
             "#276419"
            ]
           ],
           "sequential": [
            [
             0,
             "#0d0887"
            ],
            [
             0.1111111111111111,
             "#46039f"
            ],
            [
             0.2222222222222222,
             "#7201a8"
            ],
            [
             0.3333333333333333,
             "#9c179e"
            ],
            [
             0.4444444444444444,
             "#bd3786"
            ],
            [
             0.5555555555555556,
             "#d8576b"
            ],
            [
             0.6666666666666666,
             "#ed7953"
            ],
            [
             0.7777777777777778,
             "#fb9f3a"
            ],
            [
             0.8888888888888888,
             "#fdca26"
            ],
            [
             1,
             "#f0f921"
            ]
           ],
           "sequentialminus": [
            [
             0,
             "#0d0887"
            ],
            [
             0.1111111111111111,
             "#46039f"
            ],
            [
             0.2222222222222222,
             "#7201a8"
            ],
            [
             0.3333333333333333,
             "#9c179e"
            ],
            [
             0.4444444444444444,
             "#bd3786"
            ],
            [
             0.5555555555555556,
             "#d8576b"
            ],
            [
             0.6666666666666666,
             "#ed7953"
            ],
            [
             0.7777777777777778,
             "#fb9f3a"
            ],
            [
             0.8888888888888888,
             "#fdca26"
            ],
            [
             1,
             "#f0f921"
            ]
           ]
          },
          "colorway": [
           "#636efa",
           "#EF553B",
           "#00cc96",
           "#ab63fa",
           "#FFA15A",
           "#19d3f3",
           "#FF6692",
           "#B6E880",
           "#FF97FF",
           "#FECB52"
          ],
          "font": {
           "color": "#2a3f5f"
          },
          "geo": {
           "bgcolor": "white",
           "lakecolor": "white",
           "landcolor": "#E5ECF6",
           "showlakes": true,
           "showland": true,
           "subunitcolor": "white"
          },
          "hoverlabel": {
           "align": "left"
          },
          "hovermode": "closest",
          "mapbox": {
           "style": "light"
          },
          "paper_bgcolor": "white",
          "plot_bgcolor": "#E5ECF6",
          "polar": {
           "angularaxis": {
            "gridcolor": "white",
            "linecolor": "white",
            "ticks": ""
           },
           "bgcolor": "#E5ECF6",
           "radialaxis": {
            "gridcolor": "white",
            "linecolor": "white",
            "ticks": ""
           }
          },
          "scene": {
           "xaxis": {
            "backgroundcolor": "#E5ECF6",
            "gridcolor": "white",
            "gridwidth": 2,
            "linecolor": "white",
            "showbackground": true,
            "ticks": "",
            "zerolinecolor": "white"
           },
           "yaxis": {
            "backgroundcolor": "#E5ECF6",
            "gridcolor": "white",
            "gridwidth": 2,
            "linecolor": "white",
            "showbackground": true,
            "ticks": "",
            "zerolinecolor": "white"
           },
           "zaxis": {
            "backgroundcolor": "#E5ECF6",
            "gridcolor": "white",
            "gridwidth": 2,
            "linecolor": "white",
            "showbackground": true,
            "ticks": "",
            "zerolinecolor": "white"
           }
          },
          "shapedefaults": {
           "line": {
            "color": "#2a3f5f"
           }
          },
          "ternary": {
           "aaxis": {
            "gridcolor": "white",
            "linecolor": "white",
            "ticks": ""
           },
           "baxis": {
            "gridcolor": "white",
            "linecolor": "white",
            "ticks": ""
           },
           "bgcolor": "#E5ECF6",
           "caxis": {
            "gridcolor": "white",
            "linecolor": "white",
            "ticks": ""
           }
          },
          "title": {
           "x": 0.05
          },
          "xaxis": {
           "automargin": true,
           "gridcolor": "white",
           "linecolor": "white",
           "ticks": "",
           "title": {
            "standoff": 15
           },
           "zerolinecolor": "white",
           "zerolinewidth": 2
          },
          "yaxis": {
           "automargin": true,
           "gridcolor": "white",
           "linecolor": "white",
           "ticks": "",
           "title": {
            "standoff": 15
           },
           "zerolinecolor": "white",
           "zerolinewidth": 2
          }
         }
        },
        "title": {
         "text": "Sentiment Analysis of Sampled Reviews"
        },
        "xaxis": {
         "anchor": "y",
         "domain": [
          0,
          1
         ],
         "title": {
          "text": "Sentiment"
         }
        },
        "yaxis": {
         "anchor": "x",
         "domain": [
          0,
          1
         ],
         "title": {
          "text": "Count"
         }
        }
       }
      },
      "image/png": "[encoded data removed]"
     },
     "metadata": {},
     "output_type": "display_data"
    }
   ],
   "source": [
    "import pandas as pd\n",
    "import plotly.express as px\n",
    "from nltk.sentiment import SentimentIntensityAnalyzer\n",
    "import nltk\n",
    "\n",
    "# Download vader_lexicon if not already done\n",
    "nltk.download('vader_lexicon')\n",
    "\n",
    "# Initialize sentiment analyzer\n",
    "sia = SentimentIntensityAnalyzer()\n",
    "\n",
    "# Path to your review JSON file\n",
    "file_path = 'D:/yelp_project/yelp_academic_dataset_review.json'\n",
    "\n",
    "# Load only a sample of rows, say 10000, for fast processing\n",
    "review_df = pd.read_json(file_path, lines=True, nrows=10000)\n",
    "\n",
    "# Initialize sentiment column\n",
    "review_df['sentiment'] = 'Neutral'\n",
    "\n",
    "# Apply sentiment analysis to each review in the sample\n",
    "for index, row in review_df.iterrows():\n",
    "    score = sia.polarity_scores(str(row['text']))['compound']\n",
    "    if score > 0:\n",
    "        review_df.at[index, 'sentiment'] = 'Positive'\n",
    "    elif score < 0:\n",
    "        review_df.at[index, 'sentiment'] = 'Negative'\n",
    "\n",
    "# Count how many reviews fall into each sentiment category\n",
    "sentiment_counts = review_df['sentiment'].value_counts().reset_index()\n",
    "sentiment_counts.columns = ['Sentiment', 'Count']\n",
    "\n",
    "# Create a bar chart using Plotly\n",
    "fig = px.bar(sentiment_counts,\n",
    "             x='Sentiment',\n",
    "             y='Count',\n",
    "             title=\"Sentiment Analysis of Sampled Reviews\")\n",
    "\n",
    "fig.show()\n"
   ]
  },
  {
   "cell_type": "markdown",
   "id": "250f2ee9-ebef-438b-aa6a-2fc1b342039a",
   "metadata": {},
   "source": [
    "# **Recommendations**\n",
    "\n",
    "- By analysing factors like user engagement, review sentiments, peak hours, and the role of elite users, businesses can make strategic decisions to enhance their performance.\n",
    "\n",
    "- Partnering with elite users and utilising their influence can strengthen marketing campaigns, boost brand visibility, and attract new customers.\n",
    "\n",
    "- Adjusting business hours or offering targeted promotions during peak times can help restaurants better meet customer demand and improve profitability.\n",
    "\n",
    "- Restaurants facing challenges should prioritise strategies that build long-term customer engagement, such as enhancing service quality and actively addressing customer feedback.\n",
    "\n",
    "- Cities with strong performance metrics offer promising opportunities for restaurant chains to expand or invest further in growth initiatives.\n",
    "\n",
    "- Analysing review sentiments helps businesses understand customer satisfaction and quickly address areas that need improvement.\n",
    "\n",
    "- Monitoring positive and negative sentiments allows restaurants to enhance their service quality and build stronger customer relationships.\n"
   ]
  },
  {
   "cell_type": "code",
   "execution_count": null,
   "id": "dba86181-4aa5-4e90-b99c-eac186b15281",
   "metadata": {},
   "outputs": [],
   "source": []
  }
 ],
 "metadata": {
  "kernelspec": {
   "display_name": "Python 3 (ipykernel)",
   "language": "python",
   "name": "python3"
  },
  "language_info": {
   "codemirror_mode": {
    "name": "ipython",
    "version": 3
   },
   "file_extension": ".py",
   "mimetype": "text/x-python",
   "name": "python",
   "nbconvert_exporter": "python",
   "pygments_lexer": "ipython3",
   "version": "3.13.7"
  }
 },
 "nbformat": 4,
 "nbformat_minor": 5
}
