{
 "cells": [
  {
   "cell_type": "code",
   "execution_count": 1,
   "id": "033e4916-615e-45f9-9334-49cc1aaa6dce",
   "metadata": {},
   "outputs": [],
   "source": [
    "import sqlite3\n",
    "import pandas as pd\n",
    "from IPython.display import display\n"
   ]
  },
  {
   "cell_type": "code",
   "execution_count": 2,
   "id": "7671bd20-774b-422e-9280-03fd23bcf0f0",
   "metadata": {},
   "outputs": [
    {
     "name": "stdout",
     "output_type": "stream",
     "text": [
      "Current Working Directory: D:\\yelp_project\n"
     ]
    }
   ],
   "source": [
    "import os\n",
    "os.chdir('D:/yelp_project/')\n",
    "print(\"Current Working Directory:\", os.getcwd())\n"
   ]
  },
  {
   "cell_type": "code",
   "execution_count": null,
   "id": "672df482-90e1-492c-972a-7add30d126be",
   "metadata": {},
   "outputs": [],
   "source": [
    "import pandas as pd\n",
    "import json\n",
    "from sqlalchemy import create_engine\n",
    "\n",
    "# Create database engine pointing to the correct location\n",
    "engine = create_engine('sqlite:///yelp.db')\n",
    "\n",
    "# Load the business dataset\n",
    "with open('yelp_academic_dataset_business.json', 'r', encoding='utf-8') as f:\n",
    "    business_data = [json.loads(line) for line in f]\n",
    "business_df = pd.DataFrame(business_data)\n",
    "\n",
    "# Drop unnecessary columns\n",
    "business_df.drop(['attributes', 'hours'], axis=1, inplace=True)\n",
    "\n",
    "# Load into the database\n",
    "business_df.to_sql('business', con=engine, if_exists='replace', index=False)\n",
    "\n",
    "print(\"Business table created successfully!\")\n"
   ]
  },
  {
   "cell_type": "code",
   "execution_count": null,
   "id": "50c5a81c-e6a7-48eb-ba22-b512784731dc",
   "metadata": {},
   "outputs": [],
   "source": [
    "# Check if the business table was created successfully\n",
    "query = \"SELECT * FROM business LIMIT 5;\"\n",
    "business_sample = pd.read_sql_query(query, engine)\n",
    "business_sample\n"
   ]
  },
  {
   "cell_type": "code",
   "execution_count": null,
   "id": "8e0375db-2024-4e98-949d-875b0d053e86",
   "metadata": {},
   "outputs": [],
   "source": [
    "# Load the checkin dataset\n",
    "conn = sqlite3.connect('yelp.db')\n",
    "\n",
    "with open('yelp_academic_dataset_checkin.json', 'r', encoding='utf-8') as f:\n",
    "    checkin_data = [json.loads(line) for line in f]\n",
    "checkin_df = pd.DataFrame(checkin_data)\n",
    "\n",
    "# Load into the database\n",
    "checkin_df.to_sql('checkin', con=conn, if_exists='replace', index=False)\n",
    "\n",
    "print(\"Checkin table created successfully!\")\n",
    "\n",
    "conn.close()\n"
   ]
  },
  {
   "cell_type": "code",
   "execution_count": null,
   "id": "29d3f0c0-3296-4be3-9739-f56eb5a610b6",
   "metadata": {},
   "outputs": [],
   "source": [
    "conn = sqlite3.connect('yelp.db')\n",
    "query = \"SELECT * FROM checkin LIMIT 5;\"\n",
    "checkin_sample = pd.read_sql_query(query, conn)\n",
    "from IPython.display import display\n",
    "display(checkin_sample)\n",
    "conn.close()\n"
   ]
  },
  {
   "cell_type": "code",
   "execution_count": null,
   "id": "247e58e3-aea2-4736-867f-7994ea218f06",
   "metadata": {},
   "outputs": [],
   "source": [
    "conn = sqlite3.connect('yelp.db')\n",
    "\n",
    "# Load only the first 100000 reviews to avoid memory issues\n",
    "review_data = []\n",
    "with open('yelp_academic_dataset_review.json', 'r', encoding='utf-8') as f:\n",
    "    for i, line in enumerate(f):\n",
    "        if i >= 100000:  # limit to first 100000 rows\n",
    "            break\n",
    "        review_data.append(json.loads(line))\n",
    "\n",
    "review_df = pd.DataFrame(review_data)\n",
    "\n",
    "# Load into the database\n",
    "review_df.to_sql('review', con=conn, if_exists='replace', index=False)\n",
    "\n",
    "print(\"Review table created successfully with 100000 rows!\")\n",
    "\n",
    "conn.close()\n"
   ]
  },
  {
   "cell_type": "code",
   "execution_count": null,
   "id": "5670d562-9e48-477e-8e78-ab8427fae801",
   "metadata": {},
   "outputs": [],
   "source": [
    "conn = sqlite3.connect('yelp.db')\n",
    "query = \"SELECT * FROM review LIMIT 5;\"\n",
    "review_sample = pd.read_sql_query(query, conn)\n",
    "from IPython.display import display\n",
    "display(review_sample)\n",
    "conn.close()\n"
   ]
  },
  {
   "cell_type": "code",
   "execution_count": null,
   "id": "597e3939-8036-449b-bb9c-c22efc959dc4",
   "metadata": {},
   "outputs": [],
   "source": [
    "conn = sqlite3.connect('yelp.db')\n",
    "\n",
    "# Load the entire tip dataset\n",
    "with open('yelp_academic_dataset_tip.json', 'r', encoding='utf-8') as f:\n",
    "    tip_data = [json.loads(line) for line in f]\n",
    "tip_df = pd.DataFrame(tip_data)\n",
    "\n",
    "# Load into the database\n",
    "tip_df.to_sql('tip', con=conn, if_exists='replace', index=False)\n",
    "\n",
    "print(\"Tip table created successfully!\")\n",
    "\n",
    "conn.close()\n"
   ]
  },
  {
   "cell_type": "code",
   "execution_count": null,
   "id": "b410596d-9daf-4acf-9c7b-bf5a30c50716",
   "metadata": {},
   "outputs": [],
   "source": [
    "conn = sqlite3.connect('yelp.db')\n",
    "query = \"SELECT * FROM tip LIMIT 5;\"\n",
    "tip_sample = pd.read_sql_query(query, conn)\n",
    "from IPython.display import display\n",
    "display(tip_sample)\n",
    "conn.close()\n"
   ]
  },
  {
   "cell_type": "code",
   "execution_count": null,
   "id": "f9c80e1c-e6fd-438c-9fc8-7964633a6707",
   "metadata": {},
   "outputs": [],
   "source": [
    "conn = sqlite3.connect('yelp.db')\n",
    "query = \"SELECT name FROM sqlite_master WHERE type='table';\"\n",
    "tables = pd.read_sql_query(query, conn)\n",
    "display(tables)\n",
    "\n",
    "# Now, let's also check if the 'user' table has rows\n",
    "query_count = \"SELECT COUNT(*) as count FROM user;\"\n",
    "try:\n",
    "    count_df = pd.read_sql_query(query_count, conn)\n",
    "    print(\"Number of rows in 'user' table:\", count_df['count'][0])\n",
    "except Exception as e:\n",
    "    print(\"Error checking user table:\", e)\n",
    "\n",
    "conn.close()\n"
   ]
  },
  {
   "cell_type": "code",
   "execution_count": 3,
   "id": "40ae123c-0c62-46b5-a13b-26dad2776794",
   "metadata": {},
   "outputs": [
    {
     "name": "stdout",
     "output_type": "stream",
     "text": [
      "Does the file exist? True\n",
      "File size (MB): 3465.3\n"
     ]
    }
   ],
   "source": [
    "import os\n",
    "\n",
    "file_path = 'D:/yelp_project/yelp.db'\n",
    "\n",
    "print(\"Does the file exist?\", os.path.isfile(file_path))\n",
    "\n",
    "if os.path.isfile(file_path):\n",
    "    print(\"File size (MB):\", round(os.path.getsize(file_path) / (1024 * 1024), 2))\n",
    "else:\n",
    "    print(\"File not found.\")\n"
   ]
  },
  {
   "cell_type": "code",
   "execution_count": 4,
   "id": "366d8cde-978b-456e-9986-ec46e3f705a8",
   "metadata": {},
   "outputs": [
    {
     "name": "stdout",
     "output_type": "stream",
     "text": [
      "Tables in database:\n"
     ]
    },
    {
     "data": {
      "text/html": [
       "<div>\n",
       "<style scoped>\n",
       "    .dataframe tbody tr th:only-of-type {\n",
       "        vertical-align: middle;\n",
       "    }\n",
       "\n",
       "    .dataframe tbody tr th {\n",
       "        vertical-align: top;\n",
       "    }\n",
       "\n",
       "    .dataframe thead th {\n",
       "        text-align: right;\n",
       "    }\n",
       "</style>\n",
       "<table border=\"1\" class=\"dataframe\">\n",
       "  <thead>\n",
       "    <tr style=\"text-align: right;\">\n",
       "      <th></th>\n",
       "      <th>name</th>\n",
       "    </tr>\n",
       "  </thead>\n",
       "  <tbody>\n",
       "    <tr>\n",
       "      <th>0</th>\n",
       "      <td>business</td>\n",
       "    </tr>\n",
       "    <tr>\n",
       "      <th>1</th>\n",
       "      <td>checkin</td>\n",
       "    </tr>\n",
       "    <tr>\n",
       "      <th>2</th>\n",
       "      <td>review</td>\n",
       "    </tr>\n",
       "    <tr>\n",
       "      <th>3</th>\n",
       "      <td>tip</td>\n",
       "    </tr>\n",
       "    <tr>\n",
       "      <th>4</th>\n",
       "      <td>user</td>\n",
       "    </tr>\n",
       "  </tbody>\n",
       "</table>\n",
       "</div>"
      ],
      "text/plain": [
       "       name\n",
       "0  business\n",
       "1   checkin\n",
       "2    review\n",
       "3       tip\n",
       "4      user"
      ]
     },
     "metadata": {},
     "output_type": "display_data"
    },
    {
     "name": "stdout",
     "output_type": "stream",
     "text": [
      "Number of rows in 'user' table:\n",
      "1987897\n"
     ]
    }
   ],
   "source": [
    "import sqlite3\n",
    "import pandas as pd\n",
    "from IPython.display import display\n",
    "\n",
    "# Connect to the database\n",
    "conn = sqlite3.connect('D:/yelp_project/yelp.db')\n",
    "\n",
    "# List all tables to confirm they are accessible\n",
    "query_tables = \"SELECT name FROM sqlite_master WHERE type='table';\"\n",
    "tables = pd.read_sql_query(query_tables, conn)\n",
    "print(\"Tables in database:\")\n",
    "display(tables)\n",
    "\n",
    "# Check the number of rows in the 'user' table\n",
    "query_count = \"SELECT COUNT(*) as count FROM user;\"\n",
    "count_df = pd.read_sql_query(query_count, conn)\n",
    "print(\"Number of rows in 'user' table:\")\n",
    "print(count_df['count'][0])\n",
    "\n",
    "conn.close()\n"
   ]
  },
  {
   "cell_type": "code",
   "execution_count": null,
   "id": "2335f6c2-896d-4159-96c9-885d75be8c09",
   "metadata": {},
   "outputs": [],
   "source": []
  }
 ],
 "metadata": {
  "kernelspec": {
   "display_name": "Python 3 (ipykernel)",
   "language": "python",
   "name": "python3"
  },
  "language_info": {
   "codemirror_mode": {
    "name": "ipython",
    "version": 3
   },
   "file_extension": ".py",
   "mimetype": "text/x-python",
   "name": "python",
   "nbconvert_exporter": "python",
   "pygments_lexer": "ipython3",
   "version": "3.13.7"
  }
 },
 "nbformat": 4,
 "nbformat_minor": 5
}
